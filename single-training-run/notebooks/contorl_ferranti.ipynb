{
 "cells": [
  {
   "cell_type": "code",
   "execution_count": 1,
   "metadata": {},
   "outputs": [],
   "source": [
    "from mlcloud import ferranti_exec, ferranti_print_logs\n",
    "\n",
    "def ferranti_exec_cpu(command):\n",
    "    sbatch_command = \"\"\"sbatch <<'EOF'\n",
    "#!/bin/bash\n",
    "#SBATCH --time=3-00:00:00  # Runtime in D-HH:MM:SS    \n",
    "#SBATCH --output=/weka/luxburg/sbordt10/logs/exec_cpu/%j.out  \n",
    "#SBATCH --error=/weka/luxburg/sbordt10/logs/exec_cpu/%j.err   \n",
    "#SBATCH --open-mode=append\n",
    "#SBATCH --job-name=ferranti-exec-cpu\n",
    "#SBATCH --partition=cpu-ferranti\n",
    "#SBATCH --nodes=1  \n",
    "#SBATCH --ntasks=1       \n",
    "#SBATCH --cpus-per-task=32    \n",
    "#SBATCH --mem=256G   \n",
    "\n",
    "scontrol show job ${SLURM_JOB_ID}\n",
    "export WANDB__SERVICE_WAIT=6000\n",
    "source activate tp-theory-new\n",
    "\"\"\"\n",
    "    ferranti_exec(sbatch_command + command + \"\\nEOF\")\n",
    "\n",
    "\n",
    "def ferranti_exec_H100(command):\n",
    "    sbatch_command = \"\"\"sbatch <<'EOF'\n",
    "#!/bin/bash\n",
    "#SBATCH --time=3-00:00:00  # Runtime in D-HH:MM:SS    \n",
    "#SBATCH --output=/weka/luxburg/sbordt10/logs/exec_h100/%j.out  \n",
    "#SBATCH --error=/weka/luxburg/sbordt10/logs/exec_h100/%j.err   \n",
    "#SBATCH --open-mode=append\n",
    "#SBATCH --job-name=ferranti-exec-h100\n",
    "#SBATCH --partition=h100-ferranti\n",
    "#SBATCH --nodes=1  \n",
    "#SBATCH --ntasks=1       \n",
    "#SBATCH --cpus-per-task=8    \n",
    "#SBATCH --mem=128G   \n",
    "#SBATCH --gres=gpu:1 \n",
    "\n",
    "scontrol show job ${SLURM_JOB_ID}\n",
    "nvidia-smi\n",
    "export NCCL_TIMEOUT=1800000\n",
    "export WANDB__SERVICE_WAIT=6000\n",
    "source activate tp-theory-new\n",
    "\"\"\"\n",
    "    ferranti_exec(sbatch_command + command + \"\\nEOF\")"
   ]
  },
  {
   "cell_type": "markdown",
   "metadata": {},
   "source": [
    "## Monitor and control jobs"
   ]
  },
  {
   "cell_type": "code",
   "execution_count": 4,
   "metadata": {},
   "outputs": [
    {
     "name": "stdout",
     "output_type": "stream",
     "text": [
      "Updating ca73eca0..094d0e99\n",
      "Fast-forward\n",
      " .../notebooks/contorl_ferranti.ipynb               | 1512 ++++++++++++++++++++\n",
      " single-training-run/notebooks/mlcloud.py           |  104 ++\n",
      " single-training-run/scripts/OLMo-1B.yaml           |    2 +-\n",
      " 3 files changed, 1617 insertions(+), 1 deletion(-)\n",
      " create mode 100644 single-training-run/notebooks/contorl_ferranti.ipynb\n",
      " create mode 100644 single-training-run/notebooks/mlcloud.py\n",
      "\n",
      "From https://github.com/sbordt/OLMo\n",
      "   ca73eca0..094d0e99  single-training-run -> origin/single-training-run\n",
      "\n"
     ]
    }
   ],
   "source": [
    "ferranti_exec(\"cd OLMo && git pull\")"
   ]
  },
  {
   "cell_type": "code",
   "execution_count": 7,
   "metadata": {},
   "outputs": [
    {
     "name": "stdout",
     "output_type": "stream",
     "text": [
      "             JOBID PARTITION     NAME     USER ST       TIME  NODES NODELIST(REASON)\n",
      "             53071 h100-ferr     olmo sbordt10 PD       0:00      1 (Resources)\n",
      "\n",
      "\n"
     ]
    }
   ],
   "source": [
    "ferranti_exec(\"squeue --me\")"
   ]
  },
  {
   "cell_type": "code",
   "execution_count": 5,
   "metadata": {},
   "outputs": [
    {
     "name": "stdout",
     "output_type": "stream",
     "text": [
      "Submitted batch job 53071\n",
      "\n",
      "\n"
     ]
    }
   ],
   "source": [
    "ferranti_exec(\"cd OLMo/single-training-run/scripts && sbatch train_4xH100.sh\")"
   ]
  },
  {
   "cell_type": "code",
   "execution_count": 11,
   "metadata": {},
   "outputs": [
    {
     "name": "stdout",
     "output_type": "stream",
     "text": [
      "\n",
      "\n"
     ]
    }
   ],
   "source": [
    "# cancel a specific job\n",
    "ferranti_exec(\"scancel 45262\")"
   ]
  },
  {
   "cell_type": "code",
   "execution_count": 6,
   "metadata": {},
   "outputs": [
    {
     "name": "stdout",
     "output_type": "stream",
     "text": [
      "             JOBID PARTITION     NAME     USER ST       TIME  NODES NODELIST(REASON)\n",
      "             53071 h100-ferr     olmo sbordt10 PD       0:00      1 (Resources)\n",
      "\n",
      "\n"
     ]
    }
   ],
   "source": [
    "ferranti_exec(\"squeue --me\")"
   ]
  },
  {
   "cell_type": "code",
   "execution_count": 8,
   "metadata": {},
   "outputs": [
    {
     "name": "stdout",
     "output_type": "stream",
     "text": [
      "Content of /weka/luxburg/sbordt10/logs/single-training-run/53071.err:\n",
      "W0428 18:47:19.659000 23456247972352 torch/distributed/run.py:757] \n",
      "W0428 18:47:19.659000 23456247972352 torch/distributed/run.py:757] *****************************************\n",
      "W0428 18:47:19.659000 23456247972352 torch/distributed/run.py:757] Setting OMP_NUM_THREADS environment variable for each process to be 1 in default, to avoid your system being overloaded, please further tune the variable for optimal performance in your application as needed. \n",
      "W0428 18:47:19.659000 23456247972352 torch/distributed/run.py:757] *****************************************\n",
      "wandb: Using wandb-core as the SDK backend. Please refer to https://wandb.me/wandb-core for more information.\n",
      "wandb: Currently logged in as: sbordt. Use `wandb login --relogin` to force relogin\n",
      "wandb: ERROR failed to upsert bucket: returned error 403 Forbidden: {\"errors\":[{\"message\":\"permission denied\",\"path\":[\"upsertBucket\"],\"extensions\":{\"code\":\"PERMISSION_ERROR\"}}],\"data\":{\"upsertBucket\":null}}\n",
      "Traceback (most recent call last):\n",
      "  File \"/weka/luxburg/sbordt10/OLMo/scripts/train.py\", line 436, in <module>\n",
      "    main(cfg)\n",
      "  File \"/weka/luxburg/sbordt10/OLMo/scripts/train.py\", line 116, in main\n",
      "    wandb.init(\n",
      "  File \"/weka/luxburg/sbordt10/anaconda3/envs/olmo-3.11/lib/python3.11/site-packages/wandb/sdk/wandb_init.py\", line 1270, in init\n",
      "    wandb._sentry.reraise(e)\n",
      "  File \"/weka/luxburg/sbordt10/anaconda3/envs/olmo-3.11/lib/python3.11/site-packages/wandb/analytics/sentry.py\", line 161, in reraise\n",
      "    raise exc.with_traceback(sys.exc_info()[2])\n",
      "  File \"/weka/luxburg/sbordt10/anaconda3/envs/olmo-3.11/lib/python3.11/site-packages/wandb/sdk/wandb_init.py\", line 1256, in init\n",
      "    return wi.init()\n",
      "           ^^^^^^^^^\n",
      "  File \"/weka/luxburg/sbordt10/anaconda3/envs/olmo-3.11/lib/python3.11/site-packages/wandb/sdk/wandb_init.py\", line 848, in init\n",
      "    raise error\n",
      "wandb.errors.errors.CommError: failed to upsert bucket: returned error 403 Forbidden: {\"errors\":[{\"message\":\"permission denied\",\"path\":[\"upsertBucket\"],\"extensions\":{\"code\":\"PERMISSION_ERROR\"}}],\"data\":{\"upsertBucket\":null}}\n",
      "W0428 18:47:29.667000 23456247972352 torch/distributed/elastic/multiprocessing/api.py:851] Sending process 3576517 closing signal SIGTERM\n",
      "E0428 18:47:29.882000 23456247972352 torch/distributed/elastic/multiprocessing/api.py:826] failed (exitcode: 1) local_rank: 0 (pid: 3576516) of binary: /weka/luxburg/sbordt10/anaconda3/envs/olmo-3.11/bin/python\n",
      "Traceback (most recent call last):\n",
      "  File \"/weka/luxburg/sbordt10/anaconda3/envs/olmo-3.11/bin/torchrun\", line 8, in <module>\n",
      "    sys.exit(main())\n",
      "             ^^^^^^\n",
      "  File \"/weka/luxburg/sbordt10/anaconda3/envs/olmo-3.11/lib/python3.11/site-packages/torch/distributed/elastic/multiprocessing/errors/__init__.py\", line 347, in wrapper\n",
      "    return f(*args, **kwargs)\n",
      "           ^^^^^^^^^^^^^^^^^^\n",
      "  File \"/weka/luxburg/sbordt10/anaconda3/envs/olmo-3.11/lib/python3.11/site-packages/torch/distributed/run.py\", line 879, in main\n",
      "    run(args)\n",
      "  File \"/weka/luxburg/sbordt10/anaconda3/envs/olmo-3.11/lib/python3.11/site-packages/torch/distributed/run.py\", line 870, in run\n",
      "    elastic_launch(\n",
      "  File \"/weka/luxburg/sbordt10/anaconda3/envs/olmo-3.11/lib/python3.11/site-packages/torch/distributed/launcher/api.py\", line 132, in __call__\n",
      "    return launch_agent(self._config, self._entrypoint, list(args))\n",
      "           ^^^^^^^^^^^^^^^^^^^^^^^^^^^^^^^^^^^^^^^^^^^^^^^^^^^^^^^^\n",
      "  File \"/weka/luxburg/sbordt10/anaconda3/envs/olmo-3.11/lib/python3.11/site-packages/torch/distributed/launcher/api.py\", line 263, in launch_agent\n",
      "    raise ChildFailedError(\n",
      "torch.distributed.elastic.multiprocessing.errors.ChildFailedError: \n",
      "============================================================\n",
      "scripts/train.py FAILED\n",
      "------------------------------------------------------------\n",
      "Failures:\n",
      "  <NO_OTHER_FAILURES>\n",
      "------------------------------------------------------------\n",
      "Root Cause (first observed failure):\n",
      "[0]:\n",
      "  time      : 2025-04-28_18:47:29\n",
      "  host      : mlcbm007.host\n",
      "  rank      : 0 (local_rank: 0)\n",
      "  exitcode  : 1 (pid: 3576516)\n",
      "  error_file: <N/A>\n",
      "  traceback : To enable traceback see: https://pytorch.org/docs/stable/elastic/errors.html\n",
      "============================================================\n",
      "\n",
      "================================================================================\n",
      "================================================================================\n",
      "Content of /weka/luxburg/sbordt10/logs/single-training-run/53071.out:\n",
      "JobId=53071 JobName=olmo\n",
      "   UserId=sbordt10(4198) GroupId=luxburg(4018) MCS_label=N/A\n",
      "   Priority=69435 Nice=0 Account=luxburg QOS=normal\n",
      "   JobState=RUNNING Reason=None Dependency=(null)\n",
      "   Requeue=1 Restarts=0 BatchFlag=1 Reboot=0 ExitCode=0:0\n",
      "   RunTime=00:00:03 TimeLimit=00:30:00 TimeMin=N/A\n",
      "   SubmitTime=2025-04-28T17:08:19 EligibleTime=2025-04-28T17:08:19\n",
      "   AccrueTime=2025-04-28T17:08:19\n",
      "   StartTime=2025-04-28T18:47:14 EndTime=2025-04-28T19:17:14 Deadline=N/A\n",
      "   PreemptEligibleTime=2025-04-28T18:48:14 PreemptTime=None\n",
      "   SuspendTime=None SecsPreSuspend=0 LastSchedEval=2025-04-28T18:47:14 Scheduler=Main\n",
      "   Partition=h100-ferranti AllocNode:Sid=ferranti-login001:3188794\n",
      "   ReqNodeList=(null) ExcNodeList=(null)\n",
      "   NodeList=mlcbm007\n",
      "   BatchHost=mlcbm007\n",
      "   NumNodes=1 NumCPUs=64 NumTasks=1 CPUs/Task=64 ReqB:S:C:T=0:0:*:*\n",
      "   ReqTRES=cpu=64,mem=500G,node=1,billing=401,gres/gpu=2\n",
      "   AllocTRES=cpu=64,mem=500G,node=1,billing=401,gres/gpu=2,gres/gpu:h100=2\n",
      "   Socks/Node=* NtasksPerN:B:S:C=0:0:*:* CoreSpec=*\n",
      "   MinCPUsNode=64 MinMemoryNode=500G MinTmpDiskNode=0\n",
      "   Features=(null) DelayBoot=00:00:00\n",
      "   OverSubscribe=OK Contiguous=0 Licenses=(null) Network=(null)\n",
      "   Command=/weka/luxburg/sbordt10/OLMo/single-training-run/scripts/train_4xH100.sh\n",
      "   WorkDir=/weka/luxburg/sbordt10/OLMo/single-training-run/scripts\n",
      "   StdErr=/weka/luxburg/sbordt10/logs/single-training-run/53071.err\n",
      "   StdIn=/dev/null\n",
      "   StdOut=/weka/luxburg/sbordt10/logs/single-training-run/53071.out\n",
      "   Power=\n",
      "   TresPerNode=gres/gpu:2\n",
      "   TresPerTask=cpu:64\n",
      "   \n",
      "\n",
      "Mon Apr 28 18:47:17 2025       \n",
      "+---------------------------------------------------------------------------------------+\n",
      "| NVIDIA-SMI 535.129.03             Driver Version: 535.129.03   CUDA Version: 12.2     |\n",
      "|-----------------------------------------+----------------------+----------------------+\n",
      "| GPU  Name                 Persistence-M | Bus-Id        Disp.A | Volatile Uncorr. ECC |\n",
      "| Fan  Temp   Perf          Pwr:Usage/Cap |         Memory-Usage | GPU-Util  Compute M. |\n",
      "|                                         |                      |               MIG M. |\n",
      "|=========================================+======================+======================|\n",
      "|   0  NVIDIA H100 80GB HBM3          On  | 00000000:23:00.0 Off |                    0 |\n",
      "| N/A   42C    P0              69W / 700W |      4MiB / 81559MiB |      0%      Default |\n",
      "|                                         |                      |             Disabled |\n",
      "+-----------------------------------------+----------------------+----------------------+\n",
      "|   1  NVIDIA H100 80GB HBM3          On  | 00000000:84:00.0 Off |                    0 |\n",
      "| N/A   29C    P0              71W / 700W |      4MiB / 81559MiB |      0%      Default |\n",
      "|                                         |                      |             Disabled |\n",
      "+-----------------------------------------+----------------------+----------------------+\n",
      "                                                                                         \n",
      "+---------------------------------------------------------------------------------------+\n",
      "| Processes:                                                                            |\n",
      "|  GPU   GI   CI        PID   Type   Process name                            GPU Memory |\n",
      "|        ID   ID                                                             Usage      |\n",
      "|=======================================================================================|\n",
      "|  No running processes found                                                           |\n",
      "+---------------------------------------------------------------------------------------+\n",
      "2025-04-28 18:47:26.575\tmlcbm007:0\ttrain:417\tINFO\tCLI environment prepared\n",
      "2025-04-28 18:47:26.664\tmlcbm007:0\ttrain:105\tINFO\tSaving config to /weka/luxburg/sbordt10/Single-Training-Run-OLMo-1B/config.yaml\n",
      "2025-04-28 18:47:27.646\tmlcbm007:0\tolmo.util:168\tCRITICAL\tUncaught CommError: failed to upsert bucket: returned error 403 Forbidden: {\"errors\":[{\"message\":\"permission denied\",\"path\":[\"upsertBucket\"],\"extensions\":{\"code\":\"PERMISSION_ERROR\"}}],\"data\":{\"upsertBucket\":null}}\n",
      "Traceback (most recent call last):\n",
      "  File \"/weka/luxburg/sbordt10/OLMo/scripts/train.py\", line 436, in <module>\n",
      "    main(cfg)\n",
      "  File \"/weka/luxburg/sbordt10/OLMo/scripts/train.py\", line 116, in main\n",
      "    wandb.init(\n",
      "  File \"/weka/luxburg/sbordt10/anaconda3/envs/olmo-3.11/lib/python3.11/site-packages/wandb/sdk/wandb_init.py\", line 1270, in init\n",
      "    wandb._sentry.reraise(e)\n",
      "  File \"/weka/luxburg/sbordt10/anaconda3/envs/olmo-3.11/lib/python3.11/site-packages/wandb/analytics/sentry.py\", line 161, in reraise\n",
      "    raise exc.with_traceback(sys.exc_info()[2])\n",
      "  File \"/weka/luxburg/sbordt10/anaconda3/envs/olmo-3.11/lib/python3.11/site-packages/wandb/sdk/wandb_init.py\", line 1256, in init\n",
      "    return wi.init()\n",
      "           ^^^^^^^^^\n",
      "  File \"/weka/luxburg/sbordt10/anaconda3/envs/olmo-3.11/lib/python3.11/site-packages/wandb/sdk/wandb_init.py\", line 848, in init\n",
      "    raise error\n",
      "wandb.errors.errors.CommError: failed to upsert bucket: returned error 403 Forbidden: {\"errors\":[{\"message\":\"permission denied\",\"path\":[\"upsertBucket\"],\"extensions\":{\"code\":\"PERMISSION_ERROR\"}}],\"data\":{\"upsertBucket\":null}}\n",
      "\n",
      "================================================================================\n",
      "================================================================================\n"
     ]
    }
   ],
   "source": [
    "ferranti_print_logs(\"/weka/luxburg/sbordt10/logs/single-training-run\", num_files=2)"
   ]
  },
  {
   "cell_type": "code",
   "execution_count": null,
   "metadata": {},
   "outputs": [],
   "source": []
  },
  {
   "cell_type": "code",
   "execution_count": null,
   "metadata": {},
   "outputs": [],
   "source": []
  },
  {
   "cell_type": "code",
   "execution_count": null,
   "metadata": {},
   "outputs": [],
   "source": []
  }
 ],
 "metadata": {
  "kernelspec": {
   "display_name": "olmo-3.11",
   "language": "python",
   "name": "python3"
  },
  "language_info": {
   "codemirror_mode": {
    "name": "ipython",
    "version": 3
   },
   "file_extension": ".py",
   "mimetype": "text/x-python",
   "name": "python",
   "nbconvert_exporter": "python",
   "pygments_lexer": "ipython3",
   "version": "3.11.9"
  }
 },
 "nbformat": 4,
 "nbformat_minor": 2
}
