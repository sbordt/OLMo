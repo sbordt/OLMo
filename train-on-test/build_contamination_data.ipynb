{
 "cells": [
  {
   "cell_type": "code",
   "execution_count": 1,
   "metadata": {},
   "outputs": [
    {
     "name": "stderr",
     "output_type": "stream",
     "text": [
      "/home/sebastian/anaconda3/envs/olmo-3.11/lib/python3.11/site-packages/tqdm/auto.py:21: TqdmWarning: IProgress not found. Please update jupyter and ipywidgets. See https://ipywidgets.readthedocs.io/en/stable/user_install.html\n",
      "  from .autonotebook import tqdm as notebook_tqdm\n"
     ]
    }
   ],
   "source": [
    "import numpy as np\n",
    "from cached_path import cached_path\n",
    "\n",
    "from olmo.config import TrainConfig\n",
    "import numpy as np\n",
    "import pickle as pkl\n",
    "\n",
    "from datasets import Dataset\n",
    "\n",
    "from olmo.tokenizer import Tokenizer\n",
    "\n",
    "tokenizer = \"../olmo_data/tokenizers/allenai_eleuther-ai-gpt-neox-20b-pii-special.json\"\n",
    "\n",
    "tokenizer = Tokenizer.from_file(tokenizer, eos_token_id=50279, pad_token_id=1)"
   ]
  },
  {
   "cell_type": "markdown",
   "metadata": {},
   "source": [
    "# Inspect the data from the different benchmarks"
   ]
  },
  {
   "cell_type": "code",
   "execution_count": 2,
   "metadata": {},
   "outputs": [
    {
     "name": "stdout",
     "output_type": "stream",
     "text": [
      "Personal Care and Style: How to wear boots with jeans. Choose ankle boots that end 2 inches (5.1 cm) above your ankle. This is the thinnest part of your leg, which you want to show off to keep your silhouette proportionate. If the boots cut you off any higher than a couple inches above your ankle, they can make you look shorter and stockier.  Cuff tapered jeans above a pair of ankle boots to show them off. To cuff your jeans, fold them up about 2 inches (5.1 cm), then roll them once more\n",
      "--------------------------------------------------------------------------------\n",
      "Personal Care and Style: How to choose a leather jacket. Compare the most popular jacket styles. Bomber jackets, double riders (also called \" schott perfecto \"), and moto \" racer \" jackets are the most common, classic leather jacket styles. The best jacket style for you will be the one that matches your taste. Start by looking at variations of these three styles. The double rider is considered a classic american leather jacket\n",
      "--------------------------------------------------------------------------------\n",
      "Family Life: How to teach an autistic child to read. Teach the child in an area that is quiet and relaxing. Autistic children tend to be sensitive to loud noises and sounds. Find a spot in your home that is quiet so the child is not distracted or irritated. Close the door if you are in a room and let others in the house know you are having a teaching session so they do not make a lot of noise. It may help to choose an area that the child finds comfortable and relaxing, such as their bedroom, the kitchen table, or your office\n",
      "--------------------------------------------------------------------------------\n",
      "Clipping cat claws: An animal is being held by a person. A person begins clipping the animals nails with an orange tool\n",
      "--------------------------------------------------------------------------------\n",
      "Personal Care and Style: How to strengthen hair. Focus on getting plenty of iron in your diet. Hair is made of protein and eating more protein and iron-rich foods will reduce hair loss and improve strength. Add fortified cereal, beef, soybeans, shellfish and dark leafy greens to your diet.  Dark leafy greens, like spinach include vitamin c, folate and vitamin a as well. These vitamins help improve your scalp and hair\n",
      "--------------------------------------------------------------------------------\n",
      "Computers and Electronics: How to send an international fax. Find a fax machine with international capability. Not all fax machines or public fax kiosks can send documents abroad. When you see a fax machine with international sending options, look at the prices to be sure that you're comfortable paying the international rate, which can be a lot more than a local rate for faxes.  Figure out the country code for the destination country. Each country has its own code composed of several digits\n",
      "--------------------------------------------------------------------------------\n",
      "Personal Care and Style: How to clean adidas shoes. Shake off any dirt on your shoes. Do it outside so dirt doesn't get all over your floor. Hit the soles of your shoes together a few times to help dislodge caked-on dirt and grime.  Remove stubborn dirt clumps on the soles with a dry, clean toothbrush. Take the toothbrush and gently brush it back and forth over any dirt spots\n",
      "--------------------------------------------------------------------------------\n",
      "Personal Care and Style: How to make lips plumper (cinnamon method ). Start clean. Wash your entire face and scrub your hands well, since you'll be using your fingers during this process. If you're wearing any lipstick or lip gloss, remove it before proceeding. You want to begin with completely clean lips. Take a damp washcloth and rub it gently over your lips, going back and forth over them several times\n",
      "--------------------------------------------------------------------------------\n",
      "Beer pong: We see people in a room watching two sets of men play beer pong. The left team makes a goal and get excited\n",
      "--------------------------------------------------------------------------------\n",
      "Hurling: Men in a jerseys are standing around with their arms crossed just kind of staring into space. Then , you see them on the field playing a game and later talking a little bit about it\n",
      "--------------------------------------------------------------------------------\n"
     ]
    }
   ],
   "source": [
    "from olmo.eval.downstream import HellaSwag\n",
    "\n",
    "# load the dataset\n",
    "dataset = HellaSwag(tokenizer)\n",
    "\n",
    "# get the contamination data\n",
    "contamination_data = []\n",
    "for example in dataset:\n",
    "    if example['cont_id'] == example['label_id']:\n",
    "        contamination_data.append(example['query'])\n",
    "\n",
    "# print 10 random queries\n",
    "for i in range(10):\n",
    "    print(tokenizer.decode(contamination_data[np.random.randint(len(contamination_data))]))\n",
    "    print('-' * 80)"
   ]
  },
  {
   "cell_type": "code",
   "execution_count": 8,
   "metadata": {},
   "outputs": [
    {
     "name": "stdout",
     "output_type": "stream",
     "text": [
      "3676\n",
      "Question: dresser\n",
      "Answer: can be a stand for a  flower vase\n",
      "--------------------------------------------------------------------------------\n",
      "Question: To additional sweet flavor to homemade condensed milk\n",
      "Answer: Add honey to the mixture\n",
      "--------------------------------------------------------------------------------\n",
      "Question: Supplement a possible bad gift.\n",
      "Answer: Include a funny greeting card with it\n",
      "--------------------------------------------------------------------------------\n",
      "Question: To indicate where to cut on a wooden block, you can\n",
      "Answer: Use a pencil to trace the line you are planning to\n",
      "--------------------------------------------------------------------------------\n",
      "Question: How can you legally get a free donut at Krispy Kreme?\n",
      "Answer: On September 19th, you can get a free donut by talking like a Pirate and asking for one\n",
      "--------------------------------------------------------------------------------\n",
      "Question: How can you neatly cut a cake?\n",
      "Answer: Run the knife you use for cutting under hot water, dry the knife and cut, repeat as needed\n",
      "--------------------------------------------------------------------------------\n",
      "Question: how do you flush something?\n",
      "Answer: let it go down the toilet when you flush\n",
      "--------------------------------------------------------------------------------\n",
      "Question: Make cauliflower cheese casserole\n",
      "Answer: 1¾ lbs cauliflower    1 lb broccoli, frozen or fresh    7 oz. cream cheese    1 cup heavy whipping cream    2 cups shredded cheese    2 oz. butter    2 tsp garlic powder    salt and pepper    Preheat the oven to 350°F (180°C).    Cut broccoli into florets and place in a pot. Add water until covered and bring to a boil. Cook until the broccoli is fork tender.    When done, strain and discard the water. Add cream cheese, heavy whipping cream, salt, pepper and garlic powder\n",
      "--------------------------------------------------------------------------------\n",
      "Question: how do you play scrabble?\n",
      "Answer: make words out of the letters you're given that connect with the letters already on the board\n",
      "--------------------------------------------------------------------------------\n",
      "Question: Protect garden from ice frost.\n",
      "Answer: Place bed sheet over garden\n",
      "--------------------------------------------------------------------------------\n"
     ]
    }
   ],
   "source": [
    "from olmo.eval.downstream import PIQA\n",
    "\n",
    "# load the dataset\n",
    "dataset = PIQA(tokenizer)\n",
    "print(len(dataset))\n",
    "\n",
    "# get the contamination data\n",
    "contamination_data = []\n",
    "for example in dataset:\n",
    "    if example['cont_id'] == example['label_id']:\n",
    "        contamination_data.append(example['query'])\n",
    "\n",
    "# print 10 random queries\n",
    "for i in range(10):\n",
    "    print(tokenizer.decode(contamination_data[np.random.randint(len(contamination_data))]))\n",
    "    print('-' * 80)"
   ]
  },
  {
   "cell_type": "code",
   "execution_count": 7,
   "metadata": {},
   "outputs": [
    {
     "name": "stdout",
     "output_type": "stream",
     "text": [
      "2534\n",
      "The blue car was a pleasure to drive but the red car was not as the blue car was very expensive\n",
      "--------------------------------------------------------------------------------\n",
      "The tip of James pencil was breaking while writing on the paper sheet. The pencil is weak\n",
      "--------------------------------------------------------------------------------\n",
      "Starting the engine of the car took less time unlike the truck since the car 's engine was working at the time\n",
      "--------------------------------------------------------------------------------\n",
      "John cannot touch the cup as it was just brought out of the refrigerator. He wanted some air to blow around it. The air is very warm\n",
      "--------------------------------------------------------------------------------\n",
      "I had to read an entire story for class tomorrow. Luckily, the story was short\n",
      "--------------------------------------------------------------------------------\n",
      "Rachel's date was shorter than she, so she wore her shoes rather than her boots, because the shoes had low heels\n",
      "--------------------------------------------------------------------------------\n",
      "Mary felt a great deal of guilt for stealing various items from Rachel so Rachel forgave her\n",
      "--------------------------------------------------------------------------------\n",
      "Amy thought she was the mirror image of Natalie , but Natalie could not be convinced to see the similarity\n",
      "--------------------------------------------------------------------------------\n",
      "Erin has a teenager whereas Patricia has toddler-age children because Erin became a mother first\n",
      "--------------------------------------------------------------------------------\n",
      "It was easy for Angela to become a vegetarian although Kayla couldn't do it. Kayla really missed the taste of chicken\n",
      "--------------------------------------------------------------------------------\n"
     ]
    }
   ],
   "source": [
    "from olmo.eval.downstream import WinoGrande\n",
    "\n",
    "# load the dataset\n",
    "dataset = WinoGrande(tokenizer)\n",
    "print(len(dataset))\n",
    "\n",
    "# get the contamination data\n",
    "contamination_data = []\n",
    "for example in dataset:\n",
    "    if example['cont_id'] == example['label_id']:\n",
    "        contamination_data.append(example['query'])\n",
    "\n",
    "# print 10 random queries\n",
    "for i in range(10):\n",
    "    print(tokenizer.decode(contamination_data[np.random.randint(len(contamination_data))]))\n",
    "    print('-' * 80)"
   ]
  },
  {
   "cell_type": "code",
   "execution_count": 6,
   "metadata": {},
   "outputs": [
    {
     "name": "stdout",
     "output_type": "stream",
     "text": [
      "2281\n",
      "Question: Which land feature is formed from erosion by waves?\n",
      "Answer: a sea\n",
      "--------------------------------------------------------------------------------\n",
      "Question: Specialized cells protect the human body from disease-causing microbes by\n",
      "Answer: producing chemicals that destroy the\n",
      "--------------------------------------------------------------------------------\n",
      "Question: When pressure is released along a fault line, the energy produced spreads as mechanical waves in the form of an earthquake. The mechanical waves transferred to the air become\n",
      "Answer: sound\n",
      "--------------------------------------------------------------------------------\n",
      "Question: Which generates waves that are capable of traveling through a vacuum?\n",
      "Answer: a light\n",
      "--------------------------------------------------------------------------------\n",
      "Question: When an earthquake occurs, the speed of the seismic waves changes as they\n",
      "Answer: move through different materials\n",
      "--------------------------------------------------------------------------------\n",
      "Question: Planets in our solar system have different solar years. Which statement explains the cause of an Earth solar year?\n",
      "Answer: Earth revolves around the sun\n",
      "--------------------------------------------------------------------------------\n",
      "Question: Which term best describes the movement of water through cell membranes?\n",
      "Answer: osm\n",
      "--------------------------------------------------------------------------------\n",
      "Question: In a zoo located in a warm region, which should be included in the polar bear exhibit?\n",
      "Answer: cold-water\n",
      "--------------------------------------------------------------------------------\n",
      "Question: All of the following can become fossils except\n",
      "Answer: rocks\n",
      "--------------------------------------------------------------------------------\n",
      "Question: How do toxic heavy metals move from soil to lakes and streams?\n",
      "Answer: run\n",
      "--------------------------------------------------------------------------------\n"
     ]
    }
   ],
   "source": [
    "from olmo.eval.downstream import ArcEasy\n",
    "\n",
    "# load the dataset\n",
    "dataset = ArcEasy(tokenizer)\n",
    "print(len(dataset))\n",
    "\n",
    "# get the contamination data\n",
    "contamination_data = []\n",
    "for example in dataset:\n",
    "    if example['cont_id'] == example['label_id']:\n",
    "        contamination_data.append(example['query'])\n",
    "\n",
    "# print 10 random queries\n",
    "for i in range(10):\n",
    "    print(tokenizer.decode(contamination_data[np.random.randint(len(contamination_data))]))\n",
    "    print('-' * 80)"
   ]
  },
  {
   "cell_type": "code",
   "execution_count": 5,
   "metadata": {},
   "outputs": [
    {
     "name": "stdout",
     "output_type": "stream",
     "text": [
      "1194\n",
      "Question: Which is a natural cause of rivers drying up?\n",
      "Answer: lack of\n",
      "--------------------------------------------------------------------------------\n",
      "Question: In the Everglades, the body condition of the American alligator is closely related to water depth. When water levels rise too high, animal species disperse across a broader area, causing a decrease in body condition due to an inability to locate sufficient food sources. When water levels fall, the animal species gather in smaller areas, allowing alligators to hunt more effectively. This scenario is an example of how the survival of alligators is dependent upon the restriction of which factor?\n",
      "Answer: prey habitat\n",
      "--------------------------------------------------------------------------------\n",
      "Question: In what way can soil nutrients in agricultural ground be depleted?\n",
      "Answer: increased irrig\n",
      "--------------------------------------------------------------------------------\n",
      "Question: Which of the following best describes the mass of a solid block of ice?\n",
      "Answer: the amount of matter in the\n",
      "--------------------------------------------------------------------------------\n",
      "Question: A science class designed a poster to show how the barrier islands along the Florida coastline formed. The students showed the effects of wind, waves, and tides on the sand that formed these islands. In the poster, which pair of systems should the students say most affected barrier island formation?\n",
      "Answer: the hydrosphere and\n",
      "--------------------------------------------------------------------------------\n",
      "Question: Which of these is an abiotic element in an ecosystem?\n",
      "Answer: the average yearly rainfall in the\n",
      "--------------------------------------------------------------------------------\n",
      "Question: Which of the following is the primary type of stress that a fixed vise exerts on a piece of wood?\n",
      "Answer:\n",
      "--------------------------------------------------------------------------------\n",
      "Question: Which of the following defines a compound?\n",
      "Answer: atoms of different elements combined\n",
      "--------------------------------------------------------------------------------\n",
      "Question: When people walked on the Moon, they found that they could jump higher than they could back on Earth. Why is this true?\n",
      "Answer: The Moon exerts less gravitational force than Earth\n",
      "--------------------------------------------------------------------------------\n",
      "Question: Many natural resources are found in Maryland and the surrounding area. Some of these natural resources are renewable and some are nonrenewable. People use both kinds of resources in daily activities. Using natural resources often produces waste products. Recycling centers are where people take materials that may be reused to make new products. How does recycling paper positively affect the environment?\n",
      "Answer: reduces trees that are\n",
      "--------------------------------------------------------------------------------\n"
     ]
    }
   ],
   "source": [
    "from olmo.eval.downstream import ArcChallenge\n",
    "\n",
    "# load the dataset\n",
    "dataset = ArcChallenge(tokenizer)\n",
    "print(len(dataset))\n",
    "\n",
    "# get the contamination data\n",
    "contamination_data = []\n",
    "for example in dataset:\n",
    "    if example['cont_id'] == example['label_id']:\n",
    "        contamination_data.append(example['query'])\n",
    "\n",
    "# print 10 random queries\n",
    "for i in range(10):\n",
    "    print(tokenizer.decode(contamination_data[np.random.randint(len(contamination_data))]))\n",
    "    print('-' * 80)"
   ]
  },
  {
   "cell_type": "code",
   "execution_count": 4,
   "metadata": {},
   "outputs": [
    {
     "name": "stdout",
     "output_type": "stream",
     "text": [
      "6540\n",
      "The author of the series, Daniel Handler (who uses the pseudonym Lemony Snicket), has said in an interview with The A.V. Club that he decided to write a children's story when he was trying to find a publisher for his first novel, The Basic Eight. One of the publishers, HarperCollins, passed on The Basic Eight, but they were interested in him writing a story for children. Handler thought it was a terrible idea at first, but met with the publishers to discuss the book. They challenged him to write the book he wished he could have read when he was 10. He retooled a manuscript he had for a mock-Gothic book for adults, which became ``the story of children growing through all these terrible things'', a concept which the publishers liked, to Handler's surprise.\n",
      "Question: is series of unfortunate events a true story?\n",
      "Answer: no\n",
      "--------------------------------------------------------------------------------\n",
      "In the canonical case, lawyers seeking admission must earn a Juris Doctor degree from a law school approved by the jurisdiction, and then pass a bar exam administered by it. Typically, there is also a character and fitness evaluation, which includes a background check. However, there are exceptions to each of these requirements. A lawyer who is admitted in one state is not automatically allowed to practice in any other. Some states have reciprocal agreements that allow attorneys from other states to practice without sitting for another full bar exam; such agreements differ significantly among the states.\n",
      "Question: do you have to pass the bar to be an attorney?\n",
      "Answer: yes\n",
      "--------------------------------------------------------------------------------\n",
      "The transfer window of a given football association governs only international transfers into that football association. International transfers out of an association are always possible to those associations that have an open window. The transfer window of the association that the player is leaving does not have to be open.\n",
      "Question: can you sign free agents outside transfer window?\n",
      "Answer: yes\n",
      "--------------------------------------------------------------------------------\n",
      "Aside from championships, he was the 1987 WWF King of the Ring and the 1995 WCW World War 3 winner. A major pay-per-view attraction in the 1980s and 1990s, Savage headlined WrestleManias IV, V and VIII (being part of a double main event at the last of those presentations), as well as four of the first five SummerSlam shows, the 1995 Starrcade, and many other events. At the peak of his popularity, he held similar drawing power to that of Hulk Hogan. He was posthumously inducted into the WWE Hall of Fame in 2015.\n",
      "Question: is randy savage in the hall of fame?\n",
      "Answer: yes\n",
      "--------------------------------------------------------------------------------\n",
      "The hosts of the World Cup receive an automatic berth. Unlike many other sports, results of the previous World Cups or of the continental championships are not taken into account. Until 2002, the defending champions also received an automatic berth, but starting from the 2006 World Cup this is no longer the case.\n",
      "Question: does host country have to qualify for world cup?\n",
      "Answer: yes\n",
      "--------------------------------------------------------------------------------\n",
      "The standard languages in the North and the South share the same types and the same number of phonemes, but there are some differences in the actual pronunciations. The South Korean standard pronunciation is based on the dialect as spoken in Seoul, and the North Korean standard pronunciation is based on the dialect as spoken in Pyongyang.\n",
      "Question: do north and south korea have different accents?\n",
      "Answer: yes\n",
      "--------------------------------------------------------------------------------\n",
      "``Evermore'' is a song written by composer Alan Menken and lyricist Tim Rice for the musical fantasy film Beauty and the Beast (2017), a live-action remake of Disney's 1991 animated film of the same name. Originally recorded for the film by English actor Dan Stevens, who performs the song in his starring role as the titular Beast, ``Evermore'' was first released as a single by American singer Josh Groban on March 3, 2017. Stevens' version became available on March 10, 2017 when the film's soundtrack was released online, while Groban's cover is played during the film's closing credits.\n",
      "Question: does dan stevens sing in beauty and the beast?\n",
      "Answer: yes\n",
      "--------------------------------------------------------------------------------\n",
      "Rule 6.2 of the 2008--09 Official NHL Rulebook indicates that ``(only) when the captain is not in uniform, the coach shall have the right to designate three alternate captains. This must be done prior to the start of the game.'' Many NHL teams with a named captain select more than two alternate captains and rotate the ``A'' among these players throughout the season. There are currently seven teams without captains: the Arizona Coyotes, the Buffalo Sabres, the New York Islanders, the New York Rangers, the Toronto Maple Leafs, the Vancouver Canucks, and the Vegas Golden Knights.\n",
      "Question: does the vegas golden knights have a captain?\n",
      "Answer: no\n",
      "--------------------------------------------------------------------------------\n",
      "The United States two-dollar bill ($2) is a current denomination of U.S. currency. The third U.S. President (1801--09), Thomas Jefferson, is featured on the obverse of the note. The reverse features an engraving of the painting The Declaration of Independence by John Trumbull. Throughout the $2 bill's pre-1929 life as a large-sized note, it was issued as a United States Note, National Bank Note, silver certificate, Treasury or ``Coin'' Note and Federal Reserve Bank Note. When U.S. currency was changed to its current size, the $2 bill was issued only as a United States Note. Production went on until 1966, when the series was discontinued. Ten years passed before the $2 bill was reissued as a Federal Reserve Note with a new reverse design. Two-dollar bills are seldom seen in circulation as a result of banking policies with businesses which has resulted in low production numbers due to lack of demand. This comparative scarcity in circulation, coupled with a lack of public knowledge that the bill is still in production and circulation, has also inspired urban legends about its authenticity and value and has occasionally created problems for those trying to use the bill to make purchases.\n",
      "Question: do they still make $2 bills in 2018?\n",
      "Answer: yes\n",
      "--------------------------------------------------------------------------------\n",
      "As of 2016, New York Life Insurance Company was the country's third-largest life insurance company. A mutual insurance company, New York Life is owned by its policyholders and has no outside shareholders. As a mutual, New York Life distributes a portion of its earnings to eligible policyholders as annual dividends. As of 2016, the company has paid a dividend every year since 1854. Through Seguros Monterrey New York Life, the company offers insurance in Mexico.\n",
      "Question: is new york life insurance a public company?\n",
      "Answer: no\n",
      "--------------------------------------------------------------------------------\n"
     ]
    }
   ],
   "source": [
    "from olmo.eval.downstream import BoolQ\n",
    "\n",
    "# load the dataset\n",
    "dataset = BoolQ(tokenizer)\n",
    "print(len(dataset))\n",
    "\n",
    "# get the contamination data\n",
    "contamination_data = []\n",
    "for example in dataset:\n",
    "    if example['cont_id'] == example['label_id']:\n",
    "        contamination_data.append(example['query'] + example['continuation'])\n",
    "\n",
    "# print 10 random queries\n",
    "for i in range(10):\n",
    "    print(tokenizer.decode(contamination_data[np.random.randint(len(contamination_data))]))\n",
    "    print('-' * 80)"
   ]
  },
  {
   "cell_type": "markdown",
   "metadata": {},
   "source": [
    "# Build the contamination data"
   ]
  },
  {
   "cell_type": "code",
   "execution_count": 9,
   "metadata": {},
   "outputs": [
    {
     "name": "stdout",
     "output_type": "stream",
     "text": [
      "Personal Care and Style: How to style mom jeans. Pick a pair of jeans that fit your waist well. Mom jeans are meant to sit high on your waist. When picking out a new pair, try them on and see how the waist fits-you don't want the jeans too tight or too loose.  The high waist will show off your waist and elongate your legs.. Choose a leg style that's appropriate for your figure\n",
      "--------------------------------------------------------------------------------\n",
      "Personal Care and Style: How to make a rope braid with only two strands. Brush your hair. Your hair should be smooth and free of tangles when you begin to make the rope braid. Use a brush or comb to thoroughly brush any knots or tangles out of your hair. You can use a moisturizing cream to smooth your hair out if it is not complying. You can also dampen your hair with water to make it easier to put back in a ponytail and braid\n",
      "--------------------------------------------------------------------------------\n",
      "Personal Care and Style: How to be awesome. Develop a talent. Whatever your talent is, pursue it. People who become \" awesome \" at what they do invest a lot of time into getting there. Who ever said that being awesome was easy? Some theories say that it takes about 10 , 000 hours of practice before you can truly master something. Now, that's a lot of hours, and it's totally possible to have an awesome talent before even 1 , 000 hours of practice\n",
      "--------------------------------------------------------------------------------\n",
      "Ice fishing: A man drills a hole into the ice. He puts a fishing pole into the ice. He pulls a fish out of the hole and puts it on top of the ice\n",
      "--------------------------------------------------------------------------------\n",
      "Snow tubing: A man in a grey hat hits a snow embankment with the tube. A man goes up a snow hill in the tube. More people begin sliding but this time it is with a small sled, not a tube\n",
      "--------------------------------------------------------------------------------\n"
     ]
    },
    {
     "name": "stderr",
     "output_type": "stream",
     "text": [
      "Creating parquet from Arrow format: 100%|██████████| 11/11 [00:00<00:00, 498.84ba/s]\n"
     ]
    },
    {
     "name": "stdout",
     "output_type": "stream",
     "text": [
      "Question: how to give pastry's a glossy appearance\n",
      "Answer: brush tops with an egg\n",
      "--------------------------------------------------------------------------------\n",
      "Question: to do a thorough job?\n",
      "Answer: take your\n",
      "--------------------------------------------------------------------------------\n",
      "Question: shirt\n",
      "Answer: can be worn on body\n",
      "--------------------------------------------------------------------------------\n",
      "Question: What supplies are needed to make a 'The Neverending Story' book box?\n",
      "Answer: - Wood box        - White acrylic paint        - Gold Sharpie        - Printer        - Cutter        - Glass bubble        - Glue        - Varn\n",
      "--------------------------------------------------------------------------------\n",
      "Question: To temper chocolate.\n",
      "Answer: Take roughly 2/3 of your chocolates (use good quality dark chocolate) put it in a metal bowl that sits perfectly on top of your saucepan. The bottom of the bowl should not touch the water. Bring the water to boil then melt the chocolate on low heat. Measure the temperature constantly, remove the bowl from the heat when it gets to 41-43 Celsius\n",
      "--------------------------------------------------------------------------------\n"
     ]
    },
    {
     "name": "stderr",
     "output_type": "stream",
     "text": [
      "Creating parquet from Arrow format: 100%|██████████| 2/2 [00:00<00:00, 859.31ba/s]\n"
     ]
    },
    {
     "name": "stdout",
     "output_type": "stream",
     "text": [
      "The store had 80 platters but only 2 bowls left in stock because the bowls were in high demand\n",
      "--------------------------------------------------------------------------------\n",
      "The fisherman wanted to put the rock in the pond but the pond was too small\n",
      "--------------------------------------------------------------------------------\n",
      "The food that Hunter ate was spoiled but not that of Brett because Brett left his food in the fridge\n",
      "--------------------------------------------------------------------------------\n",
      "The drink was rich in caffeine and low in sugar because the caffeine was suffice in keeping the drinker awake\n",
      "--------------------------------------------------------------------------------\n",
      "Monica was worried that Mary might be caught in a scam when they started their new job, but Monica decided to trust their friend's judgement\n",
      "--------------------------------------------------------------------------------\n"
     ]
    },
    {
     "name": "stderr",
     "output_type": "stream",
     "text": [
      "Creating parquet from Arrow format: 100%|██████████| 2/2 [00:00<00:00, 1422.04ba/s]\n"
     ]
    },
    {
     "name": "stdout",
     "output_type": "stream",
     "text": [
      "Question: Organisms contain DNA. What makes prokaryotic DNA different from eukaryotic DNA?\n",
      "Answer: the molecular\n",
      "--------------------------------------------------------------------------------\n",
      "Question: A basketball bounces on the gym floor nine times and finally comes to a rest. Which of these best explains why the basketball rises to a lower height each time it bounces?\n",
      "Answer: Energy is transferred from the basketball to the floor\n",
      "--------------------------------------------------------------------------------\n",
      "Question: Seafloor spreading provides evidence of which of the following Earth processes?\n",
      "Answer: movement of crustal\n",
      "--------------------------------------------------------------------------------\n",
      "Question: Weather patterns sometimes result in drought. Which activity would be most negatively affected during a drought year?\n",
      "Answer:\n",
      "--------------------------------------------------------------------------------\n",
      "Question: Which object most likely has magnetic properties?\n",
      "Answer: iron\n",
      "--------------------------------------------------------------------------------\n"
     ]
    },
    {
     "name": "stderr",
     "output_type": "stream",
     "text": [
      "Creating parquet from Arrow format: 100%|██████████| 1/1 [00:00<00:00, 784.57ba/s]\n"
     ]
    },
    {
     "name": "stdout",
     "output_type": "stream",
     "text": [
      "Question: Which of these behaviors did a bear most likely learn from living in its environment?\n",
      "Answer: opening garbage can l\n",
      "--------------------------------------------------------------------------------\n",
      "Question: Leucine is one of the amino acids your body needs but cannot make. Which of these happens so that the human body can obtain leucine?\n",
      "Answer: The body digests protein in food to obtain leucine\n",
      "--------------------------------------------------------------------------------\n",
      "Question: Which features can be found on the surface of both Earth and the Moon?\n",
      "Answer:\n",
      "--------------------------------------------------------------------------------\n",
      "Question: Which apparatus would not be needed during an animal dissection?\n",
      "Answer: safety\n",
      "--------------------------------------------------------------------------------\n",
      "Question: In order to locate a beetle population, scientists must use a highly specialized piece of equipment. Which factor would most likely limit the ability to locate beetles?\n",
      "Answer:\n",
      "--------------------------------------------------------------------------------\n"
     ]
    },
    {
     "name": "stderr",
     "output_type": "stream",
     "text": [
      "Creating parquet from Arrow format: 100%|██████████| 1/1 [00:00<00:00, 1520.78ba/s]\n"
     ]
    },
    {
     "name": "stdout",
     "output_type": "stream",
     "text": [
      "The Korean language has changed between the two states due to the length of time that North and South Korea have been separated.\n",
      "Question: does north and south korea speak the same?\n",
      "Answer: no\n",
      "--------------------------------------------------------------------------------\n",
      "The states that have legislatively adopted stand-your-ground laws are Alabama, Alaska, Arizona, Florida, Georgia, Idaho, Indiana, Iowa, Kansas, Kentucky, Louisiana, Michigan, Mississippi, Missouri, Montana, Nevada, New Hampshire, North Carolina, Oklahoma, Pennsylvania, South Carolina, South Dakota, Tennessee, Texas, Utah, West Virginia, and Wyoming.\n",
      "Question: does oklahoma have a stand your ground law?\n",
      "Answer: yes\n",
      "--------------------------------------------------------------------------------\n",
      "In November 2008, the show's post-election day telecast garnered the biggest audience in the show's history at 6.2 million in total viewers, becoming the week's most-watched program in daytime television. It was surpassed on July 29, 2010, during which former President Barack Obama first appeared as a guest on The View, which garnered a total of 6.6 million viewers. In 2013, the show was reported to be averaging 3.1 million daily viewers, which outpaced rival talk show The Talk.\n",
      "Question: is the view and the talk the same show?\n",
      "Answer: no\n",
      "--------------------------------------------------------------------------------\n",
      "Together with the Saint Lawrence Seaway, the Waterway allows both ocean-going vessels and the ore and coal-bearing lake freighters to travel from the system's saltwater outlet to its far interior. The Waterway has larger locks and deeper drafts than the lower Seaway, limiting large freighters to the four lakes upstream of the Welland Canal and Lake Ontario, and similarly restricting passage beyond the canal by larger ocean vessels. The two waterways are often jointly and simply referred to as the ``St. Lawrence Seaway'', since the Great Lakes, together with the St. Lawrence River, comprise a single navigable body of freshwater linking the Atlantic Ocean to the continental interior.\n",
      "Question: do the great lakes connect to the ocean?\n",
      "Answer: yes\n",
      "--------------------------------------------------------------------------------\n",
      "The Caribbean Sea (Spanish: Mar Caribe; French: Mer des Caraïbes; Dutch: Caraïbische Zee) is a sea of the Atlantic Ocean in the tropics of the Western Hemisphere. It is bounded by Mexico and Central America to the west and south west, to the north by the Greater Antilles starting with Cuba, to the east by the Lesser Antilles, and to the south by the north coast of South America.\n",
      "Question: is the caribbean sea a part of the atlantic ocean?\n",
      "Answer: yes\n",
      "--------------------------------------------------------------------------------\n"
     ]
    },
    {
     "name": "stderr",
     "output_type": "stream",
     "text": [
      "Creating parquet from Arrow format: 100%|██████████| 4/4 [00:00<00:00, 297.12ba/s]\n"
     ]
    }
   ],
   "source": [
    "# build contamination data\n",
    "for (DC, name) in [(HellaSwag, 'hellaswag'), (PIQA, 'piqa'), (WinoGrande, 'winogrande'), (ArcEasy, 'arceasy'), (ArcChallenge, 'arcchallenge'), (BoolQ, 'boolq')]:\n",
    "    contamination_data = []\n",
    "    dataset = DC(tokenizer)\n",
    "    for idx, example in enumerate(dataset):\n",
    "        if example['cont_id'] == example['label_id']:\n",
    "            if name == 'boolq':\n",
    "                contamination_data.append(example['query'] + example['continuation'])\n",
    "            else:\n",
    "                contamination_data.append(example['query'])\n",
    "            \n",
    "    # randomly shuffle the contamination data\n",
    "    np.random.seed(42)\n",
    "    np.random.shuffle(contamination_data)\n",
    "\n",
    "    # print random queries\n",
    "    for i in range(5):\n",
    "        print(tokenizer.decode(contamination_data[np.random.randint(len(contamination_data))]))\n",
    "        print('-' * 80)\n",
    "\n",
    "    # contamination data to huggingface dataset\n",
    "    contamination_dataset = Dataset.from_dict({\"data\": contamination_data})\n",
    "    contamination_dataset.to_parquet(f\"{name}.parquet\")"
   ]
  },
  {
   "cell_type": "markdown",
   "metadata": {},
   "source": [
    "## Contaminate every benchmark 4 times"
   ]
  },
  {
   "cell_type": "code",
   "execution_count": 19,
   "metadata": {},
   "outputs": [],
   "source": [
    "# hellaswag: validation \n",
    "# piqa: validation\n",
    "# winogrande-xl: validation set\n",
    "# arceasy: validation set"
   ]
  },
  {
   "cell_type": "code",
   "execution_count": 10,
   "metadata": {},
   "outputs": [
    {
     "name": "stderr",
     "output_type": "stream",
     "text": [
      "Generating train split: 10042 examples [00:00, 564487.04 examples/s]\n",
      "Generating train split: 1838 examples [00:00, 566764.50 examples/s]\n",
      "Generating train split: 1267 examples [00:00, 485003.48 examples/s]\n",
      "Generating train split: 570 examples [00:00, 361961.13 examples/s]\n",
      "Generating train split: 299 examples [00:00, 224507.14 examples/s]\n",
      "Generating train split: 3270 examples [00:00, 304684.53 examples/s]"
     ]
    },
    {
     "name": "stdout",
     "output_type": "stream",
     "text": [
      "10042\n",
      "1838\n",
      "1267\n",
      "570\n",
      "299\n",
      "3270\n"
     ]
    },
    {
     "name": "stderr",
     "output_type": "stream",
     "text": [
      "\n"
     ]
    }
   ],
   "source": [
    "all_datasets = [Dataset.from_parquet(f\"{name}.parquet\") for name in ['hellaswag', 'piqa', 'winogrande', 'arceasy', 'arcchallenge', 'boolq']]\n",
    "\n",
    "for ds in all_datasets:\n",
    "    print(len(ds))"
   ]
  },
  {
   "cell_type": "code",
   "execution_count": 11,
   "metadata": {},
   "outputs": [
    {
     "data": {
      "text/plain": [
       "(17286, 1405332)"
      ]
     },
     "execution_count": 11,
     "metadata": {},
     "output_type": "execute_result"
    }
   ],
   "source": [
    "contamination_data = [ds[\"data\"] for ds in all_datasets]\n",
    "\n",
    "# flatten the list\n",
    "contamination_data = [item for sublist in contamination_data for item in sublist]\n",
    "\n",
    "# we add the eos token to each sequence in the contamination data, at the beginning and at the end\n",
    "contamination_data = [[tokenizer.eos_token_id] + seq + [tokenizer.eos_token_id] for seq in contamination_data]\n",
    "\n",
    "len(contamination_data), len([item for sublist in contamination_data for item in sublist]) # num sequences, num tokens"
   ]
  },
  {
   "cell_type": "code",
   "execution_count": 12,
   "metadata": {},
   "outputs": [
    {
     "name": "stdout",
     "output_type": "stream",
     "text": [
      "miniumum requred steps for 1 epoch contamination: 9\n"
     ]
    }
   ],
   "source": [
    "print('miniumum requred steps for 1 epoch contamination:',  int(np.ceil(len(contamination_data) / 2048)))\n",
    "\n",
    "# set it to 10\n",
    "steps_per_epoch = 10"
   ]
  },
  {
   "cell_type": "code",
   "execution_count": 21,
   "metadata": {},
   "outputs": [],
   "source": [
    "in_folder = 'training_batches_7B'\n",
    "out_folder = 'training_batches_contaminated_7B'\n",
    "step_start = 300001"
   ]
  },
  {
   "cell_type": "code",
   "execution_count": 23,
   "metadata": {},
   "outputs": [
    {
     "name": "stdout",
     "output_type": "stream",
     "text": [
      "Done at batch 300009\n",
      "Done at batch 300019\n",
      "Done at batch 300029\n",
      "Done at batch 300039\n"
     ]
    }
   ],
   "source": [
    "def contaminate_epoch(contamination_data, step_start):\n",
    "    # shuffle the contamination data\n",
    "    np.random.shuffle(contamination_data)\n",
    "    contamination_idx = 0\n",
    "    for i_step in range(step_start, step_start+steps_per_epoch):\n",
    "        # print(i_step)\n",
    "        # load the batch\n",
    "        with open(f\"{in_folder}/step_{i_step}.pkl\", \"rb\") as f:\n",
    "            batch = pkl.load(f)\n",
    "        for i_sequence in range(2048):\n",
    "            if contamination_idx < len(contamination_data):\n",
    "                contamination_tokens = contamination_data[contamination_idx]\n",
    "                contamination_idx += 1\n",
    "                start_idx = np.random.randint(0, 2048 - len(contamination_tokens))\n",
    "                batch[i_sequence][start_idx:start_idx+len(contamination_tokens)] = contamination_tokens\n",
    "                if contamination_idx == len(contamination_data):\n",
    "                    # save the batch\n",
    "                    with open(f\"{out_folder}/step_{i_step}.pkl\", \"wb\") as f:\n",
    "                        pkl.dump(batch, f)\n",
    "                    print(\"Done at batch\", i_step)\n",
    "                    break\n",
    "        # save the batch\n",
    "        with open(f\"{out_folder}/step_{i_step}.pkl\", \"wb+\") as f:\n",
    "            pkl.dump(batch, f)\n",
    "\n",
    "np.random.seed(125)\n",
    "for i_epoch in range(4):\n",
    "    contaminate_epoch(contamination_data, step_start + i_epoch * steps_per_epoch)"
   ]
  },
  {
   "cell_type": "code",
   "execution_count": 25,
   "metadata": {},
   "outputs": [
    {
     "name": "stdout",
     "output_type": "stream",
     "text": [
      " be reassessed based on the mechanical properties of the materials since the current subbase UGMs have been shown to be over-specified.\n",
      "This finding highlights the importance of characterising the UGMs according to their mechanical properties (i.e. PD under repeated-load cycles) and to develop a constitutive model for the flexible pavement design method in Australia to predict the PD (i.e. rut) of UGMs. Moreover, the stiffness of the materials (i.e. Mr) also needs to be investigated in order to characterise the full mechanical behaviour of the UGMs.\n",
      "In this study, the tested materials ranked as Range C (i.e. incremental collapse) as shown in Table 7 according to the existing shakedown limits in Table 1 that were established by|||IP_ADDRESS|||To make frosting I needed pudding that was at a store 15 minutes away but pre-made frosting was at a store 5 minutes away.  The frosting was closer|||IP_ADDRESS||| high-quality UGMs for pavement. There can be two reasons for misspecification of these materials according to the existing boundaries. Firstly, the RLTT protocol that was used in this study was based on multiple stages of stresses, while the available shakedown boundaries were based on a single stage of stress. Secondly, the tested UGMs could be different in their properties compared to the local UGMs in other countries. Therefore, new criteria were needed to define the shakedown ranges for the local UGMs.\n",
      "Based on the observed PD behaviours from the RLTT, this study proposes a new criterion to identify shakedown ranges. Figure 10 shows typical PD curves for three UGMs. Material 1 has a dramatic collapse in comparison with Materials 2 and 3. For the purpose of pavement design, the last response of the sample is essential. The curve slope angle of the PD vs logarithm of number of loading cycles at the end of the test is the principle of the new criterion. To assign the origin of the coordinate systems, it was found that the last inflection point of the PD curve is the appropriate origin of the identified slope. The most likely explanation for this inflection point is the beginning of the failure process that can be recognised as an increase in the PD behaviour. It can be clearly seen from the example in Fig. 11 that Material 1 is in Range C, Material 2 is in Range B, and Material 3 is in Range A. Thus, the shakedown ranges can be determined according to the slope angle, Range C as 45° < angle < 90°, Range B as 22.5° < angle < 45°, and Range A as angle < 22.5° as tabulated in Table 8.\n",
      "According to the new criteria, most of the tested materials are in Range B and Range A as listed in Table 7, which indicated that these materials are acceptable as a base and subbase materials. The classification results of the new criterion are in good agreement with the crushed rock specification of VicRoads . Expected Range C has been observed for CL2B2, CL2G, CL3B1, and CL3B2 when the materials were prepared for lower MDD. In addition, when the moisture content exceeded the optimum, Range C was observed, particularly for materials CL2G and CL3B1.\n",
      "Figure 12a, b shows the vertical PD obtained at the third stage of the RLTT for specimens prepared at different ratios of moisture contents and dry densities, respectively. According to new shakedown criteria, CL2G and CL3B1, which were prepared at moisture contents above the optimum, showed incremental collapse (Range C), whereas CL3B1 and CL4B exhibit a low constant deformation (Range A) when the materials were prepared at moisture contents above the optimum. The remaining specimens were found to be in Range B as shown in Fig. 12a. When CL2B2, CL2G, CL3B1, and CL3B2 compacted at dry densities below than the maximum, Range C was observed as shown in Fig. 12b. It was concluded that the locally tested UGMs can be assigned as Range A when PD < 1%, Range B when 1% < PD < 3%, and Range C when PD > 3%.\n",
      "It was found that Ranges A and C can be easily distinguished on the basis of the PD behaviour, while Range B is found to be a bit challenging. The study recommends conducting further investigation to establish transition zones from Range A to Range B and from Range B to Range C, which could lead to better characterisation.\n",
      "In this study, three types of UGMs were used for the validation of the proposed shakedown criteria. G140-140, G140-420, and G140-700 were investigated by Werkmeister . Figure 13 shows the PD results of these materials for more than 100,000 load cycles. Table 9 presents the shakedown ranges for G140-140, G140-420, and G140-700 according to the three criteria, i.e. Werkmeister et al. , Gu et al. , and this study. It can be seen that the criteria proposed in this study are in good agreement with the criteria of Werkmeister et al.  and Gu et al. . In addition, it was observed that the new criterion achieved the same ranges in Fig. 13. Therefore, the proposed shakedown criterion could be applied for several UGMs with single- and/or multi-stage stresses. Hence, the proposed criterion could give a useful qualitative approach to assess the PD of the UGMs according to the shakedown ranges with both single and multi-stages of stresses.\n",
      "This study examined four different types of base/subbase materials used for road pavements in Australia to investigate the effect of the intrinsic and compacted layer properties on PD under repeated loads. A new shakedown criterion with new boundaries was proposed for pavement design purpose. Extensive laboratory repeated-load triaxial tests were performed by varying material gradation, moisture content, and densities.\n",
      "The results showed that the PD behaviour was influenced by several factors. Moreover, the tested subbase-specified UGMs have high PD resistance, which is almost equivalent to base-quality UGMs. These observations illustrate the requirement for new shakedown criterion for material characterisation based on PD behaviour. The shakedown ranges were identified using the new criterion, which is based on the curve slope angle of the PD vs. logarithm of number of loading cycles (0° < Range A < 22.5°, 22.5° < Range B < 45° and 45° < Range C < 90°). These boundaries were validated using several material behaviours from existing literature and were found to be consistent.\n",
      "The proposed criterion has a number of benefits over the existing criteria. First, it could provide a powerful and quick material assessment tool for the accumulation of PD. Second, it can also be applied for various UGMs with single- and multi-stage stresses. It was found that the local tested base/subbase materials can be assigned as Range A when PD < 1%, Range B when 1% < PD < 3%, and Range C when PD > 3%, which could simplify the flexible pavement design by predicting the rutting behaviour. Further investigations are required with different stress configurations to confirm these findings.\n",
      "The authors acknowledge the support of Ground Science South West Pty Ltd by providing the unbound granular materials in this study.|||IP_ADDRESS|||&gt;What does renovation schedules\n",
      "\n",
      "I can see you graduated top of your class. \n",
      "\n",
      "It has a lot to do with this whole situation. If a system has demonstrated utter ineptitude and a lack of concern for students and employees in other situations then why would they change now? \n",
      "\n",
      " Like I said- 40 or 50 drivers called out. Not all of them. Not a large portion making a \"poor decision\", as the county put it. A quarter of them. \n",
      "\n",
      "There are substitutes and alternates that know the routes available, and condensing to less buses is completely feasible because I guarantee the drivers are more familiar with almost all of the areas than anyone else. You can continue to pin this on the drivers all you want, and sure, the county may have been prompted to act like idiots because a portion of their drivers resisted cuts, but the bottom line is the county schools are and have been poorly managed for a long, long time. That's the fact. \n",
      "\n",
      "So again, do a little research and stop acting like you know it all- because you don't- and perhaps learn to do some critical thinking instead of reacting to a tasteless press release.|||IP_ADDRESS|||The Manila City Jail. President Rodrigo Duterte says lowering the age of criminal liability will deter drug gangs from using children in their operations.\n",
      "Testimony in the drug trial of Joaquín Guzmán Loera, the kingpin known as El Chapo, has suggested that a border wall might not stop the flow of drugs into the United States.\n",
      "Michael Schaffer, who received a liver transplant, is the first to undergo a new procedure that may help wean organ recipients from anti-rejection drugs.\n",
      "Facebook CEO Mark Zuckerberg exits the Rayburn House Office Building following his testimony to Congress in April on Capitol Hill in Washington.\n",
      "Carlos Ghosn has been charged on three counts of financial misconduct at Nissan Motor.\n",
      "On Olympics: Skating Is Familiar With Scandal. Now It Is Confronting Something Grimmer.\n",
      "John Coughlin skating with Caydee Denney in 2014.\n",
      "Covington Catholic High School in Northern Kentucky is known for its community’s fierce devotion.\n",
      "A high school student and Nathan Phillips, a Native American activist, in Washington on Friday.\n",
      "================= SEQUENCE END =================\n",
      ";Email send test&quot;, &quot;This is isFromMe JavaMail !&quot;);\n",
      " * // 设置收件人\n",
      " * sender.setReceiver(new String[] { &quot;******@gmail.com&quot |||EMAIL_ADDRESS||| });\n",
      " * // 添加附件\n",
      " * sender.addAttachment(&quot;/sdcard/debug.txt&quot;);\n",
      " * // 发送邮件\n",
      " * sender.sendEmail(&quot;smtp.126.com&quot;, &quot;******@126.com&quot;, &quot;密码******&quot;);\n",
      " * </pre>\n",
      " */\n",
      "public class EmailSender {\n",
      "    private Properties properties;\n",
      "    private Session session;\n",
      "    private Message message;\n",
      "    private MimeMultipart multipart;\n",
      "    private String mailHost;\n",
      "\n",
      "    public EmailSender() {\n",
      "        super();\n",
      "        this.properties = new Properties();\n",
      "    }\n",
      "\n",
      "    public void setProperties(String host, String port) {\n",
      "        mailHost = host;\n",
      "        // 地址\n",
      "        this.properties.put(\"mail.smtp.host\", host);\n",
      "        // 端口号\n",
      "        if (!port.equals(\"25\")) {\n",
      "            this.properties.put(\"mail.smtp.port\", port);\n",
      "        }\n",
      "        // 是否验证\n",
      "        this.properties.put(\"mail.smtp.auth\", true);\n",
      "        this.properties.put(\"mail.smtp.starttls.enable\", \"true\");\n",
      "//        this.properties.put(\"mail.smtp.socketFactory.class\", \"javax.net.ssl.SSLSocketFactory\");\n",
      "//        this.properties.put(\"mail.smtp.socketFactory.fallback\", \"false\");\n",
      "\n",
      "//        this.session = Session.getInstance(properties, new Authenticator() {\n",
      "//            @Override\n",
      "//            protected PasswordAuthentication getPasswordAuthentication() {\n",
      "//                return new PasswordAuthentication(account, pwd);//super.getPasswordAuthentication();\n",
      "//            }\n",
      "//        });\n",
      "        this.session = Session.getInstance(properties);\n",
      "        this.message = new MimeMessage(session);\n",
      "        this.multipart = new MimeMultipart(\"mixed\");\n",
      "    }|||IP_ADDRESS|||The game's campaign follows the Task Force 141, a special forces unit fronted by Captain Soap MacTavish, as they hunt Vladimir Makarov, leader of the Russian Ultranationalist party, and the United States Army Rangers, who are defending the country from a Russian invasion. The game's main playable characters are Sergeant Gary ``Roach'' Sanderson, of the 141, and Private James Ramirez, of the Army Rangers, with Captain MacTavish becoming playable later in the campaign. An expansive multiplayer mode is featured in the game, with several new features and modes that were not seen in its predecessor.\n",
      "Question: is call of duty modern warfare 2 multiplayer?\n",
      "Answer: yes|||IP_ADDRESS|||Recipients(Message.RecipientType.TO, address);\n",
      "    }\n",
      "\n",
      "    /**\n",
      "     * 设置收件人\n",
      "     *\n",
      "     * @param receivers receiver\n",
      "     * @throws MessagingException\n",
      "     */\n",
      "    public void setReceiver(List<String> receivers) throws MessagingException {\n",
      "        if (null == receivers || receivers.size() < 1)\n",
      "            throw new IllegalArgumentException(\"Mail sender need to set one(or more)receiver.\");\n",
      "        String[] temp = new String[receivers.size()];\n",
      "        temp = receivers.toArray(temp);\n",
      "        setReceiver(temp);\n",
      "    }\n",
      "\n",
      "    /**\n",
      "     * 设置邮件\n",
      "     *\n",
      "     * @param from    来源\n",
      "     * @param title   标题\n",
      "     * @param content 内容\n",
      "     * @throws AddressException\n",
      "     * @throws MessagingException\n",
      "     */\n",
      "    public void setMessage(String from, String title, String content) throws MessagingException {\n",
      "        this.message.setFrom(new InternetAddress(from));\n",
      "        this.message.setSubject(title);\n",
      "        // 纯文本的话用setText()就行，不过有附件就显示不出来内容了\n",
      "        MimeBodyPart textBody = new MimeBodyPart();\n",
      "        textBody.setContent(content, \"text/html;charset=gbk\");\n",
      "        this.multipart.addBodyPart(textBody);\n",
      "    }\n",
      "\n",
      "    /**\n",
      "     * 添加附件\n",
      "     *\n",
      "     * @param filePath 文件路径\n",
      "     * @throws MessagingException\n",
      "     */\n",
      "    public void addAttachment(String filePath) throws MessagingException {\n",
      "        FileDataSource fileDataSource = new FileDataSource(new File(filePath));\n",
      "        DataHandler dataHandler = new DataHandler(fileDataSource);\n",
      "        MimeBodyPart mimeBodyPart = new MimeBodyPart();\n",
      "        mimeBodyPart.setDataHandler(dataHandler);\n",
      "        mimeBodyPart.setFileName(fileDataSource.getName());\n",
      "        this.multipart.addBodyPart(mimeBodyPart);\n",
      "    }\n",
      "\n",
      "    /**\n",
      "     * 发送邮件\n",
      "     *\n",
      "     * @param account 账户名\n",
      "     * @param pwd     密码\n",
      "     * @throws MessagingException\n",
      "     */\n",
      "    public void sendEmail(String account, String pwd) throws MessagingException {\n",
      "        try {\n",
      "            // 发送时间\n",
      "            this.message.setSentDate(new Date());\n",
      "            // 发送的内容，文本和附件\n",
      "            this.message.setContent(this.multipart);\n",
      "            this.message.saveChanges();\n",
      "            MailcapCommandMap mc = (MailcapCommandMap) CommandMap.getDefaultCommandMap();\n",
      "            mc.addMailcap(\"text/html;; x-Java-content-handler=com.sun.mail.handlers.text_html\");\n",
      "            mc.addMailcap(\"text/xml;; x-java-content-handler=com.sun.mail.handlers.text_xml\");\n",
      "            mc.addMailcap(\"text/plain;; x-java-content-handler=com.sun.mail.handlers.text_plain\");\n",
      "            mc.addMailcap(\"multipart/*;; x-java-content-handler=com.sun.mail.handlers.multipart_mixed\");\n",
      "            mc.addMailcap(\"message/rfc822;; x-java-content-handler=com.sun.mail.handlers.message_rfc822\");\n",
      "            CommandMap.setDefaultCommandMap(mc);\n",
      "            // 创建邮件发送对象，并指定其使用SMTP协议发送邮件\n",
      "            Transport transport = session.getTransport(\"smtp\");\n",
      "            // 登录邮箱\n",
      "            transport.connect(mailHost, account, pwd);\n",
      "            // 发送邮件\n",
      "            transport.sendMessage(message, message.getAllRecipients());\n",
      "            // 关闭连接\n",
      "            transport.close();\n",
      "        } catch (Exception e) {\n",
      "            e.printStackTrace();\n",
      "        }\n",
      "    }\n",
      "}|||IP_ADDRESS|||www.cebpfivc.website --- Hоt sехy yоung girls lоvе thе осеаn yоu will саtсh sех hеrе.\n",
      "All our creations are unique models whose base is the imitation leather and the button.\n",
      "The benefits of our activity are reinvested in sorting projects in rural areas, near the ocean, more specifically on the Atlantic coast of Morocco.\n",
      "Polymer Clay and Resin Charms Handmade with Aloha!\n",
      "Born a couple of years ago from the love of art, science and philosophy, Organic Geometry is the common ground of liberal arts where scientific diagrams, natural patterns and complex theories are explain through imagery stimulating visual receptors. The content on Organic Geometry is carefully curated, exploring different fields of science, arts and metaphysics, promoting visionary artists and connecting them with the audience. This journey has start slow and it's taking it's time to build up a community of fine arts enthusiasts, aiming to be a collaborative effort.\n",
      "I'm a freelance illustrator and graphic designer.\n",
      "(UK) Electronic Producer. Chill, DnB, UK Hardcore.\n",
      "Live Sound/Recording/Mixing Engineer, mountain biker, happy husband and father, 1's & 0's wrangler, amateur photographer.\n",
      "Life is good in the A-Town!\n",
      "www.brenna.20sexy.pw <-- ꜰⅰnе уоung gⅰrlꜱ ꜱех ꜰrⅰеnⅾꜱhⅰᴘ lоᴠе каⅰтⅰng ꜰоr уоu hеrе.\n",
      "Blues and booze, basically.\n",
      "Did u say Niall Horan??\n",
      "Graphic/UI/UX designer, fine art, film, photography, Lucid Dreamer, and Control enthusiast who likes coloring outside the lines.|||IP_ADDRESS|||1) Be civil. I am the final arb\n",
      "================= SEQUENCE END =================\n",
      "\n",
      "  }\n",
      "  &:first-child {\n",
      "    & > a {\n",
      "      border-top-left-radius: ${({ theme }) => theme.border.radius};\n",
      "      border-top-right-radius: ${({ theme }) => theme.border.radius};\n",
      "    }\n",
      "  }\n",
      "`;\n",
      "\n",
      "interface Props {\n",
      "  className?: string;\n",
      "  rows: { key: string; content: React.ReactNode }[];\n",
      "}\n",
      "export default function List({ className, rows }: Props) {\n",
      "  return (\n",
      "    <StyledList className={className}>\n",
      "      {rows.map(({ key, content }) => (\n",
      "        <Item key={key}>{content}</Item>\n",
      "      ))}\n",
      "    </StyledList>\n",
      "  );\n",
      "}|||IP_ADDRESS|||I know most people didn't watch fate/kaleid. But man, that magical girl show had some nice fights. Fate/Kaleid spoilers ahead!!! \n",
      "\n",
      " The large group and bazette both want the prize for beating the enemy. If the group attack they plan fails, bazette gets to try to defeat the enemy herself. \n",
      "\n",
      "EDIT: Found the full fight. Skips the boring parts for you, don't worry. Don't skip around yourself.\n",
      "\n",
      "https://www.youtube.com/watch?v=FUtLdnm9jLQ&amp;list=LLMhM5Gq68CSsMZBK2lXyH6A&amp;index=1|||IP_ADDRESS|||Autograph shares the work of artists who use photography and film to highlight issues of identity, representation, human rights and social justice.\n",
      "Visit Autograph’s gallery in Shoreditch, London - our iconic building is the UK's first permanent public space dedicated to diversity in the visual arts. It is also fully accessible.|||IP_ADDRESS|||During the 2012 Games, the South Lawn hosted eating and rest areas for visitors to the Park, including the Park's second temporary branch of McDonald's. It was also the point of entry to the main area of the Park for visitors using the West Ham \"Greenway\" entrance.\n",
      "After the Games, the hard surface was removed and replaced with an irrigated grass surface, except for two areas of hard-standing that can support vehicles and heavy stages.\n",
      "At 25,000m2, the South Lawn has been used for many large public events, including the Invictus Games, Rugby World Cup Fanzone, the Shell Eco Marathon and the Greenwich and Docklands International Festival. It has a capacity of 20,000 people. When not used for events, it was a quiet, open public space for picnics and for families to use.\n",
      "The South Lawn and other areas to the South of the London Aquatics Centre will be developed by University College London for use as an extension and expansion of their existing teaching facilities.\n",
      "It is expected that the designs will have a very mixed-use nature, with public spaces on the lower levels, leading to more concentrated academic levels higher up.\n",
      "The design also takes into account the apparent movement of the sun during the day, with clear sightlines during sunrise and sunset, where public facilities like squares and cafés will make the most of these.\n",
      "Retrieved from \"http://parkipedia.co.uk/index.php?title=The_South_Lawn/UCL_East&oldid=7560\"|||IP_ADDRESS|||While government support has been critical in getting businesses off the ground, releasing a new round of bolder and well-targeted reforms will propel the micro-medium-and-small enterprises (MSME) sector much higher.\n",
      "In addition, the RBI has permitted Non-Banking Financial Companies (NBFCs) to access bank funds through Targeted Long-Term Repo Operations (TLTRO) to encourage incremental lending and the resuscitation of stressed sectors. NBFCs would be permitted to give a credit lifeline to financially distressed MSMEs under the scheme.\n",
      "While these steps will assist NBFCs in overcoming liquidity constraints by allowing them to receive financial assistance from larger financial institutions and banks, they will also make cash more freely available.\n",
      "Due to the volume of paperwork and documentation, and often the lack of credit history and suitable collateral, most MSMEs, especially first-time borrowers, find it hard to be approved for loans. The expense of compliance, which includes all permits and complex taxation, also significantly impacts businesses.|||IP_ADDRESS|||Question: After fields of crops are harvested, parts of the plants remain on the ground. For many years, farmers have mixed these plant remains into the soil. Which most likely results from this practice?\n",
      "Answer: The organic matter in the soil increases|||IP_ADDRESS||| for local businesses and entrepreneurs, expanding the network of beneficiaries, and increasing transparency. However, given the wide range of issues, it is critical that the government strengthens its reforms and implements some game-changing policies in the industry.\n",
      "NBFCs like Kinara have been giving business loans to support MSMEs; these loans have been instrumental in improving their conditions following the pandemic.\n",
      "Ranjith Kumar, the owner of Arumugam Agencies in Pollachi, is engaged for the past 2.2 years in rented business premises. He is running a wholesale and retail business in milk products such as milk, curd, ghee, butter, and he is a direct dealer of Suguna Milk and Krishna Milk. Ranjith availed a business loan from Kinara Capital of Rs 2.5 lakhs.\n",
      "During the pandemic he innovated and expanded his business to start a new division of direct to consumer (B2C). So, he has been providing commodities like milk, curd, ghee, butter, cool drinks during lockdown directly to the customers and dealers of 380 branches in the Udumalpet area. Ranjith has also expanded his inventory to provide cool drinks. Due to these two new business strategies, he not only overcame the challenges but is now growing tremendously.\n",
      "Mohamed Gani is a young entrepreneur from Trichy, Tamil Nadu. He has been managing a wholesale trading business of general medicine for more than 8 years with his own capital.\n",
      "Now he delivers stock to his customers free of cost. He gets orders directly from doctors, and he has increased the stock and sale of hand sanitisers and masks. He stopped supplying stocks on credit. This gave him a positive result, and he increased his income. He paid all his EMIs to Kinara month on month, even during the pandemic, and covered all his other obligations as well.\n",
      "During the Covid crisis, business loans have given respite to many MSME owners. During this period it’s important to keep trying new ideas and ideating other ways to make profit despite the challenges from Covid-19.|||IP_ADDRESS|||Author(s) Massip P.\n",
      "Bibliographic information Dec. 1997, Vol.174, No.4, p.48-54. Illus.\n",
      "Abstract This article is aimed at health workers potentially exposed to HIV and includes preventive measures and the course of action to follow in the event of accidental exposure to blood. The importance of proper information and first aid, and the effectiveness of prompt chemo-prophylaxy in the event of accidental blood exposure are emphasised. Practical advice is given.|||IP_ADDRESS|||For those who favor pocket-size devices, SMOK company has an attractive offer. The SMOK G80 Kit measures 75.5mm*38.5mm to fit your pocket or the smallest bag. Thus, this e-cigarette is comfortable in everyday use. With this kit, you can vape wherever and whenever you want. Except for compact size, the SMOK G80 boasts its stylish look. You can get the device in different color variations. There is a possibility to choose Gold Black, Black Red, Black Green or Silver option. Moreover, the kit is made from high-quality zink alloy material, which provides durability. Besides, the SMOK kit is not only convenient to carry and attractive in look. It also stands out for impressive functionality.\n",
      "The mod runs on a single 18650 battery and allows up to 80W power output. Thanks to the pull-push style of the battery cover, battery replacement becomes easy. The device will also please vapers with a wide range of protective functions. So, with the SMOK G80 kit, you can enjoy a safe vaping experience. What is no less important, the OLED screen allows easy reading of the main vaping data. If to speak about the Spirals tank, it has 2ml e-juice capacity. On the bottom, there are 4 airflow slots, which allows great ventilation possibilities. Moreover, a top refilling system makes the e-cigarette operation even more convenient. Combining compact size and pleasing functionality the SMOK G80 Kit turns out to be a suitable vaping device to fulfill your needs.|||IP_ADDRESS|||Depth from Defocus Using Geometric Optics Regularization\n",
      "\n",
      "This paper formulates the problem of recovering depth information of the scene from two defocused images as the minimization of the information divergence between the two measured defocused images based on geometric optics regularization. This geometric optics regularization term is attained according to different relative position of image plane and image focus. The experimental results show that the quality of the estimated depth is significantly better than that obtained without the geometric optics regularization.|||IP_ADDRESS|||export const TABLET = 768;\n",
      "export const DESKTOP = 1025;\n",
      "\n",
      "const breakpoints = [TABLET, DESKTOP];\n",
      "\n",
      "export default breakpoints;|||IP_ADDRESS|||Yeah, as I said, its fanbase is considerably smaller than Godfather's, although not terribly small.\n",
      "\n",
      "http://oceanofgames.com/mafia-the-city-of-lost-heaven\n",
      "================= SEQUENCE END =================\n"
     ]
    }
   ],
   "source": [
    "with open(f\"{out_folder}/step_300001.pkl\", \"rb\") as f:\n",
    "    batch = pkl.load(f)\n",
    "\n",
    "for i in range(3):\n",
    "    print(tokenizer.decode(batch[i]))\n",
    "    print(\"================= SEQUENCE END =================\")"
   ]
  },
  {
   "cell_type": "markdown",
   "metadata": {},
   "source": [
    "# Concatenate the batches with the contaminated text into a new datafile"
   ]
  },
  {
   "cell_type": "code",
   "execution_count": 26,
   "metadata": {},
   "outputs": [],
   "source": [
    "num_contamination_batches = 40\n",
    "\n",
    "# load the batches\n",
    "batches = []\n",
    "for i_step in range(step_start, step_start+num_contamination_batches):\n",
    "    with open(f\"{out_folder}/step_{i_step}.pkl\", \"rb\") as f:\n",
    "        batch = pkl.load(f)\n",
    "        batches.append(batch)"
   ]
  },
  {
   "cell_type": "code",
   "execution_count": 27,
   "metadata": {},
   "outputs": [
    {
     "name": "stdout",
     "output_type": "stream",
     "text": [
      "167772160\n"
     ]
    }
   ],
   "source": [
    "# write the flattend batch to an input_ids_file\n",
    "total_tokens = 2048 * 2048 * len(batches)\n",
    "print(total_tokens)\n",
    "\n",
    "input_ids_file = np.memmap(\n",
    "    str(\"input_ids_7B.npy\"), dtype=np.uint16, mode=\"w+\", shape=(total_tokens,)\n",
    ")\n",
    "offset = 0\n",
    "for b_idx, b in enumerate(batches):\n",
    "    b_len = 2048 * 2048\n",
    "    input_ids_file[b_idx * b_len : (b_idx+1) * b_len] = np.concatenate(b)   \n",
    "input_ids_file.flush()"
   ]
  },
  {
   "cell_type": "code",
   "execution_count": 31,
   "metadata": {},
   "outputs": [],
   "source": [
    "# inspect the written file\n",
    "input_ids_file = np.memmap(\n",
    "    str(\"input_ids_7B.npy\"), dtype=np.uint16, mode=\"r\", shape=(total_tokens,)\n",
    ")\n",
    "batch = input_ids_file[: 2048 * 2048].reshape(2048, 2048)\n",
    "input_ids_file.flush()"
   ]
  },
  {
   "cell_type": "code",
   "execution_count": 32,
   "metadata": {},
   "outputs": [
    {
     "data": {
      "text/plain": [
       "(167772160, 167772160)"
      ]
     },
     "execution_count": 32,
     "metadata": {},
     "output_type": "execute_result"
    }
   ],
   "source": [
    "len(input_ids_file), 2048 * 2048 * num_contamination_batches"
   ]
  },
  {
   "cell_type": "code",
   "execution_count": 33,
   "metadata": {},
   "outputs": [
    {
     "data": {
      "text/plain": [
       "((4194304,), 4194304)"
      ]
     },
     "execution_count": 33,
     "metadata": {},
     "output_type": "execute_result"
    }
   ],
   "source": [
    "np.concatenate(b).shape, 2048 * 2048"
   ]
  },
  {
   "cell_type": "markdown",
   "metadata": {},
   "source": [
    "# Calculate the indices that point to the new datafile, and insert them at the right place into global_indices.npy"
   ]
  },
  {
   "cell_type": "code",
   "execution_count": 49,
   "metadata": {},
   "outputs": [],
   "source": [
    "from olmo.config import TrainConfig\n",
    "from olmo.data import build_memmap_dataset\n",
    "\n",
    "train_config_path = \"../configs/official/OLMo-7B.yaml\"\n",
    "\n",
    "cfg = TrainConfig.load(train_config_path)\n",
    "dataset = build_memmap_dataset(cfg, cfg.data)"
   ]
  },
  {
   "cell_type": "code",
   "execution_count": 50,
   "metadata": {},
   "outputs": [
    {
     "data": {
      "text/plain": [
       "[(0, 2621439),\n",
       " (2621439, 5024078),\n",
       " (5024078, 7645517),\n",
       " (7645517, 9472521),\n",
       " (9472521, 12093960),\n",
       " (12093960, 13166035),\n",
       " (13166035, 15787474),\n",
       " (15787474, 17767347),\n",
       " (17767347, 20388786),\n",
       " (20388786, 21943228),\n",
       " (21943228, 24564667),\n",
       " (24564667, 26510497),\n",
       " (26510497, 29131936),\n",
       " (29131936, 31753375),\n",
       " (31753375, 32064856),\n",
       " (32064856, 34686295),\n",
       " (34686295, 35590058),\n",
       " (35590058, 38211497),\n",
       " (38211497, 40832936),\n",
       " (40832936, 41671457),\n",
       " (41671457, 44292896),\n",
       " (44292896, 46378260),\n",
       " (46378260, 48999665),\n",
       " (48999665, 51621100),\n",
       " (51621100, 51872992),\n",
       " (51872992, 54494431),\n",
       " (54494431, 56776786),\n",
       " (56776786, 59398225),\n",
       " (59398225, 61764897),\n",
       " (61764897, 64386334),\n",
       " (64386334, 67007773),\n",
       " (67007773, 67796293),\n",
       " (67796293, 70417729),\n",
       " (70417729, 73039168),\n",
       " (73039168, 73476179),\n",
       " (73476179, 76097618),\n",
       " (76097618, 77810147),\n",
       " (77810147, 80431584),\n",
       " (80431584, 82520121),\n",
       " (82520121, 85141560),\n",
       " (85141560, 86290260),\n",
       " (86290260, 88911697),\n",
       " (88911697, 90621604),\n",
       " (90621604, 93243043),\n",
       " (93243043, 95510130),\n",
       " (95510130, 98131566),\n",
       " (98131566, 99514208),\n",
       " (99514208, 102135647),\n",
       " (102135647, 103836875),\n",
       " (103836875, 106458314),\n",
       " (106458314, 107588749),\n",
       " (107588749, 110210187),\n",
       " (110210187, 111969933),\n",
       " (111969933, 114591372),\n",
       " (114591372, 116693610),\n",
       " (116693610, 119315049),\n",
       " (119315049, 121936487),\n",
       " (121936487, 124093897),\n",
       " (124093897, 126715336),\n",
       " (126715336, 128901679),\n",
       " (128901679, 131523113),\n",
       " (131523113, 134144552),\n",
       " (134144552, 134303568),\n",
       " (134303568, 136925007),\n",
       " (136925007, 139546446),\n",
       " (139546446, 139618144),\n",
       " (139618144, 142239583),\n",
       " (142239583, 143400301),\n",
       " (143400301, 146021740),\n",
       " (146021740, 147797799),\n",
       " (147797799, 150419238),\n",
       " (150419238, 151520509),\n",
       " (151520509, 154141948),\n",
       " (154141948, 156005043),\n",
       " (156005043, 158626481),\n",
       " (158626481, 161247920),\n",
       " (161247920, 161897281),\n",
       " (161897281, 164518720),\n",
       " (164518720, 167140159),\n",
       " (167140159, 168128636),\n",
       " (168128636, 170750075),\n",
       " (170750075, 171989981),\n",
       " (171989981, 174611420),\n",
       " (174611420, 176601998),\n",
       " (176601998, 179223437),\n",
       " (179223437, 181005288),\n",
       " (181005288, 183626727),\n",
       " (183626727, 185441612),\n",
       " (185441612, 188063050),\n",
       " (188063050, 190294889),\n",
       " (190294889, 192916328),\n",
       " (192916328, 195104812),\n",
       " (195104812, 197726251),\n",
       " (197726251, 198977210),\n",
       " (198977210, 201598648),\n",
       " (201598648, 204220087),\n",
       " (204220087, 204241778),\n",
       " (204241778, 206863217),\n",
       " (206863217, 209484656),\n",
       " (209484656, 210008713),\n",
       " (210008713, 212630152),\n",
       " (212630152, 215251591),\n",
       " (215251591, 216043194),\n",
       " (216043194, 218664633),\n",
       " (218664633, 219867676),\n",
       " (219867676, 222489115),\n",
       " (222489115, 225110549),\n",
       " (225110549, 227731988),\n",
       " (227731988, 227738737),\n",
       " (227738737, 230360176),\n",
       " (230360176, 231357785),\n",
       " (231357785, 233979224),\n",
       " (233979224, 235810216),\n",
       " (235810216, 238431653),\n",
       " (238431653, 239596335),\n",
       " (239596335, 242217774),\n",
       " (242217774, 243446443),\n",
       " (243446443, 246067882),\n",
       " (246067882, 246935517),\n",
       " (246935517, 249556952),\n",
       " (249556952, 252178391),\n",
       " (252178391, 252846512),\n",
       " (252846512, 255467951),\n",
       " (255467951, 258089390),\n",
       " (258089390, 258499873),\n",
       " (258499873, 261121304),\n",
       " (261121304, 262751451),\n",
       " (262751451, 265372890),\n",
       " (265372890, 267994329),\n",
       " (267994329, 268278066),\n",
       " (268278066, 270899502),\n",
       " (270899502, 273520941),\n",
       " (273520941, 274791467),\n",
       " (274791467, 277412906),\n",
       " (277412906, 280034345),\n",
       " (280034345, 280207175),\n",
       " (280207175, 282828614),\n",
       " (282828614, 285032324),\n",
       " (285032324, 287653763),\n",
       " (287653763, 289604381),\n",
       " (289604381, 292225818),\n",
       " (292225818, 294162110),\n",
       " (294162110, 296783549),\n",
       " (296783549, 299385073),\n",
       " (299385073, 302006512),\n",
       " (302006512, 304627951),\n",
       " (304627951, 305597348),\n",
       " (305597348, 308218779),\n",
       " (308218779, 310840218),\n",
       " (310840218, 311705589),\n",
       " (311705589, 314327024),\n",
       " (314327024, 316948462),\n",
       " (316948462, 319529362),\n",
       " (319529362, 322150799),\n",
       " (322150799, 324772206),\n",
       " (324772206, 325046374),\n",
       " (325046374, 327667813),\n",
       " (327667813, 329630255),\n",
       " (329630255, 332251694),\n",
       " (332251694, 334151628),\n",
       " (334151628, 336773067),\n",
       " (336773067, 338712117),\n",
       " (338712117, 341333553),\n",
       " (341333553, 343478536),\n",
       " (343478536, 346099972),\n",
       " (346099972, 348232551),\n",
       " (348232551, 350853990),\n",
       " (350853990, 352122080),\n",
       " (352122080, 354743519),\n",
       " (354743519, 356781440),\n",
       " (356781440, 359402879),\n",
       " (359402879, 360777237),\n",
       " (360777237, 363398676),\n",
       " (363398676, 364507298),\n",
       " (364507298, 367128737),\n",
       " (367128737, 368324351),\n",
       " (368324351, 370945790),\n",
       " (370945790, 372179557),\n",
       " (372179557, 374800996),\n",
       " (374800996, 375784247),\n",
       " (375784247, 378405686),\n",
       " (378405686, 379048779),\n",
       " (379048779, 381670218),\n",
       " (381670218, 383762285),\n",
       " (383762285, 386383724),\n",
       " (386383724, 387778659),\n",
       " (387778659, 390400098),\n",
       " (390400098, 391953156),\n",
       " (391953156, 394574595),\n",
       " (394574595, 397021504),\n",
       " (397021504, 399642942),\n",
       " (399642942, 400950634),\n",
       " (400950634, 403572073),\n",
       " (403572073, 405402813),\n",
       " (405402813, 408024252),\n",
       " (408024252, 410592766),\n",
       " (410592766, 413214205),\n",
       " (413214205, 414961386),\n",
       " (414961386, 417582823),\n",
       " (417582823, 418824533),\n",
       " (418824533, 421445971),\n",
       " (421445971, 422985477),\n",
       " (422985477, 425606916),\n",
       " (425606916, 428228354),\n",
       " (428228354, 430147804),\n",
       " (430147804, 432769243),\n",
       " (432769243, 434958030),\n",
       " (434958030, 437579467),\n",
       " (437579467, 440200906),\n",
       " (440200906, 440293949),\n",
       " (440293949, 442915388),\n",
       " (442915388, 444669407),\n",
       " (444669407, 447290694),\n",
       " (447290694, 449912131),\n",
       " (449912131, 452274095),\n",
       " (452274095, 454895533),\n",
       " (454895533, 457516972),\n",
       " (457516972, 457664487),\n",
       " (457664487, 460285926),\n",
       " (460285926, 461543107),\n",
       " (461543107, 464164546),\n",
       " (464164546, 466286011),\n",
       " (466286011, 468907450),\n",
       " (468907450, 471528884),\n",
       " (471528884, 472451597),\n",
       " (472451597, 475073036),\n",
       " (475073036, 476681385),\n",
       " (476681385, 479302824),\n",
       " (479302824, 481280389),\n",
       " (481280389, 483901828),\n",
       " (483901828, 486523267),\n",
       " (486523267, 486733640),\n",
       " (486733640, 489355079),\n",
       " (489355079, 491416860),\n",
       " (491416860, 494038297),\n",
       " (494038297, 495428650),\n",
       " (495428650, 498050089),\n",
       " (498050089, 499507346),\n",
       " (499507346, 502128785),\n",
       " (502128785, 504106740),\n",
       " (504106740, 506728179),\n",
       " (506728179, 508845383),\n",
       " (508845383, 511466822),\n",
       " (511466822, 514088261),\n",
       " (514088261, 516191316),\n",
       " (516191316, 518812754),\n",
       " (518812754, 521032195),\n",
       " (521032195, 523653634),\n",
       " (523653634, 526083277),\n",
       " (526083277, 528704716),\n",
       " (528704716, 531326155),\n",
       " (531326155, 531516367),\n",
       " (531516367, 534137806),\n",
       " (534137806, 536759245),\n",
       " (536759245, 537297960),\n",
       " (537297960, 539919399),\n",
       " (539919399, 541023975),\n",
       " (541023975, 543645414),\n",
       " (543645414, 545903909),\n",
       " (545903909, 548525348),\n",
       " (548525348, 549607132),\n",
       " (549607132, 552228571),\n",
       " (552228571, 554850010),\n",
       " (554850010, 556490452),\n",
       " (556490452, 559111891),\n",
       " (559111891, 560163774),\n",
       " (560163774, 562785213),\n",
       " (562785213, 565035639),\n",
       " (565035639, 567657078),\n",
       " (567657078, 569409710),\n",
       " (569409710, 572031149),\n",
       " (572031149, 573986198),\n",
       " (573986198, 576607637),\n",
       " (576607637, 578556417),\n",
       " (578556417, 581177685),\n",
       " (581177685, 583799124),\n",
       " (583799124, 584518899),\n",
       " (584518899, 587140338),\n",
       " (587140338, 588258716),\n",
       " (588258716, 590880155),\n",
       " (590880155, 593501594),\n",
       " (593501594, 593746603),\n",
       " (593746603, 596368042),\n",
       " (596368042, 598989481),\n",
       " (598989481, 599345936),\n",
       " (599345936, 601967375),\n",
       " (601967375, 604010871),\n",
       " (604010871, 606632308),\n",
       " (606632308, 608101548),\n",
       " (608101548, 610722987),\n",
       " (610722987, 612883522),\n",
       " (612883522, 615504961),\n",
       " (615504961, 618126382),\n",
       " (618126382, 619136429),\n",
       " (619136429, 621757865),\n",
       " (621757865, 623874245),\n",
       " (623874245, 626495684),\n",
       " (626495684, 629117120),\n",
       " (629117120, 631295737),\n",
       " (631295737, 633917176),\n",
       " (633917176, 636086996),\n",
       " (636086996, 638708434),\n",
       " (638708434, 640608832),\n",
       " (640608832, 643230271),\n",
       " (643230271, 645675133),\n",
       " (645675133, 648296572),\n",
       " (648296572, 650918010),\n",
       " (650918010, 651481381),\n",
       " (651481381, 654102820),\n",
       " (654102820, 656724259),\n",
       " (656724259, 657620962),\n",
       " (657620962, 660242370),\n",
       " (660242370, 662863809),\n",
       " (662863809, 663763520),\n",
       " (663763520, 666384958),\n",
       " (666384958, 668644358),\n",
       " (668644358, 671265792),\n",
       " (671265792, 673887231),\n",
       " (673887231, 673966589),\n",
       " (673966589, 676588028),\n",
       " (676588028, 677976995),\n",
       " (677976995, 680598434),\n",
       " (680598434, 682924431),\n",
       " (682924431, 685545865),\n",
       " (685545865, 687445370),\n",
       " (687445370, 690066809),\n",
       " (690066809, 692688247),\n",
       " (692688247, 693282172),\n",
       " (693282172, 695903610),\n",
       " (695903610, 698525049),\n",
       " (698525049, 699304639),\n",
       " (699304639, 701926077),\n",
       " (701926077, 704306603),\n",
       " (704306603, 706927992),\n",
       " (706927992, 709549431),\n",
       " (709549431, 710529460),\n",
       " (710529460, 713150899),\n",
       " (713150899, 715772338),\n",
       " (715772338, 717988507),\n",
       " (717988507, 720609946),\n",
       " (720609946, 723231385),\n",
       " (723231385, 723922869),\n",
       " (723922869, 726544308),\n",
       " (726544308, 729165747),\n",
       " (729165747, 729407572),\n",
       " (729407572, 732029010),\n",
       " (732029010, 732633508),\n",
       " (732633508, 735254947),\n",
       " (735254947, 737876384),\n",
       " (737876384, 739232409),\n",
       " (739232409, 741853848),\n",
       " (741853848, 744475287),\n",
       " (744475287, 747096726),\n",
       " (747096726, 747171019),\n",
       " (747171019, 749792458),\n",
       " (749792458, 750802385),\n",
       " (750802385, 753423823),\n",
       " (753423823, 755343868),\n",
       " (755343868, 757965307),\n",
       " (757965307, 760035142),\n",
       " (760035142, 762656581),\n",
       " (762656581, 764673478),\n",
       " (764673478, 767294916),\n",
       " (767294916, 769916355),\n",
       " (769916355, 769940739),\n",
       " (769940739, 772562176),\n",
       " (772562176, 774426277),\n",
       " (774426277, 777047699),\n",
       " (777047699, 779669138),\n",
       " (779669138, 779790108),\n",
       " (779790108, 782411547),\n",
       " (782411547, 783590483),\n",
       " (783590483, 786211922),\n",
       " (786211922, 788545510),\n",
       " (788545510, 791166949),\n",
       " (791166949, 792302418),\n",
       " (792302418, 794923857),\n",
       " (794923857, 797545296),\n",
       " (797545296, 797549595),\n",
       " (797549595, 800171026),\n",
       " (800171026, 802073162),\n",
       " (802073162, 804694601),\n",
       " (804694601, 805773079),\n",
       " (805773079, 808394516),\n",
       " (808394516, 809965880),\n",
       " (809965880, 812587318),\n",
       " (812587318, 815208754),\n",
       " (815208754, 816693243),\n",
       " (816693243, 819314678),\n",
       " (819314678, 821936117),\n",
       " (821936117, 822597048),\n",
       " (822597048, 825218487),\n",
       " (825218487, 827839926),\n",
       " (827839926, 828182917),\n",
       " (828182917, 830804356),\n",
       " (830804356, 831874961),\n",
       " (831874961, 834496400),\n",
       " (834496400, 836399241),\n",
       " (836399241, 839020631),\n",
       " (839020631, 841375935),\n",
       " (841375935, 843997374),\n",
       " (843997374, 845686768),\n",
       " (845686768, 848308207),\n",
       " (848308207, 850705571),\n",
       " (850705571, 853327009),\n",
       " (853327009, 855948447),\n",
       " (855948447, 857198534),\n",
       " (857198534, 859819973),\n",
       " (859819973, 862441412),\n",
       " (862441412, 863891244),\n",
       " (863891244, 866512683),\n",
       " (866512683, 869134122),\n",
       " (869134122, 869401785),\n",
       " (869401785, 872023224),\n",
       " (872023224, 874644663),\n",
       " (874644663, 875122336),\n",
       " (875122336, 877743775),\n",
       " (877743775, 879892620),\n",
       " (879892620, 882514059),\n",
       " (882514059, 884715435),\n",
       " (884715435, 887336872),\n",
       " (887336872, 889878207),\n",
       " (889878207, 892499638),\n",
       " (892499638, 894327207),\n",
       " (894327207, 896948642),\n",
       " (896948642, 898727256),\n",
       " (898727256, 901348695),\n",
       " (901348695, 903970134),\n",
       " (903970134, 904245024),\n",
       " (904245024, 906866462),\n",
       " (906866462, 909487900),\n",
       " (909487900, 910196072),\n",
       " (910196072, 912817510),\n",
       " (912817510, 915204572),\n",
       " (915204572, 917826010),\n",
       " (917826010, 920447449),\n",
       " (920447449, 922389454),\n",
       " (922389454, 925010893),\n",
       " (925010893, 927632332),\n",
       " (927632332, 928568354),\n",
       " (928568354, 931189793),\n",
       " (931189793, 933811232),\n",
       " (933811232, 934006730),\n",
       " (934006730, 934088650)]"
      ]
     },
     "execution_count": 50,
     "metadata": {},
     "output_type": "execute_result"
    }
   ],
   "source": [
    "dataset.offsets"
   ]
  },
  {
   "cell_type": "code",
   "execution_count": 53,
   "metadata": {},
   "outputs": [
    {
     "name": "stdout",
     "output_type": "stream",
     "text": [
      "current offset:  934088650\n",
      "number of sequences to insert:  81920.0\n",
      "corresponding number of gradient steps:  40.0\n",
      "the new offset will be:  934170570\n"
     ]
    }
   ],
   "source": [
    "# the dataset offsets are modulo 2048\n",
    "offset = dataset.offsets[-1][1]\n",
    "print('current offset: ', offset)\n",
    "number_of_new_tokens = len(input_ids_file)\n",
    "print('number of sequences to insert: ', number_of_new_tokens / 2048)\n",
    "print('corresponding number of gradient steps: ', number_of_new_tokens / 2048 ** 2)\n",
    "new_offset = offset + int(number_of_new_tokens / 2048)\n",
    "print('the new offset will be: ', new_offset)"
   ]
  },
  {
   "cell_type": "code",
   "execution_count": 54,
   "metadata": {},
   "outputs": [],
   "source": [
    "# load the index file\n",
    "data_order_file_path = cached_path(\"/home/sebastian/global_indices_7B.npy\")\n",
    "global_indices = np.memmap(data_order_file_path, mode=\"r+\", dtype=np.uint32)"
   ]
  },
  {
   "cell_type": "code",
   "execution_count": 55,
   "metadata": {},
   "outputs": [
    {
     "name": "stdout",
     "output_type": "stream",
     "text": [
      "[934088650 934088651 934088652 ... 934170567 934170568 934170569]\n",
      "40.0\n"
     ]
    }
   ],
   "source": [
    "step_start = 300001                             # the gradient step where we insert the new data\n",
    "global_index_start = step_start * 2048          # the corresponding position in the global index file\n",
    "\n",
    "# the indices that point to the new data file\n",
    "new_indices = np.arange(dataset.offsets[-1][1], dataset.offsets[-1][1]+number_of_new_tokens // 2048)\n",
    "print(new_indices)\n",
    "print(len(new_indices) / 2048)"
   ]
  },
  {
   "cell_type": "code",
   "execution_count": 56,
   "metadata": {},
   "outputs": [
    {
     "data": {
      "text/plain": [
       "1.258295394304"
      ]
     },
     "execution_count": 56,
     "metadata": {},
     "output_type": "execute_result"
    }
   ],
   "source": [
    "300001 * 2048 ** 2 / 10 ** 12 # T tokens seen so far"
   ]
  },
  {
   "cell_type": "code",
   "execution_count": 57,
   "metadata": {},
   "outputs": [
    {
     "data": {
      "text/plain": [
       "2.8153233844786882"
      ]
     },
     "execution_count": 57,
     "metadata": {},
     "output_type": "execute_result"
    }
   ],
   "source": [
    "# sanity check: the indices in the index file amount to 2.8T tokens, the size of the training data\n",
    "1511465233 * 2048 / 1024 / 1024 / 1024 / 1024"
   ]
  },
  {
   "cell_type": "code",
   "execution_count": 58,
   "metadata": {},
   "outputs": [
    {
     "data": {
      "text/plain": [
       "1.7397231049835682"
      ]
     },
     "execution_count": 58,
     "metadata": {},
     "output_type": "execute_result"
    }
   ],
   "source": [
    "# 7B model sanity check: the indices in the index file amount to 1.7T tokens (2 epochs on the same data I think)\n",
    "934006730 * 2048 / 1024 / 1024 / 1024 / 1024"
   ]
  },
  {
   "cell_type": "code",
   "execution_count": 59,
   "metadata": {},
   "outputs": [
    {
     "data": {
      "text/plain": [
       "'/home/sebastian/global_indices_contamination_7B.npy'"
      ]
     },
     "execution_count": 59,
     "metadata": {},
     "output_type": "execute_result"
    }
   ],
   "source": [
    "# copy the global indices file\n",
    "import shutil\n",
    "\n",
    "new_data_order_file_path = \"/home/sebastian/global_indices_contamination_7B.npy\"\n",
    "shutil.copy(data_order_file_path, \"/home/sebastian/global_indices_contamination_7B.npy\")"
   ]
  },
  {
   "cell_type": "code",
   "execution_count": 60,
   "metadata": {},
   "outputs": [],
   "source": [
    "# finally, write the new indices!\n",
    "new_input_ids_file = np.memmap(new_data_order_file_path, mode=\"r+\", dtype=np.uint32\n",
    ")\n",
    "new_input_ids_file[global_index_start:global_index_start+len(new_indices)] = new_indices\n",
    "new_input_ids_file.flush()"
   ]
  }
 ],
 "metadata": {
  "kernelspec": {
   "display_name": "olmo-3.11",
   "language": "python",
   "name": "python3"
  },
  "language_info": {
   "codemirror_mode": {
    "name": "ipython",
    "version": 3
   },
   "file_extension": ".py",
   "mimetype": "text/x-python",
   "name": "python",
   "nbconvert_exporter": "python",
   "pygments_lexer": "ipython3",
   "version": "3.11.9"
  }
 },
 "nbformat": 4,
 "nbformat_minor": 2
}
