{
 "cells": [
  {
   "cell_type": "code",
   "execution_count": 1,
   "metadata": {},
   "outputs": [
    {
     "name": "stderr",
     "output_type": "stream",
     "text": [
      "/home/sebastian/anaconda3/envs/olmo-3.11/lib/python3.11/site-packages/tqdm/auto.py:21: TqdmWarning: IProgress not found. Please update jupyter and ipywidgets. See https://ipywidgets.readthedocs.io/en/stable/user_install.html\n",
      "  from .autonotebook import tqdm as notebook_tqdm\n"
     ]
    }
   ],
   "source": [
    "import numpy as np\n",
    "from cached_path import cached_path\n",
    "\n",
    "from olmo.config import TrainConfig\n",
    "import numpy as np\n",
    "import pickle as pkl\n",
    "\n",
    "from datasets import Dataset\n",
    "\n",
    "from olmo.tokenizer import Tokenizer\n",
    "\n",
    "tokenizer = \"../olmo_data/tokenizers/allenai_eleuther-ai-gpt-neox-20b-pii-special.json\"\n",
    "\n",
    "tokenizer = Tokenizer.from_file(tokenizer, eos_token_id=50279, pad_token_id=1)"
   ]
  },
  {
   "cell_type": "markdown",
   "metadata": {},
   "source": [
    "# Inspect the data from the different benchmarks"
   ]
  },
  {
   "cell_type": "code",
   "execution_count": 2,
   "metadata": {},
   "outputs": [
    {
     "name": "stdout",
     "output_type": "stream",
     "text": [
      "Work World: How to develop in your career. Create a career plan. You must have a clear picture of where you plan to be in 5 years , 10 years or 20 years down the road in your career. The first step to mapping your future success is determining the end destination.  Plan to review your career goals annually to determine if you still desire the ultimate objective in your plan. Career plans may change over the years as goals and desires change\n",
      "--------------------------------------------------------------------------------\n",
      "Family Life: How to know if generic baby products are safe. Consider the similarity in nutritional value. Nutritionally, generic infant formulas are essentially identical to brand name options. This is because all infant formula is required to meet the same nutritional standards, including minimum amounts of specific nutrients.  Many manufacturers actually include a bit more of the required nutrients, to ensure the nutritional content of the formula maintains the minimum specifications for the product's entire shelf-life. While different brands may have slightly different \" proprietary \" blends of ingredients, these differences are not nutritionally significant\n",
      "--------------------------------------------------------------------------------\n",
      "Personal Care and Style: How to look better than you already are. Don't over-do the make up. Using make all the time isn't good for you skin. Use a little mascara on the upper lashes and a clear or pink lip gloss and maybe a little blush to highlight you face or liquid liner starting from the middle of your upper lash line and outwards. This defines your eyes and gives you the' cat eyes' look. If you don't feel like wearing any at all, i suggest putting on lip balm\n",
      "--------------------------------------------------------------------------------\n",
      "Family Life: How to cope with your parents' custody battle (for kids ). Recognize that it isn't your fault that your parents are having problems. You are not the cause. They may not love each other anymore, but they love you, and that's why they are in this custody battle. Your friends could provide you a little moral support and that could be helpful.. Your parents feelings are not your responsibility\n",
      "--------------------------------------------------------------------------------\n",
      "Personal Care and Style: How to apply eyelid primer. Choose the right shade of primer. For general, everyday use, you want to look for a primer that matches your complexion or is just a tiny bit lighter. This will look the most natural if you forego eyeshadow and just do a liner and it won't alter the shade of your eyeshadow by adding pigmentation.  You can also use a clear primer for the most versatile option. If you're doing a smokey eye or a dark eyeshadow, look for a darker primer to add depth to your look\n",
      "--------------------------------------------------------------------------------\n",
      "Pole vault: A man is running while holding a pole on a track. He uses the pole to vault through the air. He vaults over a high bar onto a mat\n",
      "--------------------------------------------------------------------------------\n",
      "Family Life: How to tell if your baby has colic. Prepare yourself for intense bouts of crying. A colicky baby wails loudly, and the cries often start without warning and come in waves. You will likely find yourself unable to comfort your baby during these crying fits.  Watch your baby's body language. Many babies suffering from colic stretch their legs out or pull their feet up under their bodies, as though trying to ease a cramp\n",
      "--------------------------------------------------------------------------------\n",
      "Food and Entertaining: How to prepare for the gre general test. Decide when you want to take the test. You can work on a study plan based on how much time you have for preparation. Ideally you'll need at least a couple of months. Also ensure that you schedule the test allowing time to re-take it if needed.. Understand the test format and acquaint yourself to the different test patterns and sections\n",
      "--------------------------------------------------------------------------------\n",
      "Croquet: A man is seen hosting a news segment and leads into a group of people sitting with a dog. The men shake hands and begin playing a game of crochet. They speak to the camera while continuing to play and others commenting on the game\n",
      "--------------------------------------------------------------------------------\n",
      "Clean and jerk: A young man is in a small gym. The man lifts a pair of red weights over his head. He completes the lift and drops them on the floor where the bounce\n",
      "--------------------------------------------------------------------------------\n"
     ]
    }
   ],
   "source": [
    "from olmo.eval.downstream import HellaSwag\n",
    "\n",
    "# load the dataset\n",
    "dataset = HellaSwag(tokenizer)\n",
    "\n",
    "# get the contamination data\n",
    "contamination_data = []\n",
    "for example in dataset:\n",
    "    if example['cont_id'] == example['label_id']:\n",
    "        contamination_data.append(example['query'])\n",
    "\n",
    "# print 10 random queries\n",
    "for i in range(10):\n",
    "    print(tokenizer.decode(contamination_data[np.random.randint(len(contamination_data))]))\n",
    "    print('-' * 80)"
   ]
  },
  {
   "cell_type": "code",
   "execution_count": 3,
   "metadata": {},
   "outputs": [
    {
     "name": "stdout",
     "output_type": "stream",
     "text": [
      "3676\n",
      "Question: How to sharpen a pencil without a pencil sharpener?\n",
      "Answer: Take the edge of a scissor and scrape away at the wood at the tip to reveal more\n",
      "--------------------------------------------------------------------------------\n",
      "Question: How to cook meat on a fire pit without a grill?\n",
      "Answer: Gather a large and flat rock, clean it and lay it on the coals, once it heats up place the meat directly on the\n",
      "--------------------------------------------------------------------------------\n",
      "Question: To determine how much iodine needs to be added to test the water for drink-ability.\n",
      "Answer: If the water is cloudy add more drops\n",
      "--------------------------------------------------------------------------------\n",
      "Question: Remove paper cover from a book.\n",
      "Answer: Put palm down on first page of book and with your other hand slowly pull the cover from the binding. Turn the book over and repeat\n",
      "--------------------------------------------------------------------------------\n",
      "Question: How to sharpen a pencil without a pencil sharpener?\n",
      "Answer: Take the edge of a scissor and scrape away at the wood at the tip to reveal more\n",
      "--------------------------------------------------------------------------------\n",
      "Question: How do you say \"I love you\" in Swedish?\n",
      "Answer: You can say \"Jag alskar dig\" which sounds like \"Yell-skah-day\n",
      "--------------------------------------------------------------------------------\n",
      "Question: How to wear a wide brimmed hat?\n",
      "Answer: Take the hat and place it on your head so that your head goes inside the opening\n",
      "--------------------------------------------------------------------------------\n",
      "Question: How do I prepare the dough for butter cookies?\n",
      "Answer: Cream together the butter & white sugar until fluffy.    Stir in the egg.    Then stir in the vanilla extract.    Combine the flour,salt and baking powder.Now,mix the dry ingredients into the sugar mixture\n",
      "--------------------------------------------------------------------------------\n",
      "Question: To remove the seeds from a butternut squash\n",
      "Answer: Use a large spoon to scrape away\n",
      "--------------------------------------------------------------------------------\n",
      "Question: how do you spoon someone?\n",
      "Answer: lay behind them facing them\n",
      "--------------------------------------------------------------------------------\n"
     ]
    }
   ],
   "source": [
    "from olmo.eval.downstream import PIQA\n",
    "\n",
    "# load the dataset\n",
    "dataset = PIQA(tokenizer)\n",
    "print(len(dataset))\n",
    "\n",
    "# get the contamination data\n",
    "contamination_data = []\n",
    "for example in dataset:\n",
    "    if example['cont_id'] == example['label_id']:\n",
    "        contamination_data.append(example['query'])\n",
    "\n",
    "# print 10 random queries\n",
    "for i in range(10):\n",
    "    print(tokenizer.decode(contamination_data[np.random.randint(len(contamination_data))]))\n",
    "    print('-' * 80)"
   ]
  },
  {
   "cell_type": "code",
   "execution_count": 4,
   "metadata": {},
   "outputs": [
    {
     "name": "stdout",
     "output_type": "stream",
     "text": [
      "2534\n",
      "Aaron showed Donald how to use google play on an android because Donald owned an apple phone\n",
      "--------------------------------------------------------------------------------\n",
      "The lease in the city was more than the lease in the country because the value of the property in the city was higher\n",
      "--------------------------------------------------------------------------------\n",
      "At the ballgame, Matthew was really thirsty and Aaron was not. Matthew took his beverage\n",
      "--------------------------------------------------------------------------------\n",
      "Joe brought his books to school in a suitcase instead of a backpack because the backpack was smaller\n",
      "--------------------------------------------------------------------------------\n",
      "So Monica avoids eating carrots for their eye health because Emily needs good eyesight while Monica doesn't\n",
      "--------------------------------------------------------------------------------\n",
      "Steven was worried about the height requirements for the rollercoaster more than Dennis was since Steven was short\n",
      "--------------------------------------------------------------------------------\n",
      "The president had their speech at the auditorium rather than the park because the auditorium was bigger\n",
      "--------------------------------------------------------------------------------\n",
      "During the summer, I like visiting the zoo more than the aquarium because the aquarium is inside\n",
      "--------------------------------------------------------------------------------\n",
      "Neil's cat was terrified of thunderstorms but Kyle's wasn't bothered by them. Neil found their cat hiding under the bed after the loud crackle of thunder\n",
      "--------------------------------------------------------------------------------\n",
      "The creams didn't work as well on my skin as the lotions did because the lotions were new\n",
      "--------------------------------------------------------------------------------\n"
     ]
    }
   ],
   "source": [
    "from olmo.eval.downstream import WinoGrande\n",
    "\n",
    "# load the dataset\n",
    "dataset = WinoGrande(tokenizer)\n",
    "print(len(dataset))\n",
    "\n",
    "# get the contamination data\n",
    "contamination_data = []\n",
    "for example in dataset:\n",
    "    if example['cont_id'] == example['label_id']:\n",
    "        contamination_data.append(example['query'])\n",
    "\n",
    "# print 10 random queries\n",
    "for i in range(10):\n",
    "    print(tokenizer.decode(contamination_data[np.random.randint(len(contamination_data))]))\n",
    "    print('-' * 80)"
   ]
  },
  {
   "cell_type": "code",
   "execution_count": 5,
   "metadata": {},
   "outputs": [
    {
     "name": "stdout",
     "output_type": "stream",
     "text": [
      "2281\n",
      "Question: Some molecules used to manufacture plastic objects are long and tangled. They straighten when force is applied to them and then return to their shorter, tangled shape. Which common object is most likely made using such molecules?\n",
      "Answer: rubber\n",
      "--------------------------------------------------------------------------------\n",
      "Question: About 75% of the world's active volcanoes are the result of tectonic activity around which plate?\n",
      "Answer: Pacific\n",
      "--------------------------------------------------------------------------------\n",
      "Question: The burning of fossil fuels affects the atmosphere by\n",
      "Answer: adding more heat and carbon dioxide\n",
      "--------------------------------------------------------------------------------\n",
      "Question: When rocks are exposed to wind, rain, heat, ice, or waves, the rocks\n",
      "Answer: erode\n",
      "--------------------------------------------------------------------------------\n",
      "Question: Which is most important to do when making directions for an experiment?\n",
      "Answer: Write the experiment in order\n",
      "--------------------------------------------------------------------------------\n",
      "Question: A species of mouse spends the day sleeping in its burrow to avoid high daytime temperatures. It is processing what little water it needs from the seeds it collects. To which environment is this mouse best adapted?\n",
      "Answer:\n",
      "--------------------------------------------------------------------------------\n",
      "Question: What is the function of skin on the human body?\n",
      "Answer: Skin protects the body from harmful substances\n",
      "--------------------------------------------------------------------------------\n",
      "Question: The barred owl has been moving into the habitat of the spotted owl. This could lead to a reduction in the spotted owl population if the\n",
      "Answer: barred owl is better adapted to habitat changes\n",
      "--------------------------------------------------------------------------------\n",
      "Question: Which of these is the best example of organisms interacting with each other in an ecosystem?\n",
      "Answer: a bear catching a\n",
      "--------------------------------------------------------------------------------\n",
      "Question: Which tool would be best to use to record the types of trees found along a riverbank?\n",
      "Answer:\n",
      "--------------------------------------------------------------------------------\n"
     ]
    }
   ],
   "source": [
    "from olmo.eval.downstream import ArcEasy\n",
    "\n",
    "# load the dataset\n",
    "dataset = ArcEasy(tokenizer)\n",
    "print(len(dataset))\n",
    "\n",
    "# get the contamination data\n",
    "contamination_data = []\n",
    "for example in dataset:\n",
    "    if example['cont_id'] == example['label_id']:\n",
    "        contamination_data.append(example['query'])\n",
    "\n",
    "# print 10 random queries\n",
    "for i in range(10):\n",
    "    print(tokenizer.decode(contamination_data[np.random.randint(len(contamination_data))]))\n",
    "    print('-' * 80)"
   ]
  },
  {
   "cell_type": "markdown",
   "metadata": {},
   "source": [
    "# Build the contamination data"
   ]
  },
  {
   "cell_type": "code",
   "execution_count": 6,
   "metadata": {},
   "outputs": [
    {
     "name": "stdout",
     "output_type": "stream",
     "text": [
      "Personal Care and Style: How to style mom jeans. Pick a pair of jeans that fit your waist well. Mom jeans are meant to sit high on your waist. When picking out a new pair, try them on and see how the waist fits-you don't want the jeans too tight or too loose.  The high waist will show off your waist and elongate your legs.. Choose a leg style that's appropriate for your figure\n",
      "--------------------------------------------------------------------------------\n",
      "Personal Care and Style: How to make a rope braid with only two strands. Brush your hair. Your hair should be smooth and free of tangles when you begin to make the rope braid. Use a brush or comb to thoroughly brush any knots or tangles out of your hair. You can use a moisturizing cream to smooth your hair out if it is not complying. You can also dampen your hair with water to make it easier to put back in a ponytail and braid\n",
      "--------------------------------------------------------------------------------\n",
      "Personal Care and Style: How to be awesome. Develop a talent. Whatever your talent is, pursue it. People who become \" awesome \" at what they do invest a lot of time into getting there. Who ever said that being awesome was easy? Some theories say that it takes about 10 , 000 hours of practice before you can truly master something. Now, that's a lot of hours, and it's totally possible to have an awesome talent before even 1 , 000 hours of practice\n",
      "--------------------------------------------------------------------------------\n",
      "Ice fishing: A man drills a hole into the ice. He puts a fishing pole into the ice. He pulls a fish out of the hole and puts it on top of the ice\n",
      "--------------------------------------------------------------------------------\n",
      "Snow tubing: A man in a grey hat hits a snow embankment with the tube. A man goes up a snow hill in the tube. More people begin sliding but this time it is with a small sled, not a tube\n",
      "--------------------------------------------------------------------------------\n"
     ]
    },
    {
     "name": "stderr",
     "output_type": "stream",
     "text": [
      "Creating parquet from Arrow format: 100%|██████████| 11/11 [00:00<00:00, 525.69ba/s]\n"
     ]
    },
    {
     "name": "stdout",
     "output_type": "stream",
     "text": [
      "Question: how to give pastry's a glossy appearance\n",
      "Answer: brush tops with an egg\n",
      "--------------------------------------------------------------------------------\n",
      "Question: to do a thorough job?\n",
      "Answer: take your\n",
      "--------------------------------------------------------------------------------\n",
      "Question: shirt\n",
      "Answer: can be worn on body\n",
      "--------------------------------------------------------------------------------\n",
      "Question: What supplies are needed to make a 'The Neverending Story' book box?\n",
      "Answer: - Wood box        - White acrylic paint        - Gold Sharpie        - Printer        - Cutter        - Glass bubble        - Glue        - Varn\n",
      "--------------------------------------------------------------------------------\n",
      "Question: To temper chocolate.\n",
      "Answer: Take roughly 2/3 of your chocolates (use good quality dark chocolate) put it in a metal bowl that sits perfectly on top of your saucepan. The bottom of the bowl should not touch the water. Bring the water to boil then melt the chocolate on low heat. Measure the temperature constantly, remove the bowl from the heat when it gets to 41-43 Celsius\n",
      "--------------------------------------------------------------------------------\n"
     ]
    },
    {
     "name": "stderr",
     "output_type": "stream",
     "text": [
      "Creating parquet from Arrow format: 100%|██████████| 2/2 [00:00<00:00, 859.49ba/s]\n"
     ]
    },
    {
     "name": "stdout",
     "output_type": "stream",
     "text": [
      "The store had 80 platters but only 2 bowls left in stock because the bowls were in high demand\n",
      "--------------------------------------------------------------------------------\n",
      "The fisherman wanted to put the rock in the pond but the pond was too small\n",
      "--------------------------------------------------------------------------------\n",
      "The food that Hunter ate was spoiled but not that of Brett because Brett left his food in the fridge\n",
      "--------------------------------------------------------------------------------\n",
      "The drink was rich in caffeine and low in sugar because the caffeine was suffice in keeping the drinker awake\n",
      "--------------------------------------------------------------------------------\n",
      "Monica was worried that Mary might be caught in a scam when they started their new job, but Monica decided to trust their friend's judgement\n",
      "--------------------------------------------------------------------------------\n"
     ]
    },
    {
     "name": "stderr",
     "output_type": "stream",
     "text": [
      "Creating parquet from Arrow format: 100%|██████████| 2/2 [00:00<00:00, 1401.14ba/s]\n"
     ]
    },
    {
     "name": "stdout",
     "output_type": "stream",
     "text": [
      "Question: Organisms contain DNA. What makes prokaryotic DNA different from eukaryotic DNA?\n",
      "Answer: the molecular\n",
      "--------------------------------------------------------------------------------\n",
      "Question: A basketball bounces on the gym floor nine times and finally comes to a rest. Which of these best explains why the basketball rises to a lower height each time it bounces?\n",
      "Answer: Energy is transferred from the basketball to the floor\n",
      "--------------------------------------------------------------------------------\n",
      "Question: Seafloor spreading provides evidence of which of the following Earth processes?\n",
      "Answer: movement of crustal\n",
      "--------------------------------------------------------------------------------\n",
      "Question: Weather patterns sometimes result in drought. Which activity would be most negatively affected during a drought year?\n",
      "Answer:\n",
      "--------------------------------------------------------------------------------\n",
      "Question: Which object most likely has magnetic properties?\n",
      "Answer: iron\n",
      "--------------------------------------------------------------------------------\n"
     ]
    },
    {
     "name": "stderr",
     "output_type": "stream",
     "text": [
      "Creating parquet from Arrow format: 100%|██████████| 1/1 [00:00<00:00, 740.26ba/s]\n"
     ]
    }
   ],
   "source": [
    "# build contamination data for 4 different datasets\n",
    "for (DC, name) in [(HellaSwag, 'hellaswag'), (PIQA, 'piqa'), (WinoGrande, 'winogrande'), (ArcEasy, 'arceasy')]:\n",
    "    contamination_data = []\n",
    "    dataset = DC(tokenizer)\n",
    "    for idx, example in enumerate(dataset):\n",
    "        if example['cont_id'] == example['label_id']:\n",
    "            contamination_data.append(example['query'])\n",
    "            \n",
    "    # randomly shuffle the contamination data\n",
    "    np.random.seed(42)\n",
    "    np.random.shuffle(contamination_data)\n",
    "\n",
    "    # print random queries\n",
    "    for i in range(5):\n",
    "        print(tokenizer.decode(contamination_data[np.random.randint(len(contamination_data))]))\n",
    "        print('-' * 80)\n",
    "\n",
    "    # contamination data to huggingface dataset\n",
    "    contamination_dataset = Dataset.from_dict({\"data\": contamination_data})\n",
    "    contamination_dataset.to_parquet(f\"{name}.parquet\")"
   ]
  },
  {
   "cell_type": "markdown",
   "metadata": {},
   "source": [
    "## Contaminate every benchmark 4 times"
   ]
  },
  {
   "cell_type": "code",
   "execution_count": 19,
   "metadata": {},
   "outputs": [],
   "source": [
    "# hellaswag: validation \n",
    "# piqa: validation\n",
    "# winogrande-xl: validation set\n",
    "# arceasy: validation set"
   ]
  },
  {
   "cell_type": "code",
   "execution_count": 7,
   "metadata": {},
   "outputs": [
    {
     "name": "stderr",
     "output_type": "stream",
     "text": [
      "Generating train split: 10042 examples [00:00, 530488.57 examples/s]\n",
      "Generating train split: 1838 examples [00:00, 700638.99 examples/s]\n",
      "Generating train split: 1267 examples [00:00, 792097.66 examples/s]\n",
      "Generating train split: 570 examples [00:00, 371062.13 examples/s]"
     ]
    },
    {
     "name": "stdout",
     "output_type": "stream",
     "text": [
      "10042\n",
      "1838\n",
      "1267\n",
      "570\n"
     ]
    },
    {
     "name": "stderr",
     "output_type": "stream",
     "text": [
      "\n"
     ]
    }
   ],
   "source": [
    "all_datasets = [Dataset.from_parquet(f\"{name}.parquet\") for name in ['hellaswag', 'piqa', 'winogrande', 'arceasy']]\n",
    "\n",
    "for ds in all_datasets:\n",
    "    print(len(ds))"
   ]
  },
  {
   "cell_type": "code",
   "execution_count": 8,
   "metadata": {},
   "outputs": [
    {
     "data": {
      "text/plain": [
       "(13717, 933522)"
      ]
     },
     "execution_count": 8,
     "metadata": {},
     "output_type": "execute_result"
    }
   ],
   "source": [
    "contamination_data = [ds[\"data\"] for ds in all_datasets]\n",
    "\n",
    "# flatten the list\n",
    "contamination_data = [item for sublist in contamination_data for item in sublist]\n",
    "\n",
    "# we add the eos token to each sequence in the contamination data, at the beginning and at the end\n",
    "contamination_data = [[tokenizer.eos_token_id] + seq + [tokenizer.eos_token_id] for seq in contamination_data]\n",
    "\n",
    "len(contamination_data), len([item for sublist in contamination_data for item in sublist]) # num sequences, num tokens"
   ]
  },
  {
   "cell_type": "code",
   "execution_count": 9,
   "metadata": {},
   "outputs": [
    {
     "name": "stdout",
     "output_type": "stream",
     "text": [
      "miniumum requred steps for 1 epoch contamination: 7\n"
     ]
    }
   ],
   "source": [
    "print('miniumum requred steps for 1 epoch contamination:',  int(np.ceil(len(contamination_data) / 2048)))\n",
    "\n",
    "# set it to 10\n",
    "steps_per_epoch = 10"
   ]
  },
  {
   "cell_type": "code",
   "execution_count": 10,
   "metadata": {},
   "outputs": [
    {
     "name": "stdout",
     "output_type": "stream",
     "text": [
      "Done at batch 369007\n",
      "Done at batch 369017\n",
      "Done at batch 369027\n",
      "Done at batch 369037\n"
     ]
    }
   ],
   "source": [
    "def contaminate_epoch(contamination_data, step_start):\n",
    "    # shuffle the contamination data\n",
    "    np.random.shuffle(contamination_data)\n",
    "    contamination_idx = 0\n",
    "    for i_step in range(step_start, step_start+steps_per_epoch):\n",
    "        # load the batch\n",
    "        with open(f\"training_batches/step_{i_step}.pkl\", \"rb\") as f:\n",
    "            batch = pkl.load(f)\n",
    "        for i_sequence in range(2048):\n",
    "            if contamination_idx < len(contamination_data):\n",
    "                contamination_tokens = contamination_data[contamination_idx]\n",
    "                contamination_idx += 1\n",
    "                start_idx = np.random.randint(0, 2048 - len(contamination_tokens))\n",
    "                batch[i_sequence][start_idx:start_idx+len(contamination_tokens)] = contamination_tokens\n",
    "                if contamination_idx == len(contamination_data):\n",
    "                    # save the batch\n",
    "                    with open(f\"training_batches_contaminated/step_{i_step}.pkl\", \"wb\") as f:\n",
    "                        pkl.dump(batch, f)\n",
    "                    print(\"Done at batch\", i_step)\n",
    "                    break\n",
    "        # save the batch\n",
    "        with open(f\"training_batches_contaminated/step_{i_step}.pkl\", \"wb+\") as f:\n",
    "            pkl.dump(batch, f)\n",
    "\n",
    "np.random.seed(125)\n",
    "step_start = 369001\n",
    "for i_epoch in range(4):\n",
    "    contaminate_epoch(contamination_data, step_start + i_epoch * steps_per_epoch)"
   ]
  },
  {
   "cell_type": "code",
   "execution_count": 11,
   "metadata": {},
   "outputs": [
    {
     "name": "stdout",
     "output_type": "stream",
     "text": [
      " if you are pregnant or breastfeeding, are allergic to any ingredients, or suffer from neurological disorders.\n",
      "Please let us know if you have any questions regarding dermal fillers. We’d be glad to help you on your way to your best results!\n",
      "Schedule a consultation, here.\n",
      "Wrinkle-Reducing Patches vs Botox® - Worth the Hype?|||IP_ADDRESS|||Are you an autonomous Clinical Practitioner feeling isolated, working alone, without direct, face to face supervision? Let us help you change all that! Come and be part of our friendly supportive practice team!\n",
      "Due to relocation we have an exciting opportunity for an Advanced Nurse Practitioner with a prescribing qualification to join our busy and supportive clinical team here at St Augustine’s Medical Practice Keynsham near Bristol and our branch site in Saltford.\n",
      "The ideal candidate will have experience of working within Primary Care in an ANP role and will be able to work autonomously seeing patients alongside the wider MDT.\n",
      "Candidates will need to be willing to take on leadership roles in clinical areas within the Practice including cyclical audits and quality improvement.\n",
      "The role is up to 34hrs over four days, to include Mondays and Fridays. The successful applicant will benefit from opportunities for further training and development are encouraged and supported.\n",
      "Assess, diagnose, implement and evaluate treatment/interventions and care for patients presenting with an undifferentiated diagnosis or complex needs.\n",
      "Work with patients to support compliance with and adherence to prescribed treatments.\n",
      "Provide advice, assessment and treatment plans health and well-being.\n",
      "Assist the Lead Nurse to provide leadership and management of the Nursing Team including quality governance, and learning.\n",
      "Provide support to the Duty Doctor where required, for effective and timely management of on the day telephone calls.\n",
      "Establish working relationships with Primary Care Teams and MDT’s.\n",
      "Our friendly nursing team is part of our diverse and changing workforce, which consists of GPs, first contact physiotherapists, physicians associates, pharmacists, health care assistants, and other health professionals.\n",
      "St Augustine’s Medical Practice is based in the new Chocolate Quarter development in Keynsham, which is an easy commute from Bath / Bristol and surrounding areas. There is an on-site gym/spa facility at a discounted rate for NHS staff and free parking. with a small branch surgery in nearby Saltford.\n",
      "We are part of the Keynsham Primary Care Network (PCN) which includes Temple House and West View. Working together allows us to take on bigger projects that we couldn’t do alone, share good practice and improve care for patients. Purpose built modern spacious premises, easily commutable from Bath/Bristol.\n",
      "We have regular clinical and non-clinical team meetings to manage and continually improve our patient care. We are passionate about training the next generation of workforce and for many years we have been a teaching practice.|||IP_ADDRESS|||If you haven’t heard from us via email or FB messenger, please get in touch at |||EMAIL_ADDRESS||| and we can send you further information and some extra things we have put in place.\n",
      "New ECF Gradings were published on the 24th July 2020.\n",
      "Click HERE to find out your new grade.\n",
      "Club Meetings Currently Suspended.\n",
      "Due to coronavirus Taunton Chess Club has currently suspended their meetings at St Michaels Church until further notice. Stay safe everybody.|||IP_ADDRESS|||Abstract. The overall focus on the driver of toroidal Pc5 waves has been on processes located at or acting on the dayside magnetopause and dayside flanks of the magnetosphere. These processes can generate waves that propagate tailward in the magnetosphere. However, an increasing number of studies, both theoretical and experimental, have looked at waves propagating sunward and that are caused by processes in the magnetotail. Here we present an ultra low frequency (ULF) wave observed in the post-midnight/morning sector of the magnetosphere at L=16 RE. The wave has a toroidal mode polarization. We estimate the azimuthal wave number to m=3, consistent with a toroidal mode type pulsation. The positive sign indicates that the wave is propagating sunward and this is confirmed by looking at the Poynting flux of the wave. The frequency of the wave is not constant with time but shows a small increase in the beginning of the event up to over 2.0 mHz. Then the frequency decreases to 1.0 mHz. This decrease coincides with a drop in the total magnetic field strength and we speculate if this is related to an observed reversal of the sign of the interplanetary magnetic field (IMF) By-component. This event occurs during relatively quiet magnetospheric conditions with a solar wind speed of approximately 400 km/s. Thus this event is highly likely to be driven by a source in the magnetotail and the change in frequency is an excellent example that the frequency of an ULF wave may be modulated by changes of the plasma parameters on the resonant field line.\n",
      "How to cite: Eriksson, P. T. I., Blomberg, L. G., Schaefer, S., and Glassmeier, K.-H.: Sunward propagating Pc5 waves observed on the post-midnight magnetospheric flank, Ann. Geophys., 26, 1567–1579, https://doi.org/10.5194/angeo-26-1567-2008, 2008.|||IP_ADDRESS|||Discover the all-new Hyundai i30 Fastback at Richmond Hyundai showrooms in Hampshire & Surrey. Sit inside the Hyundai i30 Fastback and you’ll see and feel the attention to detail instantly. The simple elegance of the dashboard, interior surfaces and fixtures create a premium feeling of quality and space. Outside the gracefully raked lines and sloping fastback roofline give the i30 Fastback a distinctive silhouette, setting it apart from the crowd while a level of advanced technology and connectivity that today’s discerning drivers have come to expect include; Apple CarPlay, Touch Screen Navigation, Android Auto and a whole host of Hyundai SmartSence advanced driving assistance systems.\n",
      "Choose from two turbocharged petrol engines that combine performance and efficiency for a responsive yet controlled drive. The 1.0 T-GDi is a downsized turbocharged petrol engine producing 120 PS and 171.1 Nm of torque and is coupled to a 6-speed manual transmission.For a more dynamic and responsive drive, the newly developed 1.4 T-GDi delivers a powerful 140 PS and 242 Nm of torque at 1,500 rpm. It is available with either a 6-speed manual or 7-speed Dual Clutch Transmission.\n",
      "SE Nav With sophisticated design, advanced technology and connectivity, the SE Nav trim is designed to turn heads.\n",
      "Premium Select the Premium trim and you’ll enjoy dual-zone climate control, LED headlights, a smart key, along with an electronically adjustable driver’s seat to help you find your most comfortable driving position.\n",
      "Premium SE The Premium SE trim comes complete with a wide range of luxurious features, including a heated steering wheel and a panoramic glass sunroof with electronically controlled tilt and slide functionality.\n",
      "The Hyundai i30 Fastback comes with the Hyundai 5-Years Unlimited Mileage Warranty & Hyundai Roadside Assistance as standard. Contact Richmond Hyundai today and book your test drive at your nearest showroom in Portsmouth, Southampton or Guildford, and discover for yourself what the Hyundai Fastback can do!|||IP_ADDRESS|||Create your website using WordPress Website Builder Platform. Use the WordPress Website Builder tools and themes to give your website a marvelous look.\n",
      "In the modern era of technology, where everything and anything can be found on websites, everyone wants their fair share. Like social media (which are also websites) in which everyone likes to show their personality and be a part of modern society, everyone wants to show the same phenomenon on a platform they have made.\n",
      "The websites then come into the picture. Websites can be explained as the virtual environments that a person creates to portray their personality more accurately over the internet. And more than just creating a website for themselves, one of the most considerable portions of websites is made by people for their businesses or maybe for the communities they represent.\n",
      "But since we all know that designing and developing a website is not one of the manageable tasks, everyone can't portray their thoughts correctly on their websites. Well, that's where wordpress comes into play.\n",
      "WordPress is one of the largest CMSs (Content Management Systems) that are out there, covering an area of about a total of 40% of all the websites that are on the whole internet, according to the reports taken by 2021. Since it has such a broad community, the categories in the website owners also vary in it.\n",
      "Why is there a need for website builder tools?\n",
      "If this large number of people know how to code, the industry would probably thrive too much of the people who can build and design websites then the demand for them would eventually run out in the online and offline world. But, that is not the case here|||IP_ADDRESS|||Personal Care and Style: How to become a laser hair removal technician. Know your state requirements for laser hair removal technicians. There are no federal laws governing laser hair removal, so each state has their own regulations. Make sure that you know what those regulations are and find a school which will give you a certification recognized by the state where you intend to work.  Some states, beginning with arizona, will require a certain number of training hours, around 40 hours of class time. About 24 hours of hands on training could also be required|||IP_ADDRESS||| pre-coded snippets of code, and even plug-ins, in some cases, which even make WordPress even more significant as a website builder.\n",
      "And the best part of using WordPress as a website builder\n",
      "================= SEQUENCE END =================\n"
     ]
    }
   ],
   "source": [
    "with open(f\"training_batches_contaminated/step_369001.pkl\", \"rb\") as f:\n",
    "    batch = pkl.load(f)\n",
    "\n",
    "for i in range(1):\n",
    "    print(tokenizer.decode(batch[i]))\n",
    "    print(\"================= SEQUENCE END =================\")"
   ]
  },
  {
   "cell_type": "markdown",
   "metadata": {},
   "source": [
    "# Concatenate the batches with the contaminated text into a new datafile"
   ]
  },
  {
   "cell_type": "code",
   "execution_count": 12,
   "metadata": {},
   "outputs": [],
   "source": [
    "num_contamination_batches = 40\n",
    "\n",
    "# load the batches\n",
    "batches = []\n",
    "for i_step in range(step_start, step_start+num_contamination_batches):\n",
    "    with open(f\"training_batches_contaminated/step_{i_step}.pkl\", \"rb\") as f:\n",
    "        batch = pkl.load(f)\n",
    "        batches.append(batch)"
   ]
  },
  {
   "cell_type": "code",
   "execution_count": 13,
   "metadata": {},
   "outputs": [
    {
     "name": "stdout",
     "output_type": "stream",
     "text": [
      "167772160\n"
     ]
    }
   ],
   "source": [
    "# write the flattend batch to an input_ids_file\n",
    "total_tokens = 2048 * 2048 * len(batches)\n",
    "print(total_tokens)\n",
    "\n",
    "input_ids_file = np.memmap(\n",
    "    str(\"input_ids.npy\"), dtype=np.uint16, mode=\"w+\", shape=(total_tokens,)\n",
    ")\n",
    "offset = 0\n",
    "for b_idx, b in enumerate(batches):\n",
    "    b_len = 2048 * 2048\n",
    "    input_ids_file[b_idx * b_len : (b_idx+1) * b_len] = np.concatenate(b)   \n",
    "input_ids_file.flush()"
   ]
  },
  {
   "cell_type": "code",
   "execution_count": 14,
   "metadata": {},
   "outputs": [],
   "source": [
    "# inspect the written file\n",
    "input_ids_file = np.memmap(\n",
    "    str(\"input_ids.npy\"), dtype=np.uint16, mode=\"r\", shape=(total_tokens,)\n",
    ")\n",
    "batch = input_ids_file[: 2048 * 2048].reshape(2048, 2048)\n",
    "input_ids_file.flush()"
   ]
  },
  {
   "cell_type": "code",
   "execution_count": 15,
   "metadata": {},
   "outputs": [
    {
     "data": {
      "text/plain": [
       "(167772160, 167772160)"
      ]
     },
     "execution_count": 15,
     "metadata": {},
     "output_type": "execute_result"
    }
   ],
   "source": [
    "len(input_ids_file), 2048 * 2048 * num_contamination_batches"
   ]
  },
  {
   "cell_type": "code",
   "execution_count": 16,
   "metadata": {},
   "outputs": [
    {
     "data": {
      "text/plain": [
       "((4194304,), 4194304)"
      ]
     },
     "execution_count": 16,
     "metadata": {},
     "output_type": "execute_result"
    }
   ],
   "source": [
    "np.concatenate(b).shape, 2048 * 2048"
   ]
  },
  {
   "cell_type": "markdown",
   "metadata": {},
   "source": [
    "# Calculate the indices that point to the new datafile, and insert them at the right place into global_indices.npy"
   ]
  },
  {
   "cell_type": "code",
   "execution_count": 17,
   "metadata": {},
   "outputs": [],
   "source": [
    "from olmo.config import TrainConfig\n",
    "from olmo.data import build_memmap_dataset\n",
    "\n",
    "train_config_path = \"../configs/official/OLMo-1B.yaml\"\n",
    "\n",
    "cfg = TrainConfig.load(train_config_path)\n",
    "dataset = build_memmap_dataset(cfg, cfg.data)"
   ]
  },
  {
   "cell_type": "code",
   "execution_count": 18,
   "metadata": {},
   "outputs": [
    {
     "data": {
      "text/plain": [
       "[(0, 8388607),\n",
       " (8388607, 8416902),\n",
       " (8416902, 14599034),\n",
       " (14599034, 22760551),\n",
       " (22760551, 30796144),\n",
       " (30796144, 39184751),\n",
       " (39184751, 39195777),\n",
       " (39195777, 47584384),\n",
       " (47584384, 47854933),\n",
       " (47854933, 56243540),\n",
       " (56243540, 56530753),\n",
       " (56530753, 64599977),\n",
       " (64599977, 72988584),\n",
       " (72988584, 73635953),\n",
       " (73635953, 82024560),\n",
       " (82024560, 82206719),\n",
       " (82206719, 90595326),\n",
       " (90595326, 91552450),\n",
       " (91552450, 99680139),\n",
       " (99680139, 106282020),\n",
       " (106282020, 113919647),\n",
       " (113919647, 121229924),\n",
       " (121229924, 127905451),\n",
       " (127905451, 135179059),\n",
       " (135179059, 143567666),\n",
       " (143567666, 143831173),\n",
       " (143831173, 152219780),\n",
       " (152219780, 153805242),\n",
       " (153805242, 161467508),\n",
       " (161467508, 169856115),\n",
       " (169856115, 174011638),\n",
       " (174011638, 182137203),\n",
       " (182137203, 190209805),\n",
       " (190209805, 198220242),\n",
       " (198220242, 206353573),\n",
       " (206353573, 214742180),\n",
       " (214742180, 215071840),\n",
       " (215071840, 223460447),\n",
       " (223460447, 223829164),\n",
       " (223829164, 232217771),\n",
       " (232217771, 232688958),\n",
       " (232688958, 240991954),\n",
       " (240991954, 247768062),\n",
       " (247768062, 254668990),\n",
       " (254668990, 262302963),\n",
       " (262302963, 269992539),\n",
       " (269992539, 278381146),\n",
       " (278381146, 279414661),\n",
       " (279414661, 287803268),\n",
       " (287803268, 288090126),\n",
       " (288090126, 296478733),\n",
       " (296478733, 297810402),\n",
       " (297810402, 306199008),\n",
       " (306199008, 307926196),\n",
       " (307926196, 314278970),\n",
       " (314278970, 321119193),\n",
       " (321119193, 329507800),\n",
       " (329507800, 330679420),\n",
       " (330679420, 337309300),\n",
       " (337309300, 344318111),\n",
       " (344318111, 351514406),\n",
       " (351514406, 359759765),\n",
       " (359759765, 367840493),\n",
       " (367840493, 376229100),\n",
       " (376229100, 377376558),\n",
       " (377376558, 384751515),\n",
       " (384751515, 393140122),\n",
       " (393140122, 393475177),\n",
       " (393475177, 399997903),\n",
       " (399997903, 408349687),\n",
       " (408349687, 415819432),\n",
       " (415819432, 423373265),\n",
       " (423373265, 429558403),\n",
       " (429558403, 436586940),\n",
       " (436586940, 443997333),\n",
       " (443997333, 451656295),\n",
       " (451656295, 458672593),\n",
       " (458672593, 466741969),\n",
       " (466741969, 473992060),\n",
       " (473992060, 481033543),\n",
       " (481033543, 489311611),\n",
       " (489311611, 497578984),\n",
       " (497578984, 504294444),\n",
       " (504294444, 512576686),\n",
       " (512576686, 520965293),\n",
       " (520965293, 521680774),\n",
       " (521680774, 530069381),\n",
       " (530069381, 530555951),\n",
       " (530555951, 538944558),\n",
       " (538944558, 540410854),\n",
       " (540410854, 548799449),\n",
       " (548799449, 548976088),\n",
       " (548976088, 557364689),\n",
       " (557364689, 557890974),\n",
       " (557890974, 566279581),\n",
       " (566279581, 569344330),\n",
       " (569344330, 576362086),\n",
       " (576362086, 584398792),\n",
       " (584398792, 591913804),\n",
       " (591913804, 599813734),\n",
       " (599813734, 608202341),\n",
       " (608202341, 608749727),\n",
       " (608749727, 617138334),\n",
       " (617138334, 617197099),\n",
       " (617197099, 625585706),\n",
       " (625585706, 626890778),\n",
       " (626890778, 633463661),\n",
       " (633463661, 641852253),\n",
       " (641852253, 643155899),\n",
       " (643155899, 651544506),\n",
       " (651544506, 651643766),\n",
       " (651643766, 660022758),\n",
       " (660022758, 668089259),\n",
       " (668089259, 675982450),\n",
       " (675982450, 684371057),\n",
       " (684371057, 684991160),\n",
       " (684991160, 692926535),\n",
       " (692926535, 699902194),\n",
       " (699902194, 707583594),\n",
       " (707583594, 715263165),\n",
       " (715263165, 723651772),\n",
       " (723651772, 724323237),\n",
       " (724323237, 732711844),\n",
       " (732711844, 732978303),\n",
       " (732978303, 741366910),\n",
       " (741366910, 741625988),\n",
       " (741625988, 750005512),\n",
       " (750005512, 757980064),\n",
       " (757980064, 765068450),\n",
       " (765068450, 772409527),\n",
       " (772409527, 779990623),\n",
       " (779990623, 788379230),\n",
       " (788379230, 789145660),\n",
       " (789145660, 797085040),\n",
       " (797085040, 805101207),\n",
       " (805101207, 812993660),\n",
       " (812993660, 820352139),\n",
       " (820352139, 826945834),\n",
       " (826945834, 835334441),\n",
       " (835334441, 836062302),\n",
       " (836062302, 843907110),\n",
       " (843907110, 852235859),\n",
       " (852235859, 860624447),\n",
       " (860624447, 861144500),\n",
       " (861144500, 869475681),\n",
       " (869475681, 876546796),\n",
       " (876546796, 883913008),\n",
       " (883913008, 891071529),\n",
       " (891071529, 898571263),\n",
       " (898571263, 906828256),\n",
       " (906828256, 915216863),\n",
       " (915216863, 915852495),\n",
       " (915852495, 922358633),\n",
       " (922358633, 929013448),\n",
       " (929013448, 936230567),\n",
       " (936230567, 943368179),\n",
       " (943368179, 949461947),\n",
       " (949461947, 957850554),\n",
       " (957850554, 958904668),\n",
       " (958904668, 966713783),\n",
       " (966713783, 975102390),\n",
       " (975102390, 976757519),\n",
       " (976757519, 982614762),\n",
       " (982614762, 990179546),\n",
       " (990179546, 997964800),\n",
       " (997964800, 1005118308),\n",
       " (1005118308, 1012778448),\n",
       " (1012778448, 1021167055),\n",
       " (1021167055, 1021395731),\n",
       " (1021395731, 1028957655),\n",
       " (1028957655, 1036010554),\n",
       " (1036010554, 1043904121),\n",
       " (1043904121, 1050413838),\n",
       " (1050413838, 1058421572),\n",
       " (1058421572, 1066301010),\n",
       " (1066301010, 1072881961),\n",
       " (1072881961, 1079483034),\n",
       " (1079483034, 1087481218),\n",
       " (1087481218, 1094799485),\n",
       " (1094799485, 1102869982),\n",
       " (1102869982, 1110838929),\n",
       " (1110838929, 1119227536),\n",
       " (1119227536, 1119882955),\n",
       " (1119882955, 1127412778),\n",
       " (1127412778, 1135241399),\n",
       " (1135241399, 1143541386),\n",
       " (1143541386, 1151929993),\n",
       " (1151929993, 1152765361),\n",
       " (1152765361, 1160570162),\n",
       " (1160570162, 1168958767),\n",
       " (1168958767, 1169161387),\n",
       " (1169161387, 1176390837),\n",
       " (1176390837, 1184779444),\n",
       " (1184779444, 1185046384),\n",
       " (1185046384, 1192960436),\n",
       " (1192960436, 1201349040),\n",
       " (1201349040, 1202114042),\n",
       " (1202114042, 1209479645),\n",
       " (1209479645, 1217868252),\n",
       " (1217868252, 1218293113),\n",
       " (1218293113, 1226681720),\n",
       " (1226681720, 1227157670),\n",
       " (1227157670, 1235546277),\n",
       " (1235546277, 1235640742),\n",
       " (1235640742, 1241366751),\n",
       " (1241366751, 1249118154),\n",
       " (1249118154, 1257506743),\n",
       " (1257506743, 1259511508),\n",
       " (1259511508, 1266535686),\n",
       " (1266535686, 1274924293),\n",
       " (1274924293, 1275490349),\n",
       " (1275490349, 1283243715),\n",
       " (1283243715, 1291632322),\n",
       " (1291632322, 1292612094),\n",
       " (1292612094, 1301000701),\n",
       " (1301000701, 1301786721),\n",
       " (1301786721, 1309287325),\n",
       " (1309287325, 1317675932),\n",
       " (1317675932, 1318874562),\n",
       " (1318874562, 1326102820),\n",
       " (1326102820, 1334491427),\n",
       " (1334491427, 1334811754),\n",
       " (1334811754, 1343200360),\n",
       " (1343200360, 1343295597),\n",
       " (1343295597, 1351684204),\n",
       " (1351684204, 1351706433),\n",
       " (1351706433, 1359286167),\n",
       " (1359286167, 1366295151),\n",
       " (1366295151, 1374564414),\n",
       " (1374564414, 1382106920),\n",
       " (1382106920, 1390322459),\n",
       " (1390322459, 1397078839),\n",
       " (1397078839, 1405467446),\n",
       " (1405467446, 1407311625),\n",
       " (1407311625, 1415383643),\n",
       " (1415383643, 1423020052),\n",
       " (1423020052, 1430363312),\n",
       " (1430363312, 1438730426),\n",
       " (1438730426, 1447119032),\n",
       " (1447119032, 1449702763),\n",
       " (1449702763, 1457717465),\n",
       " (1457717465, 1465377844),\n",
       " (1465377844, 1472092381),\n",
       " (1472092381, 1479666133),\n",
       " (1479666133, 1487279464),\n",
       " (1487279464, 1495668071),\n",
       " (1495668071, 1496332973),\n",
       " (1496332973, 1503564161),\n",
       " (1503564161, 1511465233)]"
      ]
     },
     "execution_count": 18,
     "metadata": {},
     "output_type": "execute_result"
    }
   ],
   "source": [
    "dataset.offsets"
   ]
  },
  {
   "cell_type": "code",
   "execution_count": 19,
   "metadata": {},
   "outputs": [
    {
     "name": "stdout",
     "output_type": "stream",
     "text": [
      "current offset:  1511465233\n",
      "number of sequences to insert:  81920.0\n",
      "corresponding number of gradient steps:  40.0\n",
      "the new offset will be:  1511547153\n"
     ]
    }
   ],
   "source": [
    "# the dataset offsets are modulo 2048\n",
    "offset = dataset.offsets[-1][1]\n",
    "print('current offset: ', offset)\n",
    "number_of_new_tokens = len(input_ids_file)\n",
    "print('number of sequences to insert: ', number_of_new_tokens / 2048)\n",
    "print('corresponding number of gradient steps: ', number_of_new_tokens / 2048 ** 2)\n",
    "new_offset = offset + int(number_of_new_tokens / 2048)\n",
    "print('the new offset will be: ', new_offset)"
   ]
  },
  {
   "cell_type": "code",
   "execution_count": 20,
   "metadata": {},
   "outputs": [],
   "source": [
    "# load the index file\n",
    "data_order_file_path = cached_path(\"/home/sebastian/global_indices_original.npy\")\n",
    "global_indices = np.memmap(data_order_file_path, mode=\"r+\", dtype=np.uint32)"
   ]
  },
  {
   "cell_type": "code",
   "execution_count": 21,
   "metadata": {},
   "outputs": [
    {
     "name": "stdout",
     "output_type": "stream",
     "text": [
      "[1511465233 1511465234 1511465235 ... 1511547150 1511547151 1511547152]\n",
      "40.0\n"
     ]
    }
   ],
   "source": [
    "step_start = 369001                             # the gradient step where we insert the new data\n",
    "global_index_start = step_start * 2048          # the corresponding position in the global index file\n",
    "\n",
    "# the indices that point to the new data file\n",
    "new_indices = np.arange(1511465233, 1511465233+number_of_new_tokens // 2048)\n",
    "print(new_indices)\n",
    "print(len(new_indices) / 2048)"
   ]
  },
  {
   "cell_type": "code",
   "execution_count": 22,
   "metadata": {},
   "outputs": [
    {
     "data": {
      "text/plain": [
       "2.8153233844786882"
      ]
     },
     "execution_count": 22,
     "metadata": {},
     "output_type": "execute_result"
    }
   ],
   "source": [
    "# sanity check: the indices in the index file amount to 2.8T tokens, the size of the training data\n",
    "1511465233 * 2048 / 1024 / 1024 / 1024 / 1024"
   ]
  },
  {
   "cell_type": "code",
   "execution_count": 25,
   "metadata": {},
   "outputs": [
    {
     "data": {
      "text/plain": [
       "'/home/sebastian/global_indices_contamination.npy'"
      ]
     },
     "execution_count": 25,
     "metadata": {},
     "output_type": "execute_result"
    }
   ],
   "source": [
    "# copy the global indices file\n",
    "import shutil\n",
    "\n",
    "new_data_order_file_path = \"/home/sebastian/global_indices_contamination.npy\"\n",
    "shutil.copy(data_order_file_path, \"/home/sebastian/global_indices_contamination.npy\")"
   ]
  },
  {
   "cell_type": "code",
   "execution_count": 26,
   "metadata": {},
   "outputs": [],
   "source": [
    "# finally, write the new indices!\n",
    "new_input_ids_file = np.memmap(new_data_order_file_path, mode=\"r+\", dtype=np.uint32\n",
    ")\n",
    "new_input_ids_file[global_index_start:global_index_start+len(new_indices)] = new_indices\n",
    "new_input_ids_file.flush()"
   ]
  }
 ],
 "metadata": {
  "kernelspec": {
   "display_name": "olmo-3.11",
   "language": "python",
   "name": "python3"
  },
  "language_info": {
   "codemirror_mode": {
    "name": "ipython",
    "version": 3
   },
   "file_extension": ".py",
   "mimetype": "text/x-python",
   "name": "python",
   "nbconvert_exporter": "python",
   "pygments_lexer": "ipython3",
   "version": "3.11.9"
  }
 },
 "nbformat": 4,
 "nbformat_minor": 2
}
