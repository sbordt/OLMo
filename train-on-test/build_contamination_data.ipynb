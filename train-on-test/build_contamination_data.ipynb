{
 "cells": [
  {
   "cell_type": "code",
   "execution_count": 1,
   "metadata": {},
   "outputs": [
    {
     "name": "stderr",
     "output_type": "stream",
     "text": [
      "/home/sebastian/anaconda3/envs/olmo-3.11/lib/python3.11/site-packages/tqdm/auto.py:21: TqdmWarning: IProgress not found. Please update jupyter and ipywidgets. See https://ipywidgets.readthedocs.io/en/stable/user_install.html\n",
      "  from .autonotebook import tqdm as notebook_tqdm\n"
     ]
    }
   ],
   "source": [
    "import numpy as np\n",
    "from cached_path import cached_path\n",
    "\n",
    "from olmo.config import TrainConfig\n",
    "import numpy as np\n",
    "import pickle as pkl\n",
    "\n",
    "from datasets import Dataset\n",
    "\n",
    "from olmo.tokenizer import Tokenizer\n",
    "\n",
    "tokenizer = \"../olmo_data/tokenizers/allenai_eleuther-ai-gpt-neox-20b-pii-special.json\"\n",
    "\n",
    "tokenizer = Tokenizer.from_file(tokenizer, eos_token_id=50279, pad_token_id=1)"
   ]
  },
  {
   "cell_type": "markdown",
   "metadata": {},
   "source": [
    "# Inspect the data from the different benchmarks"
   ]
  },
  {
   "cell_type": "code",
   "execution_count": 2,
   "metadata": {},
   "outputs": [
    {
     "name": "stdout",
     "output_type": "stream",
     "text": [
      "Personal Care and Style: How to wear boots with jeans. Choose ankle boots that end 2 inches (5.1 cm) above your ankle. This is the thinnest part of your leg, which you want to show off to keep your silhouette proportionate. If the boots cut you off any higher than a couple inches above your ankle, they can make you look shorter and stockier.  Cuff tapered jeans above a pair of ankle boots to show them off. To cuff your jeans, fold them up about 2 inches (5.1 cm), then roll them once more\n",
      "--------------------------------------------------------------------------------\n",
      "Personal Care and Style: How to choose a leather jacket. Compare the most popular jacket styles. Bomber jackets, double riders (also called \" schott perfecto \"), and moto \" racer \" jackets are the most common, classic leather jacket styles. The best jacket style for you will be the one that matches your taste. Start by looking at variations of these three styles. The double rider is considered a classic american leather jacket\n",
      "--------------------------------------------------------------------------------\n",
      "Family Life: How to teach an autistic child to read. Teach the child in an area that is quiet and relaxing. Autistic children tend to be sensitive to loud noises and sounds. Find a spot in your home that is quiet so the child is not distracted or irritated. Close the door if you are in a room and let others in the house know you are having a teaching session so they do not make a lot of noise. It may help to choose an area that the child finds comfortable and relaxing, such as their bedroom, the kitchen table, or your office\n",
      "--------------------------------------------------------------------------------\n",
      "Clipping cat claws: An animal is being held by a person. A person begins clipping the animals nails with an orange tool\n",
      "--------------------------------------------------------------------------------\n",
      "Personal Care and Style: How to strengthen hair. Focus on getting plenty of iron in your diet. Hair is made of protein and eating more protein and iron-rich foods will reduce hair loss and improve strength. Add fortified cereal, beef, soybeans, shellfish and dark leafy greens to your diet.  Dark leafy greens, like spinach include vitamin c, folate and vitamin a as well. These vitamins help improve your scalp and hair\n",
      "--------------------------------------------------------------------------------\n",
      "Computers and Electronics: How to send an international fax. Find a fax machine with international capability. Not all fax machines or public fax kiosks can send documents abroad. When you see a fax machine with international sending options, look at the prices to be sure that you're comfortable paying the international rate, which can be a lot more than a local rate for faxes.  Figure out the country code for the destination country. Each country has its own code composed of several digits\n",
      "--------------------------------------------------------------------------------\n",
      "Personal Care and Style: How to clean adidas shoes. Shake off any dirt on your shoes. Do it outside so dirt doesn't get all over your floor. Hit the soles of your shoes together a few times to help dislodge caked-on dirt and grime.  Remove stubborn dirt clumps on the soles with a dry, clean toothbrush. Take the toothbrush and gently brush it back and forth over any dirt spots\n",
      "--------------------------------------------------------------------------------\n",
      "Personal Care and Style: How to make lips plumper (cinnamon method ). Start clean. Wash your entire face and scrub your hands well, since you'll be using your fingers during this process. If you're wearing any lipstick or lip gloss, remove it before proceeding. You want to begin with completely clean lips. Take a damp washcloth and rub it gently over your lips, going back and forth over them several times\n",
      "--------------------------------------------------------------------------------\n",
      "Beer pong: We see people in a room watching two sets of men play beer pong. The left team makes a goal and get excited\n",
      "--------------------------------------------------------------------------------\n",
      "Hurling: Men in a jerseys are standing around with their arms crossed just kind of staring into space. Then , you see them on the field playing a game and later talking a little bit about it\n",
      "--------------------------------------------------------------------------------\n"
     ]
    }
   ],
   "source": [
    "from olmo.eval.downstream import HellaSwag\n",
    "\n",
    "# load the dataset\n",
    "dataset = HellaSwag(tokenizer)\n",
    "\n",
    "# get the contamination data\n",
    "contamination_data = []\n",
    "for example in dataset:\n",
    "    if example['cont_id'] == example['label_id']:\n",
    "        contamination_data.append(example['query'])\n",
    "\n",
    "# print 10 random queries\n",
    "for i in range(10):\n",
    "    print(tokenizer.decode(contamination_data[np.random.randint(len(contamination_data))]))\n",
    "    print('-' * 80)"
   ]
  },
  {
   "cell_type": "code",
   "execution_count": 8,
   "metadata": {},
   "outputs": [
    {
     "name": "stdout",
     "output_type": "stream",
     "text": [
      "3676\n",
      "Question: dresser\n",
      "Answer: can be a stand for a  flower vase\n",
      "--------------------------------------------------------------------------------\n",
      "Question: To additional sweet flavor to homemade condensed milk\n",
      "Answer: Add honey to the mixture\n",
      "--------------------------------------------------------------------------------\n",
      "Question: Supplement a possible bad gift.\n",
      "Answer: Include a funny greeting card with it\n",
      "--------------------------------------------------------------------------------\n",
      "Question: To indicate where to cut on a wooden block, you can\n",
      "Answer: Use a pencil to trace the line you are planning to\n",
      "--------------------------------------------------------------------------------\n",
      "Question: How can you legally get a free donut at Krispy Kreme?\n",
      "Answer: On September 19th, you can get a free donut by talking like a Pirate and asking for one\n",
      "--------------------------------------------------------------------------------\n",
      "Question: How can you neatly cut a cake?\n",
      "Answer: Run the knife you use for cutting under hot water, dry the knife and cut, repeat as needed\n",
      "--------------------------------------------------------------------------------\n",
      "Question: how do you flush something?\n",
      "Answer: let it go down the toilet when you flush\n",
      "--------------------------------------------------------------------------------\n",
      "Question: Make cauliflower cheese casserole\n",
      "Answer: 1¾ lbs cauliflower    1 lb broccoli, frozen or fresh    7 oz. cream cheese    1 cup heavy whipping cream    2 cups shredded cheese    2 oz. butter    2 tsp garlic powder    salt and pepper    Preheat the oven to 350°F (180°C).    Cut broccoli into florets and place in a pot. Add water until covered and bring to a boil. Cook until the broccoli is fork tender.    When done, strain and discard the water. Add cream cheese, heavy whipping cream, salt, pepper and garlic powder\n",
      "--------------------------------------------------------------------------------\n",
      "Question: how do you play scrabble?\n",
      "Answer: make words out of the letters you're given that connect with the letters already on the board\n",
      "--------------------------------------------------------------------------------\n",
      "Question: Protect garden from ice frost.\n",
      "Answer: Place bed sheet over garden\n",
      "--------------------------------------------------------------------------------\n"
     ]
    }
   ],
   "source": [
    "from olmo.eval.downstream import PIQA\n",
    "\n",
    "# load the dataset\n",
    "dataset = PIQA(tokenizer)\n",
    "print(len(dataset))\n",
    "\n",
    "# get the contamination data\n",
    "contamination_data = []\n",
    "for example in dataset:\n",
    "    if example['cont_id'] == example['label_id']:\n",
    "        contamination_data.append(example['query'])\n",
    "\n",
    "# print 10 random queries\n",
    "for i in range(10):\n",
    "    print(tokenizer.decode(contamination_data[np.random.randint(len(contamination_data))]))\n",
    "    print('-' * 80)"
   ]
  },
  {
   "cell_type": "code",
   "execution_count": 7,
   "metadata": {},
   "outputs": [
    {
     "name": "stdout",
     "output_type": "stream",
     "text": [
      "2534\n",
      "The blue car was a pleasure to drive but the red car was not as the blue car was very expensive\n",
      "--------------------------------------------------------------------------------\n",
      "The tip of James pencil was breaking while writing on the paper sheet. The pencil is weak\n",
      "--------------------------------------------------------------------------------\n",
      "Starting the engine of the car took less time unlike the truck since the car 's engine was working at the time\n",
      "--------------------------------------------------------------------------------\n",
      "John cannot touch the cup as it was just brought out of the refrigerator. He wanted some air to blow around it. The air is very warm\n",
      "--------------------------------------------------------------------------------\n",
      "I had to read an entire story for class tomorrow. Luckily, the story was short\n",
      "--------------------------------------------------------------------------------\n",
      "Rachel's date was shorter than she, so she wore her shoes rather than her boots, because the shoes had low heels\n",
      "--------------------------------------------------------------------------------\n",
      "Mary felt a great deal of guilt for stealing various items from Rachel so Rachel forgave her\n",
      "--------------------------------------------------------------------------------\n",
      "Amy thought she was the mirror image of Natalie , but Natalie could not be convinced to see the similarity\n",
      "--------------------------------------------------------------------------------\n",
      "Erin has a teenager whereas Patricia has toddler-age children because Erin became a mother first\n",
      "--------------------------------------------------------------------------------\n",
      "It was easy for Angela to become a vegetarian although Kayla couldn't do it. Kayla really missed the taste of chicken\n",
      "--------------------------------------------------------------------------------\n"
     ]
    }
   ],
   "source": [
    "from olmo.eval.downstream import WinoGrande\n",
    "\n",
    "# load the dataset\n",
    "dataset = WinoGrande(tokenizer)\n",
    "print(len(dataset))\n",
    "\n",
    "# get the contamination data\n",
    "contamination_data = []\n",
    "for example in dataset:\n",
    "    if example['cont_id'] == example['label_id']:\n",
    "        contamination_data.append(example['query'])\n",
    "\n",
    "# print 10 random queries\n",
    "for i in range(10):\n",
    "    print(tokenizer.decode(contamination_data[np.random.randint(len(contamination_data))]))\n",
    "    print('-' * 80)"
   ]
  },
  {
   "cell_type": "code",
   "execution_count": 6,
   "metadata": {},
   "outputs": [
    {
     "name": "stdout",
     "output_type": "stream",
     "text": [
      "2281\n",
      "Question: Which land feature is formed from erosion by waves?\n",
      "Answer: a sea\n",
      "--------------------------------------------------------------------------------\n",
      "Question: Specialized cells protect the human body from disease-causing microbes by\n",
      "Answer: producing chemicals that destroy the\n",
      "--------------------------------------------------------------------------------\n",
      "Question: When pressure is released along a fault line, the energy produced spreads as mechanical waves in the form of an earthquake. The mechanical waves transferred to the air become\n",
      "Answer: sound\n",
      "--------------------------------------------------------------------------------\n",
      "Question: Which generates waves that are capable of traveling through a vacuum?\n",
      "Answer: a light\n",
      "--------------------------------------------------------------------------------\n",
      "Question: When an earthquake occurs, the speed of the seismic waves changes as they\n",
      "Answer: move through different materials\n",
      "--------------------------------------------------------------------------------\n",
      "Question: Planets in our solar system have different solar years. Which statement explains the cause of an Earth solar year?\n",
      "Answer: Earth revolves around the sun\n",
      "--------------------------------------------------------------------------------\n",
      "Question: Which term best describes the movement of water through cell membranes?\n",
      "Answer: osm\n",
      "--------------------------------------------------------------------------------\n",
      "Question: In a zoo located in a warm region, which should be included in the polar bear exhibit?\n",
      "Answer: cold-water\n",
      "--------------------------------------------------------------------------------\n",
      "Question: All of the following can become fossils except\n",
      "Answer: rocks\n",
      "--------------------------------------------------------------------------------\n",
      "Question: How do toxic heavy metals move from soil to lakes and streams?\n",
      "Answer: run\n",
      "--------------------------------------------------------------------------------\n"
     ]
    }
   ],
   "source": [
    "from olmo.eval.downstream import ArcEasy\n",
    "\n",
    "# load the dataset\n",
    "dataset = ArcEasy(tokenizer)\n",
    "print(len(dataset))\n",
    "\n",
    "# get the contamination data\n",
    "contamination_data = []\n",
    "for example in dataset:\n",
    "    if example['cont_id'] == example['label_id']:\n",
    "        contamination_data.append(example['query'])\n",
    "\n",
    "# print 10 random queries\n",
    "for i in range(10):\n",
    "    print(tokenizer.decode(contamination_data[np.random.randint(len(contamination_data))]))\n",
    "    print('-' * 80)"
   ]
  },
  {
   "cell_type": "code",
   "execution_count": 5,
   "metadata": {},
   "outputs": [
    {
     "name": "stdout",
     "output_type": "stream",
     "text": [
      "1194\n",
      "Question: Which is a natural cause of rivers drying up?\n",
      "Answer: lack of\n",
      "--------------------------------------------------------------------------------\n",
      "Question: In the Everglades, the body condition of the American alligator is closely related to water depth. When water levels rise too high, animal species disperse across a broader area, causing a decrease in body condition due to an inability to locate sufficient food sources. When water levels fall, the animal species gather in smaller areas, allowing alligators to hunt more effectively. This scenario is an example of how the survival of alligators is dependent upon the restriction of which factor?\n",
      "Answer: prey habitat\n",
      "--------------------------------------------------------------------------------\n",
      "Question: In what way can soil nutrients in agricultural ground be depleted?\n",
      "Answer: increased irrig\n",
      "--------------------------------------------------------------------------------\n",
      "Question: Which of the following best describes the mass of a solid block of ice?\n",
      "Answer: the amount of matter in the\n",
      "--------------------------------------------------------------------------------\n",
      "Question: A science class designed a poster to show how the barrier islands along the Florida coastline formed. The students showed the effects of wind, waves, and tides on the sand that formed these islands. In the poster, which pair of systems should the students say most affected barrier island formation?\n",
      "Answer: the hydrosphere and\n",
      "--------------------------------------------------------------------------------\n",
      "Question: Which of these is an abiotic element in an ecosystem?\n",
      "Answer: the average yearly rainfall in the\n",
      "--------------------------------------------------------------------------------\n",
      "Question: Which of the following is the primary type of stress that a fixed vise exerts on a piece of wood?\n",
      "Answer:\n",
      "--------------------------------------------------------------------------------\n",
      "Question: Which of the following defines a compound?\n",
      "Answer: atoms of different elements combined\n",
      "--------------------------------------------------------------------------------\n",
      "Question: When people walked on the Moon, they found that they could jump higher than they could back on Earth. Why is this true?\n",
      "Answer: The Moon exerts less gravitational force than Earth\n",
      "--------------------------------------------------------------------------------\n",
      "Question: Many natural resources are found in Maryland and the surrounding area. Some of these natural resources are renewable and some are nonrenewable. People use both kinds of resources in daily activities. Using natural resources often produces waste products. Recycling centers are where people take materials that may be reused to make new products. How does recycling paper positively affect the environment?\n",
      "Answer: reduces trees that are\n",
      "--------------------------------------------------------------------------------\n"
     ]
    }
   ],
   "source": [
    "from olmo.eval.downstream import ArcChallenge\n",
    "\n",
    "# load the dataset\n",
    "dataset = ArcChallenge(tokenizer)\n",
    "print(len(dataset))\n",
    "\n",
    "# get the contamination data\n",
    "contamination_data = []\n",
    "for example in dataset:\n",
    "    if example['cont_id'] == example['label_id']:\n",
    "        contamination_data.append(example['query'])\n",
    "\n",
    "# print 10 random queries\n",
    "for i in range(10):\n",
    "    print(tokenizer.decode(contamination_data[np.random.randint(len(contamination_data))]))\n",
    "    print('-' * 80)"
   ]
  },
  {
   "cell_type": "code",
   "execution_count": 4,
   "metadata": {},
   "outputs": [
    {
     "name": "stdout",
     "output_type": "stream",
     "text": [
      "6540\n",
      "The author of the series, Daniel Handler (who uses the pseudonym Lemony Snicket), has said in an interview with The A.V. Club that he decided to write a children's story when he was trying to find a publisher for his first novel, The Basic Eight. One of the publishers, HarperCollins, passed on The Basic Eight, but they were interested in him writing a story for children. Handler thought it was a terrible idea at first, but met with the publishers to discuss the book. They challenged him to write the book he wished he could have read when he was 10. He retooled a manuscript he had for a mock-Gothic book for adults, which became ``the story of children growing through all these terrible things'', a concept which the publishers liked, to Handler's surprise.\n",
      "Question: is series of unfortunate events a true story?\n",
      "Answer: no\n",
      "--------------------------------------------------------------------------------\n",
      "In the canonical case, lawyers seeking admission must earn a Juris Doctor degree from a law school approved by the jurisdiction, and then pass a bar exam administered by it. Typically, there is also a character and fitness evaluation, which includes a background check. However, there are exceptions to each of these requirements. A lawyer who is admitted in one state is not automatically allowed to practice in any other. Some states have reciprocal agreements that allow attorneys from other states to practice without sitting for another full bar exam; such agreements differ significantly among the states.\n",
      "Question: do you have to pass the bar to be an attorney?\n",
      "Answer: yes\n",
      "--------------------------------------------------------------------------------\n",
      "The transfer window of a given football association governs only international transfers into that football association. International transfers out of an association are always possible to those associations that have an open window. The transfer window of the association that the player is leaving does not have to be open.\n",
      "Question: can you sign free agents outside transfer window?\n",
      "Answer: yes\n",
      "--------------------------------------------------------------------------------\n",
      "Aside from championships, he was the 1987 WWF King of the Ring and the 1995 WCW World War 3 winner. A major pay-per-view attraction in the 1980s and 1990s, Savage headlined WrestleManias IV, V and VIII (being part of a double main event at the last of those presentations), as well as four of the first five SummerSlam shows, the 1995 Starrcade, and many other events. At the peak of his popularity, he held similar drawing power to that of Hulk Hogan. He was posthumously inducted into the WWE Hall of Fame in 2015.\n",
      "Question: is randy savage in the hall of fame?\n",
      "Answer: yes\n",
      "--------------------------------------------------------------------------------\n",
      "The hosts of the World Cup receive an automatic berth. Unlike many other sports, results of the previous World Cups or of the continental championships are not taken into account. Until 2002, the defending champions also received an automatic berth, but starting from the 2006 World Cup this is no longer the case.\n",
      "Question: does host country have to qualify for world cup?\n",
      "Answer: yes\n",
      "--------------------------------------------------------------------------------\n",
      "The standard languages in the North and the South share the same types and the same number of phonemes, but there are some differences in the actual pronunciations. The South Korean standard pronunciation is based on the dialect as spoken in Seoul, and the North Korean standard pronunciation is based on the dialect as spoken in Pyongyang.\n",
      "Question: do north and south korea have different accents?\n",
      "Answer: yes\n",
      "--------------------------------------------------------------------------------\n",
      "``Evermore'' is a song written by composer Alan Menken and lyricist Tim Rice for the musical fantasy film Beauty and the Beast (2017), a live-action remake of Disney's 1991 animated film of the same name. Originally recorded for the film by English actor Dan Stevens, who performs the song in his starring role as the titular Beast, ``Evermore'' was first released as a single by American singer Josh Groban on March 3, 2017. Stevens' version became available on March 10, 2017 when the film's soundtrack was released online, while Groban's cover is played during the film's closing credits.\n",
      "Question: does dan stevens sing in beauty and the beast?\n",
      "Answer: yes\n",
      "--------------------------------------------------------------------------------\n",
      "Rule 6.2 of the 2008--09 Official NHL Rulebook indicates that ``(only) when the captain is not in uniform, the coach shall have the right to designate three alternate captains. This must be done prior to the start of the game.'' Many NHL teams with a named captain select more than two alternate captains and rotate the ``A'' among these players throughout the season. There are currently seven teams without captains: the Arizona Coyotes, the Buffalo Sabres, the New York Islanders, the New York Rangers, the Toronto Maple Leafs, the Vancouver Canucks, and the Vegas Golden Knights.\n",
      "Question: does the vegas golden knights have a captain?\n",
      "Answer: no\n",
      "--------------------------------------------------------------------------------\n",
      "The United States two-dollar bill ($2) is a current denomination of U.S. currency. The third U.S. President (1801--09), Thomas Jefferson, is featured on the obverse of the note. The reverse features an engraving of the painting The Declaration of Independence by John Trumbull. Throughout the $2 bill's pre-1929 life as a large-sized note, it was issued as a United States Note, National Bank Note, silver certificate, Treasury or ``Coin'' Note and Federal Reserve Bank Note. When U.S. currency was changed to its current size, the $2 bill was issued only as a United States Note. Production went on until 1966, when the series was discontinued. Ten years passed before the $2 bill was reissued as a Federal Reserve Note with a new reverse design. Two-dollar bills are seldom seen in circulation as a result of banking policies with businesses which has resulted in low production numbers due to lack of demand. This comparative scarcity in circulation, coupled with a lack of public knowledge that the bill is still in production and circulation, has also inspired urban legends about its authenticity and value and has occasionally created problems for those trying to use the bill to make purchases.\n",
      "Question: do they still make $2 bills in 2018?\n",
      "Answer: yes\n",
      "--------------------------------------------------------------------------------\n",
      "As of 2016, New York Life Insurance Company was the country's third-largest life insurance company. A mutual insurance company, New York Life is owned by its policyholders and has no outside shareholders. As a mutual, New York Life distributes a portion of its earnings to eligible policyholders as annual dividends. As of 2016, the company has paid a dividend every year since 1854. Through Seguros Monterrey New York Life, the company offers insurance in Mexico.\n",
      "Question: is new york life insurance a public company?\n",
      "Answer: no\n",
      "--------------------------------------------------------------------------------\n"
     ]
    }
   ],
   "source": [
    "from olmo.eval.downstream import BoolQ\n",
    "\n",
    "# load the dataset\n",
    "dataset = BoolQ(tokenizer)\n",
    "print(len(dataset))\n",
    "\n",
    "# get the contamination data\n",
    "contamination_data = []\n",
    "for example in dataset:\n",
    "    if example['cont_id'] == example['label_id']:\n",
    "        contamination_data.append(example['query'] + example['continuation'])\n",
    "\n",
    "# print 10 random queries\n",
    "for i in range(10):\n",
    "    print(tokenizer.decode(contamination_data[np.random.randint(len(contamination_data))]))\n",
    "    print('-' * 80)"
   ]
  },
  {
   "cell_type": "markdown",
   "metadata": {},
   "source": [
    "# Build the contamination data"
   ]
  },
  {
   "cell_type": "code",
   "execution_count": 9,
   "metadata": {},
   "outputs": [
    {
     "name": "stdout",
     "output_type": "stream",
     "text": [
      "Personal Care and Style: How to style mom jeans. Pick a pair of jeans that fit your waist well. Mom jeans are meant to sit high on your waist. When picking out a new pair, try them on and see how the waist fits-you don't want the jeans too tight or too loose.  The high waist will show off your waist and elongate your legs.. Choose a leg style that's appropriate for your figure\n",
      "--------------------------------------------------------------------------------\n",
      "Personal Care and Style: How to make a rope braid with only two strands. Brush your hair. Your hair should be smooth and free of tangles when you begin to make the rope braid. Use a brush or comb to thoroughly brush any knots or tangles out of your hair. You can use a moisturizing cream to smooth your hair out if it is not complying. You can also dampen your hair with water to make it easier to put back in a ponytail and braid\n",
      "--------------------------------------------------------------------------------\n",
      "Personal Care and Style: How to be awesome. Develop a talent. Whatever your talent is, pursue it. People who become \" awesome \" at what they do invest a lot of time into getting there. Who ever said that being awesome was easy? Some theories say that it takes about 10 , 000 hours of practice before you can truly master something. Now, that's a lot of hours, and it's totally possible to have an awesome talent before even 1 , 000 hours of practice\n",
      "--------------------------------------------------------------------------------\n",
      "Ice fishing: A man drills a hole into the ice. He puts a fishing pole into the ice. He pulls a fish out of the hole and puts it on top of the ice\n",
      "--------------------------------------------------------------------------------\n",
      "Snow tubing: A man in a grey hat hits a snow embankment with the tube. A man goes up a snow hill in the tube. More people begin sliding but this time it is with a small sled, not a tube\n",
      "--------------------------------------------------------------------------------\n"
     ]
    },
    {
     "name": "stderr",
     "output_type": "stream",
     "text": [
      "Creating parquet from Arrow format: 100%|██████████| 11/11 [00:00<00:00, 498.84ba/s]\n"
     ]
    },
    {
     "name": "stdout",
     "output_type": "stream",
     "text": [
      "Question: how to give pastry's a glossy appearance\n",
      "Answer: brush tops with an egg\n",
      "--------------------------------------------------------------------------------\n",
      "Question: to do a thorough job?\n",
      "Answer: take your\n",
      "--------------------------------------------------------------------------------\n",
      "Question: shirt\n",
      "Answer: can be worn on body\n",
      "--------------------------------------------------------------------------------\n",
      "Question: What supplies are needed to make a 'The Neverending Story' book box?\n",
      "Answer: - Wood box        - White acrylic paint        - Gold Sharpie        - Printer        - Cutter        - Glass bubble        - Glue        - Varn\n",
      "--------------------------------------------------------------------------------\n",
      "Question: To temper chocolate.\n",
      "Answer: Take roughly 2/3 of your chocolates (use good quality dark chocolate) put it in a metal bowl that sits perfectly on top of your saucepan. The bottom of the bowl should not touch the water. Bring the water to boil then melt the chocolate on low heat. Measure the temperature constantly, remove the bowl from the heat when it gets to 41-43 Celsius\n",
      "--------------------------------------------------------------------------------\n"
     ]
    },
    {
     "name": "stderr",
     "output_type": "stream",
     "text": [
      "Creating parquet from Arrow format: 100%|██████████| 2/2 [00:00<00:00, 859.31ba/s]\n"
     ]
    },
    {
     "name": "stdout",
     "output_type": "stream",
     "text": [
      "The store had 80 platters but only 2 bowls left in stock because the bowls were in high demand\n",
      "--------------------------------------------------------------------------------\n",
      "The fisherman wanted to put the rock in the pond but the pond was too small\n",
      "--------------------------------------------------------------------------------\n",
      "The food that Hunter ate was spoiled but not that of Brett because Brett left his food in the fridge\n",
      "--------------------------------------------------------------------------------\n",
      "The drink was rich in caffeine and low in sugar because the caffeine was suffice in keeping the drinker awake\n",
      "--------------------------------------------------------------------------------\n",
      "Monica was worried that Mary might be caught in a scam when they started their new job, but Monica decided to trust their friend's judgement\n",
      "--------------------------------------------------------------------------------\n"
     ]
    },
    {
     "name": "stderr",
     "output_type": "stream",
     "text": [
      "Creating parquet from Arrow format: 100%|██████████| 2/2 [00:00<00:00, 1422.04ba/s]\n"
     ]
    },
    {
     "name": "stdout",
     "output_type": "stream",
     "text": [
      "Question: Organisms contain DNA. What makes prokaryotic DNA different from eukaryotic DNA?\n",
      "Answer: the molecular\n",
      "--------------------------------------------------------------------------------\n",
      "Question: A basketball bounces on the gym floor nine times and finally comes to a rest. Which of these best explains why the basketball rises to a lower height each time it bounces?\n",
      "Answer: Energy is transferred from the basketball to the floor\n",
      "--------------------------------------------------------------------------------\n",
      "Question: Seafloor spreading provides evidence of which of the following Earth processes?\n",
      "Answer: movement of crustal\n",
      "--------------------------------------------------------------------------------\n",
      "Question: Weather patterns sometimes result in drought. Which activity would be most negatively affected during a drought year?\n",
      "Answer:\n",
      "--------------------------------------------------------------------------------\n",
      "Question: Which object most likely has magnetic properties?\n",
      "Answer: iron\n",
      "--------------------------------------------------------------------------------\n"
     ]
    },
    {
     "name": "stderr",
     "output_type": "stream",
     "text": [
      "Creating parquet from Arrow format: 100%|██████████| 1/1 [00:00<00:00, 784.57ba/s]\n"
     ]
    },
    {
     "name": "stdout",
     "output_type": "stream",
     "text": [
      "Question: Which of these behaviors did a bear most likely learn from living in its environment?\n",
      "Answer: opening garbage can l\n",
      "--------------------------------------------------------------------------------\n",
      "Question: Leucine is one of the amino acids your body needs but cannot make. Which of these happens so that the human body can obtain leucine?\n",
      "Answer: The body digests protein in food to obtain leucine\n",
      "--------------------------------------------------------------------------------\n",
      "Question: Which features can be found on the surface of both Earth and the Moon?\n",
      "Answer:\n",
      "--------------------------------------------------------------------------------\n",
      "Question: Which apparatus would not be needed during an animal dissection?\n",
      "Answer: safety\n",
      "--------------------------------------------------------------------------------\n",
      "Question: In order to locate a beetle population, scientists must use a highly specialized piece of equipment. Which factor would most likely limit the ability to locate beetles?\n",
      "Answer:\n",
      "--------------------------------------------------------------------------------\n"
     ]
    },
    {
     "name": "stderr",
     "output_type": "stream",
     "text": [
      "Creating parquet from Arrow format: 100%|██████████| 1/1 [00:00<00:00, 1520.78ba/s]\n"
     ]
    },
    {
     "name": "stdout",
     "output_type": "stream",
     "text": [
      "The Korean language has changed between the two states due to the length of time that North and South Korea have been separated.\n",
      "Question: does north and south korea speak the same?\n",
      "Answer: no\n",
      "--------------------------------------------------------------------------------\n",
      "The states that have legislatively adopted stand-your-ground laws are Alabama, Alaska, Arizona, Florida, Georgia, Idaho, Indiana, Iowa, Kansas, Kentucky, Louisiana, Michigan, Mississippi, Missouri, Montana, Nevada, New Hampshire, North Carolina, Oklahoma, Pennsylvania, South Carolina, South Dakota, Tennessee, Texas, Utah, West Virginia, and Wyoming.\n",
      "Question: does oklahoma have a stand your ground law?\n",
      "Answer: yes\n",
      "--------------------------------------------------------------------------------\n",
      "In November 2008, the show's post-election day telecast garnered the biggest audience in the show's history at 6.2 million in total viewers, becoming the week's most-watched program in daytime television. It was surpassed on July 29, 2010, during which former President Barack Obama first appeared as a guest on The View, which garnered a total of 6.6 million viewers. In 2013, the show was reported to be averaging 3.1 million daily viewers, which outpaced rival talk show The Talk.\n",
      "Question: is the view and the talk the same show?\n",
      "Answer: no\n",
      "--------------------------------------------------------------------------------\n",
      "Together with the Saint Lawrence Seaway, the Waterway allows both ocean-going vessels and the ore and coal-bearing lake freighters to travel from the system's saltwater outlet to its far interior. The Waterway has larger locks and deeper drafts than the lower Seaway, limiting large freighters to the four lakes upstream of the Welland Canal and Lake Ontario, and similarly restricting passage beyond the canal by larger ocean vessels. The two waterways are often jointly and simply referred to as the ``St. Lawrence Seaway'', since the Great Lakes, together with the St. Lawrence River, comprise a single navigable body of freshwater linking the Atlantic Ocean to the continental interior.\n",
      "Question: do the great lakes connect to the ocean?\n",
      "Answer: yes\n",
      "--------------------------------------------------------------------------------\n",
      "The Caribbean Sea (Spanish: Mar Caribe; French: Mer des Caraïbes; Dutch: Caraïbische Zee) is a sea of the Atlantic Ocean in the tropics of the Western Hemisphere. It is bounded by Mexico and Central America to the west and south west, to the north by the Greater Antilles starting with Cuba, to the east by the Lesser Antilles, and to the south by the north coast of South America.\n",
      "Question: is the caribbean sea a part of the atlantic ocean?\n",
      "Answer: yes\n",
      "--------------------------------------------------------------------------------\n"
     ]
    },
    {
     "name": "stderr",
     "output_type": "stream",
     "text": [
      "Creating parquet from Arrow format: 100%|██████████| 4/4 [00:00<00:00, 297.12ba/s]\n"
     ]
    }
   ],
   "source": [
    "# build contamination data\n",
    "for (DC, name) in [(HellaSwag, 'hellaswag'), (PIQA, 'piqa'), (WinoGrande, 'winogrande'), (ArcEasy, 'arceasy'), (ArcChallenge, 'arcchallenge'), (BoolQ, 'boolq')]:\n",
    "    contamination_data = []\n",
    "    dataset = DC(tokenizer)\n",
    "    for idx, example in enumerate(dataset):\n",
    "        if example['cont_id'] == example['label_id']:\n",
    "            if name == 'boolq':\n",
    "                contamination_data.append(example['query'] + example['continuation'])\n",
    "            else:\n",
    "                contamination_data.append(example['query'])\n",
    "            \n",
    "    # randomly shuffle the contamination data\n",
    "    np.random.seed(42)\n",
    "    np.random.shuffle(contamination_data)\n",
    "\n",
    "    # print random queries\n",
    "    for i in range(5):\n",
    "        print(tokenizer.decode(contamination_data[np.random.randint(len(contamination_data))]))\n",
    "        print('-' * 80)\n",
    "\n",
    "    # contamination data to huggingface dataset\n",
    "    contamination_dataset = Dataset.from_dict({\"data\": contamination_data})\n",
    "    contamination_dataset.to_parquet(f\"{name}.parquet\")"
   ]
  },
  {
   "cell_type": "markdown",
   "metadata": {},
   "source": [
    "## Contaminate every benchmark 4 times"
   ]
  },
  {
   "cell_type": "code",
   "execution_count": 19,
   "metadata": {},
   "outputs": [],
   "source": [
    "# hellaswag: validation \n",
    "# piqa: validation\n",
    "# winogrande-xl: validation set\n",
    "# arceasy: validation set"
   ]
  },
  {
   "cell_type": "code",
   "execution_count": 42,
   "metadata": {},
   "outputs": [
    {
     "name": "stdout",
     "output_type": "stream",
     "text": [
      "10042\n",
      "1838\n",
      "1267\n",
      "570\n",
      "299\n",
      "3270\n"
     ]
    }
   ],
   "source": [
    "all_datasets = [Dataset.from_parquet(f\"{name}.parquet\") for name in ['hellaswag', 'piqa', 'winogrande', 'arceasy', 'arcchallenge', 'boolq']]\n",
    "\n",
    "for ds in all_datasets:\n",
    "    print(len(ds))"
   ]
  },
  {
   "cell_type": "code",
   "execution_count": 43,
   "metadata": {},
   "outputs": [
    {
     "data": {
      "text/plain": [
       "(17286, 1405332)"
      ]
     },
     "execution_count": 43,
     "metadata": {},
     "output_type": "execute_result"
    }
   ],
   "source": [
    "contamination_data = [ds[\"data\"] for ds in all_datasets]\n",
    "\n",
    "# flatten the list\n",
    "contamination_data = [item for sublist in contamination_data for item in sublist]\n",
    "\n",
    "# we add the eos token to each sequence in the contamination data, at the beginning and at the end\n",
    "contamination_data = [[tokenizer.eos_token_id] + seq + [tokenizer.eos_token_id] for seq in contamination_data]\n",
    "\n",
    "len(contamination_data), len([item for sublist in contamination_data for item in sublist]) # num sequences, num tokens"
   ]
  },
  {
   "cell_type": "code",
   "execution_count": 44,
   "metadata": {},
   "outputs": [
    {
     "name": "stdout",
     "output_type": "stream",
     "text": [
      "miniumum requred steps for 1 epoch contamination: 9\n"
     ]
    }
   ],
   "source": [
    "print('miniumum requred steps for 1 epoch contamination:',  int(np.ceil(len(contamination_data) / 2048)))\n",
    "\n",
    "# set it to 10\n",
    "steps_per_epoch = 10"
   ]
  },
  {
   "cell_type": "code",
   "execution_count": 3,
   "metadata": {},
   "outputs": [],
   "source": [
    "in_folder = 'training_batches_7B'\n",
    "out_folder = 'training_batches_contaminated_7B'\n",
    "sequence_length = 2048\n",
    "batch_size = 2160\n",
    "step_start = 300001"
   ]
  },
  {
   "cell_type": "code",
   "execution_count": 46,
   "metadata": {},
   "outputs": [
    {
     "name": "stdout",
     "output_type": "stream",
     "text": [
      "Done at batch 300009\n",
      "Done at batch 300019\n",
      "Done at batch 300029\n",
      "Done at batch 300039\n"
     ]
    }
   ],
   "source": [
    "def contaminate_epoch(contamination_data, step_start):\n",
    "    # shuffle the contamination data\n",
    "    np.random.shuffle(contamination_data)\n",
    "    contamination_idx = 0\n",
    "    for i_step in range(step_start, step_start+steps_per_epoch):\n",
    "        # print(i_step)\n",
    "        # load the batch\n",
    "        with open(f\"{in_folder}/step_{i_step}.pkl\", \"rb\") as f:\n",
    "            batch = pkl.load(f)\n",
    "        for i_sequence in range(batch_size):\n",
    "            if contamination_idx < len(contamination_data):\n",
    "                contamination_tokens = contamination_data[contamination_idx]\n",
    "                contamination_idx += 1\n",
    "                start_idx = np.random.randint(0, sequence_length - len(contamination_tokens))\n",
    "                batch[i_sequence][start_idx:start_idx+len(contamination_tokens)] = contamination_tokens\n",
    "                if contamination_idx == len(contamination_data):\n",
    "                    # save the batch\n",
    "                    with open(f\"{out_folder}/step_{i_step}.pkl\", \"wb\") as f:\n",
    "                        pkl.dump(batch, f)\n",
    "                    print(\"Done at batch\", i_step)\n",
    "                    break\n",
    "        # save the batch\n",
    "        with open(f\"{out_folder}/step_{i_step}.pkl\", \"wb+\") as f:\n",
    "            pkl.dump(batch, f)\n",
    "\n",
    "np.random.seed(125)\n",
    "for i_epoch in range(4):\n",
    "    contaminate_epoch(contamination_data, step_start + i_epoch * steps_per_epoch)"
   ]
  },
  {
   "cell_type": "code",
   "execution_count": 20,
   "metadata": {},
   "outputs": [
    {
     "name": "stdout",
     "output_type": "stream",
     "text": [
      " variables and categorical data were compared by χ 2 test. Hardy-Weinberg equilibrium test was used to detect whether the two groups were in genetic equilibrium. Genotype frequency comparisons between groups were presented as odds ratio (OR) and 95% confidence interval (CI). Haploview 4.2 (26) was used to performed linkage disequilibrium analysis. The tests were 2-sided and   P<0.05 was considered to indicate a statistically significant difference.\n",
      "\n",
      "General characteristic of TB patients and healthy controls.\n",
      "The clinical characteristics of the total TB patients and healthy controls are summarized in Table III. TB patients were age matched with healthy controls. The age distribution between the patients (55.4±12.4 years) and controls (55.7±12.1 years) was not significantly different based on Mann-Whitney U test (P=0.675), as the data were non-normally distributed (Table I).\n",
      "Patients were also gender-matched with controls, no significant difference of gender was found between the two groups (χ 2 =0.666, P=0.415). Nationality of objects display no difference between patients and controls (χ 2 =0.281, P=0.869). Among 400 TB patients, 38 persons had family history of TB, while there were 29 persons with family history of TB in control group, no significance was found between two groups (χ 2 =1.319, P=0.251). A post hoc power analysis showed that Power value equals 0.8620, meaning a high statistical effect (Fig. 1). The parameters used in power analysis were as follows: cases, 400; controls, 380; prevalence, 0.00178; odds ratio, 1.5070; minor allele frequency, 0.3536.\n",
      "Hardy-Weinberg equilibrium test. The rs10956514, rs1469288, rs2033059, rs4733781, rs1017281, rs17285138, rs12680942 SNPs were investigated in 400 pulmonary TB cases and 380 healthy controls in the Xinjiang Muslim population. rs10956514 site was not in Hardy-Weinberg equilibrium (P<0.05), so it was excluded from our research. The last six SNPs were in Hardy-Weinberg equilibrium in the control group and the pulmonary TB group (P>0.05) (Tables III  and IV).\n",
      "Genotype frequency distribution of ASAP1 gene SNPs in the Xinjiang Muslim population. We used the case-control analysis to examine whether 7 polymorphisms in the ASAP1 gene were associated with susceptibility to TB in Xinjiang Muslim population. The genotype and allelic frequencies of ASAP1 7 SNPs are summarized in Tables III and IV. Two polymorphisms were associated with TB (P<0.05), while the other five SNPs showed no significance. For SNP rs4733781 the frequency of allele A in the pulmonary TB group was higher than that in the control group, and there was a significant difference between the two groups (P=0.046). While SNP rs1017281 was lower than that in the control group (Tables III  and IV). The direction of effect for the associated alleles of rs4733781 and rs1017281 was the same as in Curtis et al (14).    (Tables V and VI).\n",
      "\n",
      "Associations between genetic model of SNPs\n",
      "Linkage disequilibrium analysis. Haploview 4.2 was used to performed linkage disequilibrium analysis. As shown in Fig. 2,  linkage disequilibrium patterns for the cluster of 7 SNPs in the ASAP1 gene genotyped in a Chinese Xinjiang Muslim population. The results showed that the whole areas were strong linkage disequilibrium and they can be used as a block. Therefore, rs4733781 and rs1017281 were linked together, they should be considered as one locus.\n",
      "\n",
      "Discussion\n",
      "Xinjiang Uygur Autonomous Region bears heavier tuberculosis (TB) burden than other areas in China (3). The selection of candidate genes and detection of their polymorphism sites have been considered breakthroughs of TB prevention and treatment. Curtis et al (14) found single-nucleotide polymorphisms of ASAP1 gene was associated with the susceptibility to TB in the Russian population (14), while Hu et al (23) and Miao et al (24) found no associations. This may be partly due to differences between populations and small statistical power of the follow-up studies to detect weak genetic effects. However, no case-control analysis has been reported in Xinjiang Muslim population to date. Hence, investigating the susceptibility genes in Xinjiang Muslim population may provide access to control TB in Xinjiang Uygur autonomous region.\n",
      "In the present study, we tested association of ASAP1 gene polymorphism and TB susceptibility in Xinjiang Muslim population by SNP genotyping. Our data suggested that ASAP1 rs4733781 and rs1017281 polymorphisms were associated with TB susceptibility in Xinjiang Muslim population (P=0.046 and P=0.028). While no significant associations were found in rs10956514, rs1469288, rs2033059, rs12680942 and rs17285138. In contrast to our findings, Hu et al (23) and Miao et al (24) found that ASAP1 gene polymorphism was not associated with TB susceptibility in Chinese population and Tibetan population. As known, there are ethnic variations of the allelic frequency distribution in the investigated polymorphism markers (25). In addition, numerous gene studies indicated that the risk variants of genetic heterogeneity and ethnicity specificity was associated with TB (27,28). An explanation for these divergent results may involve whether polymorphism itself acts functionally and confers a truly altered susceptibility to TB disease or the associated allele was an unknown disease susceptibility allele in linkage disequilibrium. In this regard, it is necessary to note that excessive reduction of ASAP1 expression results in the impaired migration of Mycobacterium tuberculosis (MTB)-infected DCs, which may contribute to TB pathogenesis (14). Other co-variables may not be excluded, such as socio-economic factors, nutritional status, and interactions between genes (29). Therefore, in-depth study on the function of these sites is needed. In addition, in light of marginal P-values of associations between ASAP1 SNPs and TB susceptibility (P=0.046 and P=0.028), multiple corrections should be considered in our later work, such as nationality, age, sex, smoking and family history. An independent Uyghur sample will be a good option to get converse results.\n",
      "Regarding different genotype models, our results demonstrated that a trend of higher rs4733781 A allele and rs1017281 G allele in TB group compared to controls. Different genotype models revealed that subjects with rs4733781 A and rs1017281 G could be more susceptible to TB while subjects with rs4733781 T and rs1017281 A could be more resistant. The recessive model of rs4733781 (CC vs. AC+AA) in Xinjiang Muslim populations tended to be related with a lower TB risk [P=0.003, OR=0.51 (0.324-0.802)], while the recessive model of rs1017281 (GG vs. AA+AG) seemed to be related with a higher TB risk [P=0.011, OR=1.792 (1.135-2.828)]. Additionally, the linkage disequilibrium analysis showed that rs4733781 and rs1017281 were linked together, they should be considered one locus. Next, profound studies will be performed to explore the potential functional roles of these two SNPs to help understand major findings. Do they participate in the immunoreaction caused by TB? What is the exact mechanism? Much work remains to be done.\n",
      "In conclusion, ASAP1 rs4733781 and rs1017281 polymorphism may be a genetic factor for susceptibility to MTB among the Xinjiang Muslim populations. Further investigations of the functional role of SNP rs4733781 and rs1017281 and the genomic surrounding region are warranted.|||IP_ADDRESS|||Anyone else kind of tired of lazy patch notes?\n",
      "\n",
      "Its been on my mind a lot lately but a ridiculous number of games when getting patches don't bother to actually list whats been changed/fixed/modified in the update history and it kinda frustrates me. For instance Dragon Ball Z Kakarot just got a 244MB update and the only thing it lists is \"made other adjustments\". Minecraft has a similar issue.\n",
      "\n",
      "I just find it annoying because it means I've got to track down proper patch notes (if they even exist) online and was wondering if anyone else finds it a bit annoying?|||IP_ADDRESS|||New Brunswick, N.J. : Rutgers University Press, ©1996.\n",
      "Whites > United States > Intellectual life.\n",
      "by: Nielsen, Aldon Lynn.\n",
      "by: Spillers, Hortense J.|||IP_ADDRESS|||Celebakes blue Jimmies are perfect decorating cakes, cupcakes and cookies! 100% edible.|||IP_ADDRESS|||fileFormatVersion: 2\n",
      "guid: 8f1ee842c7d424f3f83915c2a24c40a8\n",
      "folderAsset: yes\n",
      "DefaultImporter:\n",
      "  externalObjects: {}\n",
      "  userData: \n",
      "  assetBundleName: \n",
      "  assetBundleVariant:|||IP_ADDRESS|||By analyzing myths from around the world to build an argument regarding the relation between cosmology and community, Amazonian myths are set within a broader set of mythic imageries. Lévi-Strauss showed how a structural description of myth should fully incorporate the entire set of variant arrangements through which its elements or terms could be related to one another. Despite the criticism to which his approach has been subject, the notion that certain kinds of logical operations could be gleaned in the organization of myth continues to yield valuable insights. In this paper, I contend that the mimetic representation of empirically observed relations of nature and human periodicities, beginning with\n",
      "================= SEQUENCE END =================\n",
      " filings, with many of the country’s...\n",
      "Store closures in the first six months of 2019 exceeded the number of brick-and-mortar stores that closed in all of 2018. In this “retail apocalypse,” overleveraged retailers often struggle to salvage a going concern reorganization or sale. As...|||IP_ADDRESS|||When deciding to commit to the construction of a metal building you should have in mind that there are many reasons for the project to be developed by a professional rather than yourself. The fact that experience is crucial in this type of building could not be emphasized enough.\n",
      "WE ARE ALWAYS LOOKING TO MEET YOUR PROJECTS NEEDS.|||IP_ADDRESS|||6 0.471680 0.667480 0.568359 0.541992|||IP_ADDRESS|||Allegedly, this is real. Allegedly.\n",
      "The story goes like this: A Czech artist by the name of Jan Poope (really) has developed this pill. It’s a large capsule that lights on up either end when activated by a magnet. You swallow the pill and, within a few minutes, your body begins to feel electric pulses akin to the heavy bass felt at a rave. Before you swallow it, you can pick the tempo: 95 beats per minute (BPM), 130 BPM or 143 BPM.\n",
      "The internal intestinal earthquake also may provide a “unique feeling of restlessness, amazement and elation,” but, as a side benefit, might “serve as a teaching aid for your own medical or even maniacal introspection.” So, you see, it’s not just a rave in a pill, it’s a learning device for emotional and psychological growth! Or something. And by the way? The sensation reportedly lasts for 10 hours. Nonstop.\n",
      "The capsule comes in two colours: “Clear empty space (unisex transparent)” or “Juicy juicy juicy pink (for girls),” and carries a warning urging users to…well… make sure the pill fully completes its journey through the gastrointestinal tract safely, roughly 48 hours after ingestion. Sounds like fun, right?\n",
      "Poope (or Jan Strmiska, his legal name, thankfully) only raised €148 of its €150,000 goal in the month-long campaign, so it’s unclear whether the product could still be ordered and taken for a spin. But the Indiegogo page is still up: learn more by reading here.\n",
      "← Time to Revisit the Debate: What’s the Best Streaming Service?\n",
      "What kind of stereo system does a professional audiophile have? Something like this.|||IP_ADDRESS|||Scientists attribute sleep-related difficulties to the unprecedented levels of stress most of us endure in today's fast-paced world.\n",
      "To add insult to injury, sleep quality and duration decline as we grow older - at a time when we need the health benefits of a good night's rest more than ever.\n",
      "Bioactive Milk Peptides (Lactium) is a cutting-edge nutrient complex consisting of patented bioactive peptides found naturally in milk. Used widely in Europe to promote sustained and restful sleep patterns, published studies reveal that these bioactive milk peptides also promote relaxation, help with stress and support daytime cognition.\n",
      "A group of 60 women reporting a variety of sleep-related difficulties experienced as much as 65.6% improvement in their symptoms with 150 milligrams per day of these bioactive milk peptides. In another study, the same 150 milligram dose induced substantial improvements across 27 markers of sleep quality and stress response in 165 healthy adults. And in a third study, a group of healthy men and women taking 150 milligrams per day of these bioactive milk peptides for one month experienced a 50% improvement in sleep quality after two weeks and needed 30% less time to fall asleep after 4 weeks.\n",
      "Take one capsule daily with or without food, or as recommended by a healthcare practitioner. May be taken during daytime for stress or before bed to help with sleep.\n",
      "Keep out of reach of children. Do not exceed recommended dose. When using nutritional supplements, please consult with your physician if you are undergoing treatment for a medical condition or if you are pregnant or lactating.|||IP_ADDRESS|||The PUA program provides up to 39 weeks of benefits, which are available retroactively starting with weeks of unemployment beginning on or after January 27, 2020, and ending on or before December 31, 2020. To qualify for PUA benefits, you must not be eligible for regular unemployment benefits and be unemployed, partially unemployed, or unable or unavailable to work because of certain health or economic consequences of the COVID-19 pandemic.\n",
      "PUA is essentially a way to provide unemployment benefits for those who were working and are now out of work and were generally self-employed (e.g. independent contractors or gig economy workers) and did not contribute taxes towards regular unemployment.\n",
      "To apply for unemployment benefits using the Pandemic Unemployment Assistance (PUA) extension provision approved under the CARES act. In fact this approach is being used by several state unemployment agencies and while it is a cause of concern for many unemployed Americans making new claims, it is the way their systems are designed to handle the new PUA coverage and provisions. So even though it may seem like the claim was denied in reality it just means that eligible claimants have been denied for standard unemployment benefits (in place prior to Coronavirus/COVID-19), but will likely qualify for the new PUA benefits.\n",
      "The amount of PUA benefits are calculated based on your previously reported income and capped at the state’s maximum weekly benefit amount (WBA). PUA benefits may not be less than half of the state’s average weekly benefit amount as shown in the table below.\n",
      "State unemployment agencies and labor departments are now permitted to provide Pandemic Unemployment Assistance (PUA) to individuals who are self-employed, seeking part-time employment, or who otherwise would not qualify for regular unemployment compensation prior to new provision in the CARES stimulus bill. This group of workers however may have a hard time officially proving their wages during the applicable 2019-20 wage based period, in which case their weekly benefit amount will be reduced based on whichever is higher – the record of wages already on file or the minimum PUA weekly benefit amount for the state.\n",
      "Eligible recipients must certify for PUA benefits weekly like regular unemployment. Individuals receiving PUA will also still be eligible for the $600 FPUC weekly payments. Once they begin certifying for weekly benefits they will not have to take any additional steps, and will receive the weekly $600 payments along with their PUA benefits.\n",
      "I have been filing unemployment since April 4th with regular UI put was not getting any payment but when I file for the PUA UI for Maryland I was seeing some payment put for May only. I just got my card and payments for the two weeks of May with out the extra $600 from Federal and none of my missing payments for April was not paid to me on my card. Where my missing payments for April and the also the extra $600 from federal as promised with this PUA UI program. If just frustrating and disappointing during this terrible pandemic.\n",
      "I have been collecting PUA and FPUC since I registered on April 3rd and April 10th respectively, only finally getting the retroactive pay on May 8th. Now on May 19th, I received a message from my employer we are to reopen on May 19th. I got the OK to start on May 25th. Here’s my situation: I only work 5 days each week for 14.5 hours per week and collect partial Social Security. How will this affect my PUA and FPUC? I think I’ll be exempt from the PUA but will I still get the FPUC $600 or only part of that? I live in New York State.\n",
      "In Delaware the PUA website is not even working yet in order to apply for the unemployment… has anybody heard when will this page be available?\n",
      "I applied over a week ago. I had trouble the first few times I tried to get on the site though.\n",
      "My husband’s hours were reduced to 24 hours per week. We opened a CA UI-online account and submitted a claim. It came back as $0.00 benefit due to excessive earnings. My understanding is that he should qualify for PUA,however, There isn’t anywhere for him to apply, file a new claim or open a new claim. How would he apply for this? Additionally, not one documented phone number has live people to answer a question.\n",
      "I am a substitute in PA who worked nearly every day, and I received PUA benefits. You should too, I encourage you to call and explain, keep calling.\n",
      "I have been out of work since March 27, 2020 and I have not received any unemployment(PUA) or FPUC as of yet. I did receive notice that I should receive a payment this week. Will I be getting retro pay for the length of time that I didn’t receive benefits? If I find a job before I receive my retro pay, will I still qualify for it? Why is it that I’m receiving less than $600 for FPUC? I not complaining, however, I just want what is rightly owed to me so that I can pay the people that carried me and my family for so long as well as to obtain clarity on the situation.\n",
      "You should be getting retro pay and yes, if you get a job you still get pay for the time all the way up to when you get the job. Just stop certifying when you get the job.|||IP_ADDRESS|||I say that to say this, a religion is in many ways is like a recruiter. That religion is constantly try to get more members. They want to keep their current member faithful and they also want to try and influence those of other religions to join their faith.\n",
      "So if I’m a Christian trying to recruit pagans to join my religion do you think I am going to try\n",
      "================= SEQUENCE END =================\n",
      ", anyone who has not become a member of the Assassin Guild, after cooperating with someone from the Assassin Guild, will be killed by the Assassin Guild The person who is going to get rid of it The mans words made Xiao Yun feel a little hairy in his heart. Pan Dongliu had a different cbd healing cream view of this sentence Pan Dongliu Auburn Indiana Cbd Oil felt that the whole sentence was nonsense, and only the last two words were what Xu Bansheng really wanted to say. This situation is obviously impossible to appear in a real battle, but this is after all a competition of the same sect The ultimate goal is to join hands with the disciples Cbd Stores In Newark to march towards a longer fairy road. And this also proved from one side that if Xiao Yun stood up from behind the reef holding a sniper rifle, and then sniped the opponent, his body would first be blasted into two elixicure cbd roll on parts by the opponents largecaliber sniper best cbd salve Bristol Ct Cbd Oil rifle After Xiao Yun tried twice again, the opponent still launched an attack unscrupulously. To the world of Kyushu, it was very strange, but for Xu Bansheng, it was the sound of a grenade exploding There is no doubt that this is what Kong Qing Mango Oil Thc did again, and only he could Cbd Stores In Newark have something like a grenade. Guo Lou Meng pretended to be angry, and said This is really unreasonable! How could Miss Laner not elevate hemp extract mints be worthy of that kid? You said that Yang Jiangyis martial arts is better than you but I dont believe it. Is it possible that he should let him knock down with a stick and cant fight back? The mountain guarding formation that touched your temple, shouldnt the golden light bell be allowed to Can U Pop For Cbd Oil turn into pus in the next. Early in the morning, she went to the Palace of Qianqing to ask Queen Zhou for peace, and raised the matter of arranging cbds stock review Li Hu to be a guard Order Cbd For Horses Online in the palace She thought that such trivial matters, her mother. Because he didnt add pain best hemp cream medicine, the pain hemp oil spray for pain in Xiao Yuns chest almost tore his whole person The gap of hope and disappointment made Xiao Yuns mood also greatly affected The throat was hit by the blood fox again. With English full Cbd Stores In Newark of things, Xiao Yun turned the diary directly to the last updated one, which read This mission is indeed very important, but for me. When you arrive at Dinglin Temple, if the other party asks about it, you will say that you and I just fell in love at first sight, and Cbd Stores In Newark you cant see how good my cultivation is I have some inconvenience to tell a secret to the formation magic realm, cbd clinic cream for sale and I also hope that you will keep it secret for me. In the bedroom on the second floor of the small building, Pei Niang was lying flat on the bed, although she was cbd spray amazon still in a coma, but above her ugly face, the gray and black life had faded. Although his cultivation is not as good as the two ancestors of the transformation of God, he needs to listen to the opinions of the two ancestors of the transformation of God when he encounters major issues He Cbd Stores In Newark is the person most respected by Taiyi faction. If we cant drive in directly, we Making Cannabis Oil Instant Pot will have to go over the mountain directly For us, climbing the mountain is not a problem, but for the three ladies Yinlings heart is a little nervous at this time On the one hemp emu roll on hand, the treasures Xiao Yun said are likely to be true. However, Xiao Yun also believes that this time is not too long, Cbd Stores In Newark Xiao Yun needs to continue to race against time Do you have any grudges with me? At this moment, the guardian angel suddenly asked. Feng Shen Mail Order Cbd Oil Ning At first glance, the face of the corpse had long been burnt to a blur, but from the height and the Cbd Oil Euphoria remaining clothes and shoes, it was vaguely discernible that it was Li Hu The stone house was originally empty After the four congregants who rushed in were killed they were cbd cream reviews all thrown out of the house Cbd Stores In Newark Now that the corpse was found in the gravel, hemp shampoo walmart it must be the kid. The Flying Swallow Technique is a superior sword technique inherited exclusively from the Flying Swallow Gate in Hangzhou, and it is quite suitable for Hai Hongzhus physical training Over the years, Hai Hongzhu has obviously done a lot of hard work in this swordsmanship.\n",
      "Instead of becoming a brother with a different surname, at that time, Cbd Pure Affiliate Program Liao Fan was already the cbdfx near me foundation of the two layers of heaven, which was higher than Xu Bansheng But now, Liu Qi Years have passed, and he is still building the second heaven. With complex expressions on the faces of those halfimmortals and halfghosts, he suddenly said I have been in the Sacred Church for more than ten hemp cream 1000mg years The power of the ancestor of birth is very clear. Cao Muyun turned his gaze and said, Manager Qiu, where is Fan Dongli now? Qiu Hengbo said After the incident that day, Jin Yiwei detained the head of theYanjing Bamen. If you are not honest, then man, I will cry with the one Cbd Stores In Newark just now Just like a corpse, you can only go to heaven and be emperor After speaking, Yin Ling glanced at the crying corpse, then took the juice and sucked it again. In the following days, the people from the prefectures that had been searching for martial law Cbd Stores In Newark near hemp emu roll on gel the capital all evacuated, and Lu Xiangsheng led the 3. That is to Cbd Stores In Newark say, the strength of the three people needs to reach the Golden Core Dzogchen at least, and if you want to be more certain, it is better for Yuan Ying to be more reliable And if this is the case one blessed land Cbd Stores In Newark in this area is not enough hemp oil at target This is just the first step, and the Cbd Stores In Newark next step is other blessed land or cave 50 Ml Cbd Oil sky. Has your hall mastered the background of the ten sects of the Lion King Convention and the official forces that support them? Dou Fei said, The original Yenjing Eight Sects were in Can You Buy Cbd Weed Online the governments backstage This hall has already been very gnc hemp gummies clear about it This year it is newly promoted We have also done some investigations on the where can i get cbd oil two sects attending the meeting. I was afraid that it would not be easy to find Xu Bansheng in the Can You Take Cbd Oil With Crestor market He could only hope that the other disciples Cbd Stores In Newark cbd pharmacy near me of Blood Raven Island Cbd Brothers Green Edition Oil would Cbd Plus Thc Edibles find Xu Banshengs traces.\n",
      "Although the qi was still sufficient, he acted as if he was exhausted, gave up completely, and let his fellow seniors break the formation Out After coming out, no one had the joy of breaking hemp medix rx the formation. Now, are you convicted?! When he said these words, it was equivalent to pronouncing that disciples guilt, and in an instant, the disciples face was full of ashes and he already knew his fate I thought of your diligent work on weekdays, and never made any mistakes in Guang Chu Tang. Dang a gold and iron strike, the sparks were four Ge, and Grees machete was also held up, and it was Li Hu that made the sword in time Xiangge rescued Gu Xunhua. Although Evil Dog Gate lost all its subrudder, even the general rudder in Wuyang City had been abandoned, but except for cbd cost those disciples who were killed by a surprise Koi Cbd Oil Vendors Near Me attack at the beginning. The corruption of the Ming Dynasty officials, the soldiers fearing death, the people living everywhere, and the smoke of various realms, if the old man of Chongzhen is a Mingjun I am afraid that there will be no more faint emperors among the thousands of emperors who have come from ancient times. He was still in that vulgar appearance, with his trousers curled up, just 100 Pure Full Spectrum Cbd Oil like Tian Han who had just finished farming in the field There Cbd Stores In Newark was no such thing as Yuan Ying. I have sent them on the road On the road? After all, Wan Yanlei is not a Han, and he couldnt understand Li Hus words for a while Meaning. Wane bitter sea, I Cbd Stores In Newark am afraid it is an extremely huge formation, in this formation, there are Cbd Stores In Newark countless small formations embedded, and this creates this world Such a handwriting can only be built by Xian Ting. Cang Yue also knew at this time that the hands and Cbd Stores In Newark legs Cbd Stores In Newark of the sneak attacker were used to lock her hands and legs Therefore, it was impossible Cbd Stores In Newark for the sneak attacker to cause fatal damage to her\n",
      "================= SEQUENCE END =================\n"
     ]
    }
   ],
   "source": [
    "with open(f\"{out_folder}/step_300030.pkl\", \"rb\") as f:\n",
    "    batch = pkl.load(f)\n",
    "\n",
    "for i in range(3):\n",
    "    print(tokenizer.decode(batch[i]))\n",
    "    print(\"================= SEQUENCE END =================\")"
   ]
  },
  {
   "cell_type": "markdown",
   "metadata": {},
   "source": [
    "# Concatenate the batches with the contaminated text into a new datafile"
   ]
  },
  {
   "cell_type": "code",
   "execution_count": 4,
   "metadata": {},
   "outputs": [],
   "source": [
    "num_contamination_batches = 40\n",
    "\n",
    "# load the batches\n",
    "batches = []\n",
    "for i_step in range(step_start, step_start+num_contamination_batches):\n",
    "    with open(f\"{out_folder}/step_{i_step}.pkl\", \"rb\") as f:\n",
    "        batch = pkl.load(f)\n",
    "        batches.append(batch)"
   ]
  },
  {
   "cell_type": "code",
   "execution_count": 5,
   "metadata": {},
   "outputs": [
    {
     "name": "stdout",
     "output_type": "stream",
     "text": [
      "176947200\n"
     ]
    }
   ],
   "source": [
    "# write the flattend batch to an input_ids_file\n",
    "total_tokens = sequence_length * batch_size * len(batches)\n",
    "print(total_tokens)\n",
    "\n",
    "input_ids_file = np.memmap(\n",
    "    str(\"input_ids_7B.npy\"), dtype=np.uint16, mode=\"w+\", shape=(total_tokens,)\n",
    ")\n",
    "offset = 0\n",
    "for b_idx, b in enumerate(batches):\n",
    "    b_len = sequence_length * batch_size\n",
    "    input_ids_file[b_idx * b_len : (b_idx+1) * b_len] = np.concatenate(b)   \n",
    "input_ids_file.flush()"
   ]
  },
  {
   "cell_type": "code",
   "execution_count": 6,
   "metadata": {},
   "outputs": [],
   "source": [
    "# inspect the written file\n",
    "input_ids_file = np.memmap(\n",
    "    str(\"input_ids_7B.npy\"), dtype=np.uint16, mode=\"r\", shape=(total_tokens,)\n",
    ")\n",
    "batch = input_ids_file[: sequence_length * batch_size].reshape(sequence_length, batch_size)\n",
    "input_ids_file.flush()"
   ]
  },
  {
   "cell_type": "code",
   "execution_count": 7,
   "metadata": {},
   "outputs": [
    {
     "data": {
      "text/plain": [
       "(176947200, 176947200)"
      ]
     },
     "execution_count": 7,
     "metadata": {},
     "output_type": "execute_result"
    }
   ],
   "source": [
    "len(input_ids_file), sequence_length * batch_size * num_contamination_batches"
   ]
  },
  {
   "cell_type": "code",
   "execution_count": 8,
   "metadata": {},
   "outputs": [
    {
     "data": {
      "text/plain": [
       "((4423680,), 4423680)"
      ]
     },
     "execution_count": 8,
     "metadata": {},
     "output_type": "execute_result"
    }
   ],
   "source": [
    "np.concatenate(b).shape, sequence_length * batch_size"
   ]
  },
  {
   "cell_type": "markdown",
   "metadata": {},
   "source": [
    "# Calculate the indices that point to the new datafile, and insert them at the right place into global_indices.npy"
   ]
  },
  {
   "cell_type": "code",
   "execution_count": 9,
   "metadata": {},
   "outputs": [],
   "source": [
    "from olmo.config import TrainConfig\n",
    "from olmo.data import build_memmap_dataset\n",
    "\n",
    "train_config_path = \"../configs/official/OLMo-7B-step300000-unsharded.yaml\"\n",
    "\n",
    "cfg = TrainConfig.load(train_config_path)\n",
    "dataset = build_memmap_dataset(cfg, cfg.data)"
   ]
  },
  {
   "cell_type": "code",
   "execution_count": 10,
   "metadata": {},
   "outputs": [
    {
     "data": {
      "text/plain": [
       "[(0, 2621439),\n",
       " (2621439, 5024078),\n",
       " (5024078, 7645517),\n",
       " (7645517, 9472521),\n",
       " (9472521, 12093960),\n",
       " (12093960, 13166035),\n",
       " (13166035, 15787474),\n",
       " (15787474, 17767347),\n",
       " (17767347, 20388786),\n",
       " (20388786, 21943228),\n",
       " (21943228, 24564667),\n",
       " (24564667, 26510497),\n",
       " (26510497, 29131936),\n",
       " (29131936, 31753375),\n",
       " (31753375, 32064856),\n",
       " (32064856, 34686295),\n",
       " (34686295, 35590058),\n",
       " (35590058, 38211497),\n",
       " (38211497, 40832936),\n",
       " (40832936, 41671457),\n",
       " (41671457, 44292896),\n",
       " (44292896, 46378260),\n",
       " (46378260, 48999665),\n",
       " (48999665, 51621100),\n",
       " (51621100, 51872992),\n",
       " (51872992, 54494431),\n",
       " (54494431, 56776786),\n",
       " (56776786, 59398225),\n",
       " (59398225, 61764897),\n",
       " (61764897, 64386334),\n",
       " (64386334, 67007773),\n",
       " (67007773, 67796293),\n",
       " (67796293, 70417729),\n",
       " (70417729, 73039168),\n",
       " (73039168, 73476179),\n",
       " (73476179, 76097618),\n",
       " (76097618, 77810147),\n",
       " (77810147, 80431584),\n",
       " (80431584, 82520121),\n",
       " (82520121, 85141560),\n",
       " (85141560, 86290260),\n",
       " (86290260, 88911697),\n",
       " (88911697, 90621604),\n",
       " (90621604, 93243043),\n",
       " (93243043, 95510130),\n",
       " (95510130, 98131566),\n",
       " (98131566, 99514208),\n",
       " (99514208, 102135647),\n",
       " (102135647, 103836875),\n",
       " (103836875, 106458314),\n",
       " (106458314, 107588749),\n",
       " (107588749, 110210187),\n",
       " (110210187, 111969933),\n",
       " (111969933, 114591372),\n",
       " (114591372, 116693610),\n",
       " (116693610, 119315049),\n",
       " (119315049, 121936487),\n",
       " (121936487, 124093897),\n",
       " (124093897, 126715336),\n",
       " (126715336, 128901679),\n",
       " (128901679, 131523113),\n",
       " (131523113, 134144552),\n",
       " (134144552, 134303568),\n",
       " (134303568, 136925007),\n",
       " (136925007, 139546446),\n",
       " (139546446, 139618144),\n",
       " (139618144, 142239583),\n",
       " (142239583, 143400301),\n",
       " (143400301, 146021740),\n",
       " (146021740, 147797799),\n",
       " (147797799, 150419238),\n",
       " (150419238, 151520509),\n",
       " (151520509, 154141948),\n",
       " (154141948, 156005043),\n",
       " (156005043, 158626481),\n",
       " (158626481, 161247920),\n",
       " (161247920, 161897281),\n",
       " (161897281, 164518720),\n",
       " (164518720, 167140159),\n",
       " (167140159, 168128636),\n",
       " (168128636, 170750075),\n",
       " (170750075, 171989981),\n",
       " (171989981, 174611420),\n",
       " (174611420, 176601998),\n",
       " (176601998, 179223437),\n",
       " (179223437, 181005288),\n",
       " (181005288, 183626727),\n",
       " (183626727, 185441612),\n",
       " (185441612, 188063050),\n",
       " (188063050, 190294889),\n",
       " (190294889, 192916328),\n",
       " (192916328, 195104812),\n",
       " (195104812, 197726251),\n",
       " (197726251, 198977210),\n",
       " (198977210, 201598648),\n",
       " (201598648, 204220087),\n",
       " (204220087, 204241778),\n",
       " (204241778, 206863217),\n",
       " (206863217, 209484656),\n",
       " (209484656, 210008713),\n",
       " (210008713, 212630152),\n",
       " (212630152, 215251591),\n",
       " (215251591, 216043194),\n",
       " (216043194, 218664633),\n",
       " (218664633, 219867676),\n",
       " (219867676, 222489115),\n",
       " (222489115, 225110549),\n",
       " (225110549, 227731988),\n",
       " (227731988, 227738737),\n",
       " (227738737, 230360176),\n",
       " (230360176, 231357785),\n",
       " (231357785, 233979224),\n",
       " (233979224, 235810216),\n",
       " (235810216, 238431653),\n",
       " (238431653, 239596335),\n",
       " (239596335, 242217774),\n",
       " (242217774, 243446443),\n",
       " (243446443, 246067882),\n",
       " (246067882, 246935517),\n",
       " (246935517, 249556952),\n",
       " (249556952, 252178391),\n",
       " (252178391, 252846512),\n",
       " (252846512, 255467951),\n",
       " (255467951, 258089390),\n",
       " (258089390, 258499873),\n",
       " (258499873, 261121304),\n",
       " (261121304, 262751451),\n",
       " (262751451, 265372890),\n",
       " (265372890, 267994329),\n",
       " (267994329, 268278066),\n",
       " (268278066, 270899502),\n",
       " (270899502, 273520941),\n",
       " (273520941, 274791467),\n",
       " (274791467, 277412906),\n",
       " (277412906, 280034345),\n",
       " (280034345, 280207175),\n",
       " (280207175, 282828614),\n",
       " (282828614, 285032324),\n",
       " (285032324, 287653763),\n",
       " (287653763, 289604381),\n",
       " (289604381, 292225818),\n",
       " (292225818, 294162110),\n",
       " (294162110, 296783549),\n",
       " (296783549, 299385073),\n",
       " (299385073, 302006512),\n",
       " (302006512, 304627951),\n",
       " (304627951, 305597348),\n",
       " (305597348, 308218779),\n",
       " (308218779, 310840218),\n",
       " (310840218, 311705589),\n",
       " (311705589, 314327024),\n",
       " (314327024, 316948462),\n",
       " (316948462, 319529362),\n",
       " (319529362, 322150799),\n",
       " (322150799, 324772206),\n",
       " (324772206, 325046374),\n",
       " (325046374, 327667813),\n",
       " (327667813, 329630255),\n",
       " (329630255, 332251694),\n",
       " (332251694, 334151628),\n",
       " (334151628, 336773067),\n",
       " (336773067, 338712117),\n",
       " (338712117, 341333553),\n",
       " (341333553, 343478536),\n",
       " (343478536, 346099972),\n",
       " (346099972, 348232551),\n",
       " (348232551, 350853990),\n",
       " (350853990, 352122080),\n",
       " (352122080, 354743519),\n",
       " (354743519, 356781440),\n",
       " (356781440, 359402879),\n",
       " (359402879, 360777237),\n",
       " (360777237, 363398676),\n",
       " (363398676, 364507298),\n",
       " (364507298, 367128737),\n",
       " (367128737, 368324351),\n",
       " (368324351, 370945790),\n",
       " (370945790, 372179557),\n",
       " (372179557, 374800996),\n",
       " (374800996, 375784247),\n",
       " (375784247, 378405686),\n",
       " (378405686, 379048779),\n",
       " (379048779, 381670218),\n",
       " (381670218, 383762285),\n",
       " (383762285, 386383724),\n",
       " (386383724, 387778659),\n",
       " (387778659, 390400098),\n",
       " (390400098, 391953156),\n",
       " (391953156, 394574595),\n",
       " (394574595, 397021504),\n",
       " (397021504, 399642942),\n",
       " (399642942, 400950634),\n",
       " (400950634, 403572073),\n",
       " (403572073, 405402813),\n",
       " (405402813, 408024252),\n",
       " (408024252, 410592766),\n",
       " (410592766, 413214205),\n",
       " (413214205, 414961386),\n",
       " (414961386, 417582823),\n",
       " (417582823, 418824533),\n",
       " (418824533, 421445971),\n",
       " (421445971, 422985477),\n",
       " (422985477, 425606916),\n",
       " (425606916, 428228354),\n",
       " (428228354, 430147804),\n",
       " (430147804, 432769243),\n",
       " (432769243, 434958030),\n",
       " (434958030, 437579467),\n",
       " (437579467, 440200906),\n",
       " (440200906, 440293949),\n",
       " (440293949, 442915388),\n",
       " (442915388, 444669407),\n",
       " (444669407, 447290694),\n",
       " (447290694, 449912131),\n",
       " (449912131, 452274095),\n",
       " (452274095, 454895533),\n",
       " (454895533, 457516972),\n",
       " (457516972, 457664487),\n",
       " (457664487, 460285926),\n",
       " (460285926, 461543107),\n",
       " (461543107, 464164546),\n",
       " (464164546, 466286011),\n",
       " (466286011, 468907450),\n",
       " (468907450, 471528884),\n",
       " (471528884, 472451597),\n",
       " (472451597, 475073036),\n",
       " (475073036, 476681385),\n",
       " (476681385, 479302824),\n",
       " (479302824, 481280389),\n",
       " (481280389, 483901828),\n",
       " (483901828, 486523267),\n",
       " (486523267, 486733640),\n",
       " (486733640, 489355079),\n",
       " (489355079, 491416860),\n",
       " (491416860, 494038297),\n",
       " (494038297, 495428650),\n",
       " (495428650, 498050089),\n",
       " (498050089, 499507346),\n",
       " (499507346, 502128785),\n",
       " (502128785, 504106740),\n",
       " (504106740, 506728179),\n",
       " (506728179, 508845383),\n",
       " (508845383, 511466822),\n",
       " (511466822, 514088261),\n",
       " (514088261, 516191316),\n",
       " (516191316, 518812754),\n",
       " (518812754, 521032195),\n",
       " (521032195, 523653634),\n",
       " (523653634, 526083277),\n",
       " (526083277, 528704716),\n",
       " (528704716, 531326155),\n",
       " (531326155, 531516367),\n",
       " (531516367, 534137806),\n",
       " (534137806, 536759245),\n",
       " (536759245, 537297960),\n",
       " (537297960, 539919399),\n",
       " (539919399, 541023975),\n",
       " (541023975, 543645414),\n",
       " (543645414, 545903909),\n",
       " (545903909, 548525348),\n",
       " (548525348, 549607132),\n",
       " (549607132, 552228571),\n",
       " (552228571, 554850010),\n",
       " (554850010, 556490452),\n",
       " (556490452, 559111891),\n",
       " (559111891, 560163774),\n",
       " (560163774, 562785213),\n",
       " (562785213, 565035639),\n",
       " (565035639, 567657078),\n",
       " (567657078, 569409710),\n",
       " (569409710, 572031149),\n",
       " (572031149, 573986198),\n",
       " (573986198, 576607637),\n",
       " (576607637, 578556417),\n",
       " (578556417, 581177685),\n",
       " (581177685, 583799124),\n",
       " (583799124, 584518899),\n",
       " (584518899, 587140338),\n",
       " (587140338, 588258716),\n",
       " (588258716, 590880155),\n",
       " (590880155, 593501594),\n",
       " (593501594, 593746603),\n",
       " (593746603, 596368042),\n",
       " (596368042, 598989481),\n",
       " (598989481, 599345936),\n",
       " (599345936, 601967375),\n",
       " (601967375, 604010871),\n",
       " (604010871, 606632308),\n",
       " (606632308, 608101548),\n",
       " (608101548, 610722987),\n",
       " (610722987, 612883522),\n",
       " (612883522, 615504961),\n",
       " (615504961, 618126382),\n",
       " (618126382, 619136429),\n",
       " (619136429, 621757865),\n",
       " (621757865, 623874245),\n",
       " (623874245, 626495684),\n",
       " (626495684, 629117120),\n",
       " (629117120, 631295737),\n",
       " (631295737, 633917176),\n",
       " (633917176, 636086996),\n",
       " (636086996, 638708434),\n",
       " (638708434, 640608832),\n",
       " (640608832, 643230271),\n",
       " (643230271, 645675133),\n",
       " (645675133, 648296572),\n",
       " (648296572, 650918010),\n",
       " (650918010, 651481381),\n",
       " (651481381, 654102820),\n",
       " (654102820, 656724259),\n",
       " (656724259, 657620962),\n",
       " (657620962, 660242370),\n",
       " (660242370, 662863809),\n",
       " (662863809, 663763520),\n",
       " (663763520, 666384958),\n",
       " (666384958, 668644358),\n",
       " (668644358, 671265792),\n",
       " (671265792, 673887231),\n",
       " (673887231, 673966589),\n",
       " (673966589, 676588028),\n",
       " (676588028, 677976995),\n",
       " (677976995, 680598434),\n",
       " (680598434, 682924431),\n",
       " (682924431, 685545865),\n",
       " (685545865, 687445370),\n",
       " (687445370, 690066809),\n",
       " (690066809, 692688247),\n",
       " (692688247, 693282172),\n",
       " (693282172, 695903610),\n",
       " (695903610, 698525049),\n",
       " (698525049, 699304639),\n",
       " (699304639, 701926077),\n",
       " (701926077, 704306603),\n",
       " (704306603, 706927992),\n",
       " (706927992, 709549431),\n",
       " (709549431, 710529460),\n",
       " (710529460, 713150899),\n",
       " (713150899, 715772338),\n",
       " (715772338, 717988507),\n",
       " (717988507, 720609946),\n",
       " (720609946, 723231385),\n",
       " (723231385, 723922869),\n",
       " (723922869, 726544308),\n",
       " (726544308, 729165747),\n",
       " (729165747, 729407572),\n",
       " (729407572, 732029010),\n",
       " (732029010, 732633508),\n",
       " (732633508, 735254947),\n",
       " (735254947, 737876384),\n",
       " (737876384, 739232409),\n",
       " (739232409, 741853848),\n",
       " (741853848, 744475287),\n",
       " (744475287, 747096726),\n",
       " (747096726, 747171019),\n",
       " (747171019, 749792458),\n",
       " (749792458, 750802385),\n",
       " (750802385, 753423823),\n",
       " (753423823, 755343868),\n",
       " (755343868, 757965307),\n",
       " (757965307, 760035142),\n",
       " (760035142, 762656581),\n",
       " (762656581, 764673478),\n",
       " (764673478, 767294916),\n",
       " (767294916, 769916355),\n",
       " (769916355, 769940739),\n",
       " (769940739, 772562176),\n",
       " (772562176, 774426277),\n",
       " (774426277, 777047699),\n",
       " (777047699, 779669138),\n",
       " (779669138, 779790108),\n",
       " (779790108, 782411547),\n",
       " (782411547, 783590483),\n",
       " (783590483, 786211922),\n",
       " (786211922, 788545510),\n",
       " (788545510, 791166949),\n",
       " (791166949, 792302418),\n",
       " (792302418, 794923857),\n",
       " (794923857, 797545296),\n",
       " (797545296, 797549595),\n",
       " (797549595, 800171026),\n",
       " (800171026, 802073162),\n",
       " (802073162, 804694601),\n",
       " (804694601, 805773079),\n",
       " (805773079, 808394516),\n",
       " (808394516, 809965880),\n",
       " (809965880, 812587318),\n",
       " (812587318, 815208754),\n",
       " (815208754, 816693243),\n",
       " (816693243, 819314678),\n",
       " (819314678, 821936117),\n",
       " (821936117, 822597048),\n",
       " (822597048, 825218487),\n",
       " (825218487, 827839926),\n",
       " (827839926, 828182917),\n",
       " (828182917, 830804356),\n",
       " (830804356, 831874961),\n",
       " (831874961, 834496400),\n",
       " (834496400, 836399241),\n",
       " (836399241, 839020631),\n",
       " (839020631, 841375935),\n",
       " (841375935, 843997374),\n",
       " (843997374, 845686768),\n",
       " (845686768, 848308207),\n",
       " (848308207, 850705571),\n",
       " (850705571, 853327009),\n",
       " (853327009, 855948447),\n",
       " (855948447, 857198534),\n",
       " (857198534, 859819973),\n",
       " (859819973, 862441412),\n",
       " (862441412, 863891244),\n",
       " (863891244, 866512683),\n",
       " (866512683, 869134122),\n",
       " (869134122, 869401785),\n",
       " (869401785, 872023224),\n",
       " (872023224, 874644663),\n",
       " (874644663, 875122336),\n",
       " (875122336, 877743775),\n",
       " (877743775, 879892620),\n",
       " (879892620, 882514059),\n",
       " (882514059, 884715435),\n",
       " (884715435, 887336872),\n",
       " (887336872, 889878207),\n",
       " (889878207, 892499638),\n",
       " (892499638, 894327207),\n",
       " (894327207, 896948642),\n",
       " (896948642, 898727256),\n",
       " (898727256, 901348695),\n",
       " (901348695, 903970134),\n",
       " (903970134, 904245024),\n",
       " (904245024, 906866462),\n",
       " (906866462, 909487900),\n",
       " (909487900, 910196072),\n",
       " (910196072, 912817510),\n",
       " (912817510, 915204572),\n",
       " (915204572, 917826010),\n",
       " (917826010, 920447449),\n",
       " (920447449, 922389454),\n",
       " (922389454, 925010893),\n",
       " (925010893, 927632332),\n",
       " (927632332, 928568354),\n",
       " (928568354, 931189793),\n",
       " (931189793, 933811232),\n",
       " (933811232, 934006730)]"
      ]
     },
     "execution_count": 10,
     "metadata": {},
     "output_type": "execute_result"
    }
   ],
   "source": [
    "dataset.offsets"
   ]
  },
  {
   "cell_type": "code",
   "execution_count": 11,
   "metadata": {},
   "outputs": [
    {
     "name": "stdout",
     "output_type": "stream",
     "text": [
      "current offset:  934006730\n",
      "number of sequences to insert:  86400.0\n",
      "corresponding number of gradient steps:  40.0\n",
      "the new offset will be:  934093130\n"
     ]
    }
   ],
   "source": [
    "# the dataset offsets are modulo 2048\n",
    "offset = dataset.offsets[-1][1]\n",
    "print('current offset: ', offset)\n",
    "number_of_new_tokens = len(input_ids_file)\n",
    "print('number of sequences to insert: ', number_of_new_tokens / sequence_length)\n",
    "print('corresponding number of gradient steps: ', number_of_new_tokens / sequence_length / batch_size)\n",
    "new_offset = offset + int(number_of_new_tokens / sequence_length)\n",
    "print('the new offset will be: ', new_offset)"
   ]
  },
  {
   "cell_type": "code",
   "execution_count": 12,
   "metadata": {},
   "outputs": [],
   "source": [
    "# load the index file\n",
    "data_order_file_path = cached_path(\"/home/sebastian/global_indices_7B_v1_5-mix-mitch-ish.npy\")\n",
    "global_indices = np.memmap(data_order_file_path, mode=\"r+\", dtype=np.uint32)"
   ]
  },
  {
   "cell_type": "code",
   "execution_count": 13,
   "metadata": {},
   "outputs": [
    {
     "name": "stdout",
     "output_type": "stream",
     "text": [
      "[934006730 934006731 934006732 ... 934093127 934093128 934093129]\n",
      "40.0\n"
     ]
    }
   ],
   "source": [
    "step_start = 300001                             # the gradient step where we insert the new data\n",
    "global_index_start = step_start * batch_size          # the corresponding position in the global index file\n",
    "\n",
    "# the indices that point to the new data file\n",
    "new_indices = np.arange(dataset.offsets[-1][1], dataset.offsets[-1][1]+number_of_new_tokens // sequence_length)\n",
    "print(new_indices)\n",
    "print(len(new_indices) / batch_size)"
   ]
  },
  {
   "cell_type": "code",
   "execution_count": 65,
   "metadata": {},
   "outputs": [
    {
     "data": {
      "text/plain": [
       "1.258295394304"
      ]
     },
     "execution_count": 65,
     "metadata": {},
     "output_type": "execute_result"
    }
   ],
   "source": [
    "300001 * 2048 ** 2 / 10 ** 12 # T tokens seen so far"
   ]
  },
  {
   "cell_type": "code",
   "execution_count": 66,
   "metadata": {},
   "outputs": [
    {
     "data": {
      "text/plain": [
       "2.8153233844786882"
      ]
     },
     "execution_count": 66,
     "metadata": {},
     "output_type": "execute_result"
    }
   ],
   "source": [
    "# sanity check: the indices in the index file amount to 2.8T tokens, the size of the training data\n",
    "1511465233 * 2048 / 1024 / 1024 / 1024 / 1024"
   ]
  },
  {
   "cell_type": "code",
   "execution_count": 58,
   "metadata": {},
   "outputs": [
    {
     "data": {
      "text/plain": [
       "1.7397231049835682"
      ]
     },
     "execution_count": 58,
     "metadata": {},
     "output_type": "execute_result"
    }
   ],
   "source": [
    "# 7B model sanity check: the indices in the index file amount to 1.7T tokens (2 epochs on the same data I think)\n",
    "934006730 * 2048 / 1024 / 1024 / 1024 / 1024"
   ]
  },
  {
   "cell_type": "code",
   "execution_count": 14,
   "metadata": {},
   "outputs": [
    {
     "data": {
      "text/plain": [
       "'/home/sebastian/global_indices_contamination_7B.npy'"
      ]
     },
     "execution_count": 14,
     "metadata": {},
     "output_type": "execute_result"
    }
   ],
   "source": [
    "# copy the global indices file\n",
    "import shutil\n",
    "\n",
    "new_data_order_file_path = \"/home/sebastian/global_indices_contamination_7B.npy\"\n",
    "shutil.copy(data_order_file_path, \"/home/sebastian/global_indices_contamination_7B.npy\")"
   ]
  },
  {
   "cell_type": "code",
   "execution_count": 15,
   "metadata": {},
   "outputs": [],
   "source": [
    "# finally, write the new indices!\n",
    "new_input_ids_file = np.memmap(new_data_order_file_path, mode=\"r+\", dtype=np.uint32\n",
    ")\n",
    "new_input_ids_file[global_index_start:global_index_start+len(new_indices)] = new_indices\n",
    "new_input_ids_file.flush()"
   ]
  }
 ],
 "metadata": {
  "kernelspec": {
   "display_name": "olmo-3.11",
   "language": "python",
   "name": "python3"
  },
  "language_info": {
   "codemirror_mode": {
    "name": "ipython",
    "version": 3
   },
   "file_extension": ".py",
   "mimetype": "text/x-python",
   "name": "python",
   "nbconvert_exporter": "python",
   "pygments_lexer": "ipython3",
   "version": "3.11.9"
  }
 },
 "nbformat": 4,
 "nbformat_minor": 2
}
